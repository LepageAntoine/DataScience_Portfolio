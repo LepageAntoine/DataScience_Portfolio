{
 "cells": [
  {
   "cell_type": "markdown",
   "metadata": {},
   "source": [
    "<a class=\"anchor\" id=\"top\"></a>\n",
    "# Formation Data Analyst - Projet 6 - Détéctez les faux billets\n",
    "\n",
    "Antoine LEPAGE <br /> \n",
    "yop1001@gmail.com\n",
    "\n",
    "https://openclassrooms.com/projects/detectez-des-faux-billets"
   ]
  },
  {
   "cell_type": "markdown",
   "metadata": {},
   "source": [
    "## Table des matières\n",
    "\n",
    "\n",
    "1. [Contexte](#contexte)<br /> \n",
    "<br /> \n",
    "2. [Construction de l'échantillon](#echantillon)<br /> \n",
    "    2.1. [Chargement des données](#echantillon)<br />\n",
    "    2.2. [Description des données](#description)<br />\n",
    "<br />\n",
    "3. [ACP](#acp)<br /> \n",
    "    3.1. [Eboulis des valeurs propres](#acp)<br />\n",
    "    3.2. [Cercle des corrélations](#cercle_des_correlations)<br />\n",
    "    3.3. [Représentation des individus par les plans factoriels](#representation)<br />\n",
    "    3.4. [Analyse qualité de représentation et contribution des individus](#analyse)<br />\n",
    "    3.5. [Contribution des individus aux axes](#contribution)<br />\n",
    "<br />\n",
    "4. [Classification - Méthode des centres mobiles - KMeans](#kmeans)<br /> \n",
    "    4.1. [Détection du nombre adéquat de groupes](#kmeans)<br />\n",
    "    4.2. [Application de l'algorithme K-means](#algo)<br />\n",
    "    4.3. [Visualisation des groupes sur le plan factoriel de l'ACP](#visualisation)<br />\n",
    "<br />\n",
    "5. [Regression logistique](#regression)<br /> \n",
    "    5.1. [5.1 Modèle](#regression)<br />\n",
    "    5.2. [5.2 Evaluation du modèle](#evaluation)<br /> \n",
    "    5.3. [5.3 Prédiction de l'authenticité à partir de nouveaux billets](#prediction)<br />  \n",
    "   "
   ]
  },
  {
   "cell_type": "markdown",
   "metadata": {},
   "source": [
    "<a class=\"anchor\" id=\"contexte\"></a>\n",
    "## 1. Contexte "
   ]
  },
  {
   "cell_type": "markdown",
   "metadata": {},
   "source": [
    "Votre société de consulting informatique vous propose une nouvelle mission au ministère de l'intérieur, dans le cadre de la lutte contre la criminalité organisée, à l'office central pour la répression du faux monnayage . Votre mission si vous l'acceptez : créer un algorithme de détection de faux billets."
   ]
  },
  {
   "cell_type": "markdown",
   "metadata": {},
   "source": [
    "<a class=\"anchor\" id=\"echantillon\"></a>\n",
    "***\n",
    "## 2. Construction de l'échantillon\n",
    "\n",
    "### 2.1 Chargement données"
   ]
  },
  {
   "cell_type": "code",
   "execution_count": 1,
   "metadata": {},
   "outputs": [],
   "source": [
    "import pandas as pd\n",
    "import numpy as np\n",
    "import matplotlib.pyplot as plt\n",
    "\n",
    "import seaborn as sns\n",
    "\n",
    "#import matplotlib.pyplot as plt\n",
    "#import scipy.stats as st\n",
    "#%matplotlib inline\n",
    "#from scipy.cluster.hierarchy import dendrogram, linkage, fcluster, centroid\n",
    "#from scipy.cluster import hierarchy"
   ]
  },
  {
   "cell_type": "code",
   "execution_count": 2,
   "metadata": {},
   "outputs": [
    {
     "data": {
      "text/html": [
       "<div>\n",
       "<style scoped>\n",
       "    .dataframe tbody tr th:only-of-type {\n",
       "        vertical-align: middle;\n",
       "    }\n",
       "\n",
       "    .dataframe tbody tr th {\n",
       "        vertical-align: top;\n",
       "    }\n",
       "\n",
       "    .dataframe thead th {\n",
       "        text-align: right;\n",
       "    }\n",
       "</style>\n",
       "<table border=\"1\" class=\"dataframe\">\n",
       "  <thead>\n",
       "    <tr style=\"text-align: right;\">\n",
       "      <th></th>\n",
       "      <th>is_genuine</th>\n",
       "      <th>length</th>\n",
       "      <th>height_left</th>\n",
       "      <th>height_right</th>\n",
       "      <th>margin_low</th>\n",
       "      <th>margin_up</th>\n",
       "      <th>diagonal</th>\n",
       "    </tr>\n",
       "  </thead>\n",
       "  <tbody>\n",
       "    <tr>\n",
       "      <th>165</th>\n",
       "      <td>False</td>\n",
       "      <td>172.11</td>\n",
       "      <td>104.23</td>\n",
       "      <td>104.45</td>\n",
       "      <td>5.24</td>\n",
       "      <td>3.58</td>\n",
       "      <td>111.78</td>\n",
       "    </tr>\n",
       "    <tr>\n",
       "      <th>166</th>\n",
       "      <td>False</td>\n",
       "      <td>173.01</td>\n",
       "      <td>104.59</td>\n",
       "      <td>104.31</td>\n",
       "      <td>5.04</td>\n",
       "      <td>3.05</td>\n",
       "      <td>110.91</td>\n",
       "    </tr>\n",
       "    <tr>\n",
       "      <th>167</th>\n",
       "      <td>False</td>\n",
       "      <td>172.47</td>\n",
       "      <td>104.27</td>\n",
       "      <td>104.10</td>\n",
       "      <td>4.88</td>\n",
       "      <td>3.33</td>\n",
       "      <td>110.68</td>\n",
       "    </tr>\n",
       "    <tr>\n",
       "      <th>168</th>\n",
       "      <td>False</td>\n",
       "      <td>171.82</td>\n",
       "      <td>103.97</td>\n",
       "      <td>103.88</td>\n",
       "      <td>4.73</td>\n",
       "      <td>3.55</td>\n",
       "      <td>111.87</td>\n",
       "    </tr>\n",
       "    <tr>\n",
       "      <th>169</th>\n",
       "      <td>False</td>\n",
       "      <td>171.96</td>\n",
       "      <td>104.00</td>\n",
       "      <td>103.95</td>\n",
       "      <td>5.63</td>\n",
       "      <td>3.26</td>\n",
       "      <td>110.96</td>\n",
       "    </tr>\n",
       "  </tbody>\n",
       "</table>\n",
       "</div>"
      ],
      "text/plain": [
       "     is_genuine  length  height_left  height_right  margin_low  margin_up  \\\n",
       "165       False  172.11       104.23        104.45        5.24       3.58   \n",
       "166       False  173.01       104.59        104.31        5.04       3.05   \n",
       "167       False  172.47       104.27        104.10        4.88       3.33   \n",
       "168       False  171.82       103.97        103.88        4.73       3.55   \n",
       "169       False  171.96       104.00        103.95        5.63       3.26   \n",
       "\n",
       "     diagonal  \n",
       "165    111.78  \n",
       "166    110.91  \n",
       "167    110.68  \n",
       "168    111.87  \n",
       "169    110.96  "
      ]
     },
     "execution_count": 2,
     "metadata": {},
     "output_type": "execute_result"
    }
   ],
   "source": [
    "# Importer les fichers sources\n",
    "data = pd.read_csv('00 - Sources/billets.csv', sep=',')\n",
    "data.tail()"
   ]
  },
  {
   "cell_type": "code",
   "execution_count": 3,
   "metadata": {},
   "outputs": [
    {
     "data": {
      "text/plain": [
       "(170, 7)"
      ]
     },
     "execution_count": 3,
     "metadata": {},
     "output_type": "execute_result"
    }
   ],
   "source": [
    "data.shape"
   ]
  },
  {
   "cell_type": "code",
   "execution_count": 4,
   "metadata": {},
   "outputs": [
    {
     "data": {
      "text/plain": [
       "is_genuine      0\n",
       "length          0\n",
       "height_left     0\n",
       "height_right    0\n",
       "margin_low      0\n",
       "margin_up       0\n",
       "diagonal        0\n",
       "dtype: int64"
      ]
     },
     "execution_count": 4,
     "metadata": {},
     "output_type": "execute_result"
    }
   ],
   "source": [
    "# Vérifions s'il y a des valeurs manquants\n",
    "data.isnull().sum()"
   ]
  },
  {
   "cell_type": "markdown",
   "metadata": {},
   "source": [
    "<a class=\"anchor\" id=\"description\"></a>\n",
    "***\n",
    "### 2.2 Description des données"
   ]
  },
  {
   "cell_type": "code",
   "execution_count": 5,
   "metadata": {},
   "outputs": [
    {
     "data": {
      "text/html": [
       "<div>\n",
       "<style scoped>\n",
       "    .dataframe tbody tr th:only-of-type {\n",
       "        vertical-align: middle;\n",
       "    }\n",
       "\n",
       "    .dataframe tbody tr th {\n",
       "        vertical-align: top;\n",
       "    }\n",
       "\n",
       "    .dataframe thead th {\n",
       "        text-align: right;\n",
       "    }\n",
       "</style>\n",
       "<table border=\"1\" class=\"dataframe\">\n",
       "  <thead>\n",
       "    <tr style=\"text-align: right;\">\n",
       "      <th></th>\n",
       "      <th>length</th>\n",
       "      <th>height_left</th>\n",
       "      <th>height_right</th>\n",
       "      <th>margin_low</th>\n",
       "      <th>margin_up</th>\n",
       "      <th>diagonal</th>\n",
       "    </tr>\n",
       "  </thead>\n",
       "  <tbody>\n",
       "    <tr>\n",
       "      <th>count</th>\n",
       "      <td>170.000000</td>\n",
       "      <td>170.000000</td>\n",
       "      <td>170.000000</td>\n",
       "      <td>170.000000</td>\n",
       "      <td>170.000000</td>\n",
       "      <td>170.000000</td>\n",
       "    </tr>\n",
       "    <tr>\n",
       "      <th>mean</th>\n",
       "      <td>171.940588</td>\n",
       "      <td>104.066353</td>\n",
       "      <td>103.928118</td>\n",
       "      <td>4.612118</td>\n",
       "      <td>3.170412</td>\n",
       "      <td>112.570412</td>\n",
       "    </tr>\n",
       "    <tr>\n",
       "      <th>std</th>\n",
       "      <td>0.305768</td>\n",
       "      <td>0.298185</td>\n",
       "      <td>0.330980</td>\n",
       "      <td>0.702103</td>\n",
       "      <td>0.236361</td>\n",
       "      <td>0.924448</td>\n",
       "    </tr>\n",
       "    <tr>\n",
       "      <th>min</th>\n",
       "      <td>171.040000</td>\n",
       "      <td>103.230000</td>\n",
       "      <td>103.140000</td>\n",
       "      <td>3.540000</td>\n",
       "      <td>2.270000</td>\n",
       "      <td>109.970000</td>\n",
       "    </tr>\n",
       "    <tr>\n",
       "      <th>25%</th>\n",
       "      <td>171.730000</td>\n",
       "      <td>103.842500</td>\n",
       "      <td>103.690000</td>\n",
       "      <td>4.050000</td>\n",
       "      <td>3.012500</td>\n",
       "      <td>111.855000</td>\n",
       "    </tr>\n",
       "    <tr>\n",
       "      <th>50%</th>\n",
       "      <td>171.945000</td>\n",
       "      <td>104.055000</td>\n",
       "      <td>103.950000</td>\n",
       "      <td>4.450000</td>\n",
       "      <td>3.170000</td>\n",
       "      <td>112.845000</td>\n",
       "    </tr>\n",
       "    <tr>\n",
       "      <th>75%</th>\n",
       "      <td>172.137500</td>\n",
       "      <td>104.287500</td>\n",
       "      <td>104.170000</td>\n",
       "      <td>5.127500</td>\n",
       "      <td>3.330000</td>\n",
       "      <td>113.287500</td>\n",
       "    </tr>\n",
       "    <tr>\n",
       "      <th>max</th>\n",
       "      <td>173.010000</td>\n",
       "      <td>104.860000</td>\n",
       "      <td>104.950000</td>\n",
       "      <td>6.280000</td>\n",
       "      <td>3.680000</td>\n",
       "      <td>113.980000</td>\n",
       "    </tr>\n",
       "  </tbody>\n",
       "</table>\n",
       "</div>"
      ],
      "text/plain": [
       "           length  height_left  height_right  margin_low   margin_up  \\\n",
       "count  170.000000   170.000000    170.000000  170.000000  170.000000   \n",
       "mean   171.940588   104.066353    103.928118    4.612118    3.170412   \n",
       "std      0.305768     0.298185      0.330980    0.702103    0.236361   \n",
       "min    171.040000   103.230000    103.140000    3.540000    2.270000   \n",
       "25%    171.730000   103.842500    103.690000    4.050000    3.012500   \n",
       "50%    171.945000   104.055000    103.950000    4.450000    3.170000   \n",
       "75%    172.137500   104.287500    104.170000    5.127500    3.330000   \n",
       "max    173.010000   104.860000    104.950000    6.280000    3.680000   \n",
       "\n",
       "         diagonal  \n",
       "count  170.000000  \n",
       "mean   112.570412  \n",
       "std      0.924448  \n",
       "min    109.970000  \n",
       "25%    111.855000  \n",
       "50%    112.845000  \n",
       "75%    113.287500  \n",
       "max    113.980000  "
      ]
     },
     "execution_count": 5,
     "metadata": {},
     "output_type": "execute_result"
    }
   ],
   "source": [
    "data.describe()"
   ]
  },
  {
   "cell_type": "code",
   "execution_count": 6,
   "metadata": {},
   "outputs": [
    {
     "name": "stdout",
     "output_type": "stream",
     "text": [
      "<class 'pandas.core.frame.DataFrame'>\n",
      "RangeIndex: 170 entries, 0 to 169\n",
      "Data columns (total 7 columns):\n",
      "is_genuine      170 non-null bool\n",
      "length          170 non-null float64\n",
      "height_left     170 non-null float64\n",
      "height_right    170 non-null float64\n",
      "margin_low      170 non-null float64\n",
      "margin_up       170 non-null float64\n",
      "diagonal        170 non-null float64\n",
      "dtypes: bool(1), float64(6)\n",
      "memory usage: 8.2 KB\n"
     ]
    }
   ],
   "source": [
    "data.info()"
   ]
  },
  {
   "cell_type": "code",
   "execution_count": 7,
   "metadata": {},
   "outputs": [
    {
     "data": {
      "image/png": "[encoded data removed]",
      "text/plain": [
       "<matplotlib.figure.Figure at 0x2428eb357f0>"
      ]
     },
     "metadata": {},
     "output_type": "display_data"
    }
   ],
   "source": [
    "sns.set(style=\"ticks\")\n",
    "sns.pairplot(data, hue=\"is_genuine\", palette=[\"r\", \"g\"])\n",
    "\n",
    "plt.savefig('01 - Graphs/01 - Pairplot.png', bbox_inches='tight', dpi=100)"
   ]
  },
  {
   "cell_type": "code",
   "execution_count": 8,
   "metadata": {},
   "outputs": [
    {
     "data": {
      "text/html": [
       "<style  type=\"text/css\" >\n",
       "    #T_a35f1d48_9ef4_11e8_b0f2_d43d7eba8acdrow0_col0 {\n",
       "            background-color:  #023858;\n",
       "        }    #T_a35f1d48_9ef4_11e8_b0f2_d43d7eba8acdrow0_col1 {\n",
       "            background-color:  #69a5cc;\n",
       "        }    #T_a35f1d48_9ef4_11e8_b0f2_d43d7eba8acdrow0_col2 {\n",
       "            background-color:  #88b1d4;\n",
       "        }    #T_a35f1d48_9ef4_11e8_b0f2_d43d7eba8acdrow0_col3 {\n",
       "            background-color:  #c6cce3;\n",
       "        }    #T_a35f1d48_9ef4_11e8_b0f2_d43d7eba8acdrow0_col4 {\n",
       "            background-color:  #b7c5df;\n",
       "        }    #T_a35f1d48_9ef4_11e8_b0f2_d43d7eba8acdrow0_col5 {\n",
       "            background-color:  #8cb3d5;\n",
       "        }    #T_a35f1d48_9ef4_11e8_b0f2_d43d7eba8acdrow1_col0 {\n",
       "            background-color:  #93b5d6;\n",
       "        }    #T_a35f1d48_9ef4_11e8_b0f2_d43d7eba8acdrow1_col1 {\n",
       "            background-color:  #023858;\n",
       "        }    #T_a35f1d48_9ef4_11e8_b0f2_d43d7eba8acdrow1_col2 {\n",
       "            background-color:  #04649e;\n",
       "        }    #T_a35f1d48_9ef4_11e8_b0f2_d43d7eba8acdrow1_col3 {\n",
       "            background-color:  #2c89bd;\n",
       "        }    #T_a35f1d48_9ef4_11e8_b0f2_d43d7eba8acdrow1_col4 {\n",
       "            background-color:  #589ec8;\n",
       "        }    #T_a35f1d48_9ef4_11e8_b0f2_d43d7eba8acdrow1_col5 {\n",
       "            background-color:  #ebe6f2;\n",
       "        }    #T_a35f1d48_9ef4_11e8_b0f2_d43d7eba8acdrow2_col0 {\n",
       "            background-color:  #b1c2de;\n",
       "        }    #T_a35f1d48_9ef4_11e8_b0f2_d43d7eba8acdrow2_col1 {\n",
       "            background-color:  #04649e;\n",
       "        }    #T_a35f1d48_9ef4_11e8_b0f2_d43d7eba8acdrow2_col2 {\n",
       "            background-color:  #023858;\n",
       "        }    #T_a35f1d48_9ef4_11e8_b0f2_d43d7eba8acdrow2_col3 {\n",
       "            background-color:  #187cb6;\n",
       "        }    #T_a35f1d48_9ef4_11e8_b0f2_d43d7eba8acdrow2_col4 {\n",
       "            background-color:  #4a98c5;\n",
       "        }    #T_a35f1d48_9ef4_11e8_b0f2_d43d7eba8acdrow2_col5 {\n",
       "            background-color:  #eae6f1;\n",
       "        }    #T_a35f1d48_9ef4_11e8_b0f2_d43d7eba8acdrow3_col0 {\n",
       "            background-color:  #fff7fb;\n",
       "        }    #T_a35f1d48_9ef4_11e8_b0f2_d43d7eba8acdrow3_col1 {\n",
       "            background-color:  #4496c3;\n",
       "        }    #T_a35f1d48_9ef4_11e8_b0f2_d43d7eba8acdrow3_col2 {\n",
       "            background-color:  #2a88bc;\n",
       "        }    #T_a35f1d48_9ef4_11e8_b0f2_d43d7eba8acdrow3_col3 {\n",
       "            background-color:  #023858;\n",
       "        }    #T_a35f1d48_9ef4_11e8_b0f2_d43d7eba8acdrow3_col4 {\n",
       "            background-color:  #86b0d3;\n",
       "        }    #T_a35f1d48_9ef4_11e8_b0f2_d43d7eba8acdrow3_col5 {\n",
       "            background-color:  #fff7fb;\n",
       "        }    #T_a35f1d48_9ef4_11e8_b0f2_d43d7eba8acdrow4_col0 {\n",
       "            background-color:  #ebe6f2;\n",
       "        }    #T_a35f1d48_9ef4_11e8_b0f2_d43d7eba8acdrow4_col1 {\n",
       "            background-color:  #67a4cc;\n",
       "        }    #T_a35f1d48_9ef4_11e8_b0f2_d43d7eba8acdrow4_col2 {\n",
       "            background-color:  #5a9ec9;\n",
       "        }    #T_a35f1d48_9ef4_11e8_b0f2_d43d7eba8acdrow4_col3 {\n",
       "            background-color:  #76aad0;\n",
       "        }    #T_a35f1d48_9ef4_11e8_b0f2_d43d7eba8acdrow4_col4 {\n",
       "            background-color:  #023858;\n",
       "        }    #T_a35f1d48_9ef4_11e8_b0f2_d43d7eba8acdrow4_col5 {\n",
       "            background-color:  #f5eef6;\n",
       "        }    #T_a35f1d48_9ef4_11e8_b0f2_d43d7eba8acdrow5_col0 {\n",
       "            background-color:  #d7d6e9;\n",
       "        }    #T_a35f1d48_9ef4_11e8_b0f2_d43d7eba8acdrow5_col1 {\n",
       "            background-color:  #fff7fb;\n",
       "        }    #T_a35f1d48_9ef4_11e8_b0f2_d43d7eba8acdrow5_col2 {\n",
       "            background-color:  #fff7fb;\n",
       "        }    #T_a35f1d48_9ef4_11e8_b0f2_d43d7eba8acdrow5_col3 {\n",
       "            background-color:  #fff7fb;\n",
       "        }    #T_a35f1d48_9ef4_11e8_b0f2_d43d7eba8acdrow5_col4 {\n",
       "            background-color:  #fff7fb;\n",
       "        }    #T_a35f1d48_9ef4_11e8_b0f2_d43d7eba8acdrow5_col5 {\n",
       "            background-color:  #023858;\n",
       "        }</style>  \n",
       "<table id=\"T_a35f1d48_9ef4_11e8_b0f2_d43d7eba8acd\" > \n",
       "<thead>    <tr> \n",
       "        <th class=\"blank level0\" ></th> \n",
       "        <th class=\"col_heading level0 col0\" >length</th> \n",
       "        <th class=\"col_heading level0 col1\" >height_left</th> \n",
       "        <th class=\"col_heading level0 col2\" >height_right</th> \n",
       "        <th class=\"col_heading level0 col3\" >margin_low</th> \n",
       "        <th class=\"col_heading level0 col4\" >margin_up</th> \n",
       "        <th class=\"col_heading level0 col5\" >diagonal</th> \n",
       "    </tr></thead> \n",
       "<tbody>    <tr> \n",
       "        <th id=\"T_a35f1d48_9ef4_11e8_b0f2_d43d7eba8acdlevel0_row0\" class=\"row_heading level0 row0\" >length</th> \n",
       "        <td id=\"T_a35f1d48_9ef4_11e8_b0f2_d43d7eba8acdrow0_col0\" class=\"data row0 col0\" >1</td> \n",
       "        <td id=\"T_a35f1d48_9ef4_11e8_b0f2_d43d7eba8acdrow0_col1\" class=\"data row0 col1\" >0.319584</td> \n",
       "        <td id=\"T_a35f1d48_9ef4_11e8_b0f2_d43d7eba8acdrow0_col2\" class=\"data row0 col2\" >0.220418</td> \n",
       "        <td id=\"T_a35f1d48_9ef4_11e8_b0f2_d43d7eba8acdrow0_col3\" class=\"data row0 col3\" >-0.18102</td> \n",
       "        <td id=\"T_a35f1d48_9ef4_11e8_b0f2_d43d7eba8acdrow0_col4\" class=\"data row0 col4\" >-0.0273655</td> \n",
       "        <td id=\"T_a35f1d48_9ef4_11e8_b0f2_d43d7eba8acdrow0_col5\" class=\"data row0 col5\" >0.0802952</td> \n",
       "    </tr>    <tr> \n",
       "        <th id=\"T_a35f1d48_9ef4_11e8_b0f2_d43d7eba8acdlevel0_row1\" class=\"row_heading level0 row1\" >height_left</th> \n",
       "        <td id=\"T_a35f1d48_9ef4_11e8_b0f2_d43d7eba8acdrow1_col0\" class=\"data row1 col0\" >0.319584</td> \n",
       "        <td id=\"T_a35f1d48_9ef4_11e8_b0f2_d43d7eba8acdrow1_col1\" class=\"data row1 col1\" >1</td> \n",
       "        <td id=\"T_a35f1d48_9ef4_11e8_b0f2_d43d7eba8acdrow1_col2\" class=\"data row1 col2\" >0.73439</td> \n",
       "        <td id=\"T_a35f1d48_9ef4_11e8_b0f2_d43d7eba8acdrow1_col3\" class=\"data row1 col3\" >0.42453</td> \n",
       "        <td id=\"T_a35f1d48_9ef4_11e8_b0f2_d43d7eba8acdrow1_col4\" class=\"data row1 col4\" >0.324788</td> \n",
       "        <td id=\"T_a35f1d48_9ef4_11e8_b0f2_d43d7eba8acdrow1_col5\" class=\"data row1 col5\" >-0.421387</td> \n",
       "    </tr>    <tr> \n",
       "        <th id=\"T_a35f1d48_9ef4_11e8_b0f2_d43d7eba8acdlevel0_row2\" class=\"row_heading level0 row2\" >height_right</th> \n",
       "        <td id=\"T_a35f1d48_9ef4_11e8_b0f2_d43d7eba8acdrow2_col0\" class=\"data row2 col0\" >0.220418</td> \n",
       "        <td id=\"T_a35f1d48_9ef4_11e8_b0f2_d43d7eba8acdrow2_col1\" class=\"data row2 col1\" >0.73439</td> \n",
       "        <td id=\"T_a35f1d48_9ef4_11e8_b0f2_d43d7eba8acdrow2_col2\" class=\"data row2 col2\" >1</td> \n",
       "        <td id=\"T_a35f1d48_9ef4_11e8_b0f2_d43d7eba8acdrow2_col3\" class=\"data row2 col3\" >0.509375</td> \n",
       "        <td id=\"T_a35f1d48_9ef4_11e8_b0f2_d43d7eba8acdrow2_col4\" class=\"data row2 col4\" >0.366918</td> \n",
       "        <td id=\"T_a35f1d48_9ef4_11e8_b0f2_d43d7eba8acdrow2_col5\" class=\"data row2 col5\" >-0.417021</td> \n",
       "    </tr>    <tr> \n",
       "        <th id=\"T_a35f1d48_9ef4_11e8_b0f2_d43d7eba8acdlevel0_row3\" class=\"row_heading level0 row3\" >margin_low</th> \n",
       "        <td id=\"T_a35f1d48_9ef4_11e8_b0f2_d43d7eba8acdrow3_col0\" class=\"data row3 col0\" >-0.18102</td> \n",
       "        <td id=\"T_a35f1d48_9ef4_11e8_b0f2_d43d7eba8acdrow3_col1\" class=\"data row3 col1\" >0.42453</td> \n",
       "        <td id=\"T_a35f1d48_9ef4_11e8_b0f2_d43d7eba8acdrow3_col2\" class=\"data row3 col2\" >0.509375</td> \n",
       "        <td id=\"T_a35f1d48_9ef4_11e8_b0f2_d43d7eba8acdrow3_col3\" class=\"data row3 col3\" >1</td> \n",
       "        <td id=\"T_a35f1d48_9ef4_11e8_b0f2_d43d7eba8acdrow3_col4\" class=\"data row3 col4\" >0.171113</td> \n",
       "        <td id=\"T_a35f1d48_9ef4_11e8_b0f2_d43d7eba8acdrow3_col5\" class=\"data row3 col5\" >-0.637352</td> \n",
       "    </tr>    <tr> \n",
       "        <th id=\"T_a35f1d48_9ef4_11e8_b0f2_d43d7eba8acdlevel0_row4\" class=\"row_heading level0 row4\" >margin_up</th> \n",
       "        <td id=\"T_a35f1d48_9ef4_11e8_b0f2_d43d7eba8acdrow4_col0\" class=\"data row4 col0\" >-0.0273655</td> \n",
       "        <td id=\"T_a35f1d48_9ef4_11e8_b0f2_d43d7eba8acdrow4_col1\" class=\"data row4 col1\" >0.324788</td> \n",
       "        <td id=\"T_a35f1d48_9ef4_11e8_b0f2_d43d7eba8acdrow4_col2\" class=\"data row4 col2\" >0.366918</td> \n",
       "        <td id=\"T_a35f1d48_9ef4_11e8_b0f2_d43d7eba8acdrow4_col3\" class=\"data row4 col3\" >0.171113</td> \n",
       "        <td id=\"T_a35f1d48_9ef4_11e8_b0f2_d43d7eba8acdrow4_col4\" class=\"data row4 col4\" >1</td> \n",
       "        <td id=\"T_a35f1d48_9ef4_11e8_b0f2_d43d7eba8acdrow4_col5\" class=\"data row4 col5\" >-0.525284</td> \n",
       "    </tr>    <tr> \n",
       "        <th id=\"T_a35f1d48_9ef4_11e8_b0f2_d43d7eba8acdlevel0_row5\" class=\"row_heading level0 row5\" >diagonal</th> \n",
       "        <td id=\"T_a35f1d48_9ef4_11e8_b0f2_d43d7eba8acdrow5_col0\" class=\"data row5 col0\" >0.0802952</td> \n",
       "        <td id=\"T_a35f1d48_9ef4_11e8_b0f2_d43d7eba8acdrow5_col1\" class=\"data row5 col1\" >-0.421387</td> \n",
       "        <td id=\"T_a35f1d48_9ef4_11e8_b0f2_d43d7eba8acdrow5_col2\" class=\"data row5 col2\" >-0.417021</td> \n",
       "        <td id=\"T_a35f1d48_9ef4_11e8_b0f2_d43d7eba8acdrow5_col3\" class=\"data row5 col3\" >-0.637352</td> \n",
       "        <td id=\"T_a35f1d48_9ef4_11e8_b0f2_d43d7eba8acdrow5_col4\" class=\"data row5 col4\" >-0.525284</td> \n",
       "        <td id=\"T_a35f1d48_9ef4_11e8_b0f2_d43d7eba8acdrow5_col5\" class=\"data row5 col5\" >1</td> \n",
       "    </tr></tbody> \n",
       "</table> "
      ],
      "text/plain": [
       "<pandas.io.formats.style.Styler at 0x242962e3080>"
      ]
     },
     "execution_count": 8,
     "metadata": {},
     "output_type": "execute_result"
    }
   ],
   "source": [
    "# Matrice des corrélations\n",
    "\n",
    "data_num = data.iloc[:, 1:]\n",
    "\n",
    "corr = data_num.corr()\n",
    "corr.style.background_gradient()"
   ]
  },
  {
   "cell_type": "code",
   "execution_count": 9,
   "metadata": {},
   "outputs": [
    {
     "data": {
      "text/plain": [
       "0.6818507654957807"
      ]
     },
     "execution_count": 9,
     "metadata": {},
     "output_type": "execute_result"
    }
   ],
   "source": [
    "# ANOVA - Analyse des Variances - Calcul de eta carré \n",
    "def eta_squared(x,y):\n",
    "    moyenne_y = y.mean()\n",
    "    classes = []\n",
    "    for classe in x.unique():\n",
    "        yi_classe = y[x==classe]\n",
    "        classes.append({'ni': len(yi_classe),\n",
    "                        'moyenne_classe': yi_classe.mean()})\n",
    "    SCT = sum([(yj-moyenne_y)**2 for yj in y])\n",
    "    SCE = sum([c['ni']*(c['moyenne_classe']-moyenne_y)**2 for c in classes])\n",
    "    return SCE/SCT\n",
    "    \n",
    "eta_squared(data[\"is_genuine\"],data[\"diagonal\"])"
   ]
  },
  {
   "cell_type": "code",
   "execution_count": 10,
   "metadata": {},
   "outputs": [
    {
     "data": {
      "text/plain": [
       "0.019383108567093802"
      ]
     },
     "execution_count": 10,
     "metadata": {},
     "output_type": "execute_result"
    }
   ],
   "source": [
    "eta_squared(data[\"is_genuine\"],data[\"length\"])"
   ]
  },
  {
   "cell_type": "code",
   "execution_count": 11,
   "metadata": {},
   "outputs": [
    {
     "data": {
      "text/plain": [
       "0.21319458315018705"
      ]
     },
     "execution_count": 11,
     "metadata": {},
     "output_type": "execute_result"
    }
   ],
   "source": [
    "eta_squared(data[\"is_genuine\"],data[\"height_left\"])"
   ]
  },
  {
   "cell_type": "code",
   "execution_count": 12,
   "metadata": {},
   "outputs": [
    {
     "data": {
      "text/plain": [
       "0.30394154672012125"
      ]
     },
     "execution_count": 12,
     "metadata": {},
     "output_type": "execute_result"
    }
   ],
   "source": [
    "eta_squared(data[\"is_genuine\"],data[\"height_right\"])"
   ]
  },
  {
   "cell_type": "code",
   "execution_count": 13,
   "metadata": {},
   "outputs": [
    {
     "data": {
      "text/plain": [
       "0.640177214288775"
      ]
     },
     "execution_count": 13,
     "metadata": {},
     "output_type": "execute_result"
    }
   ],
   "source": [
    "eta_squared(data[\"is_genuine\"],data[\"margin_low\"])"
   ]
  },
  {
   "cell_type": "code",
   "execution_count": 14,
   "metadata": {},
   "outputs": [
    {
     "data": {
      "text/plain": [
       "0.3396567096032002"
      ]
     },
     "execution_count": 14,
     "metadata": {},
     "output_type": "execute_result"
    }
   ],
   "source": [
    "eta_squared(data[\"is_genuine\"],data[\"margin_up\"])"
   ]
  },
  {
   "cell_type": "code",
   "execution_count": 15,
   "metadata": {},
   "outputs": [],
   "source": [
    "# Séparons les billets selon leur authenticité :\n",
    "billets_v = data[data['is_genuine'] == True]\n",
    "billets_f = data[data['is_genuine'] == False]"
   ]
  },
  {
   "cell_type": "code",
   "execution_count": 16,
   "metadata": {},
   "outputs": [
    {
     "data": {
      "image/png": "[encoded data removed]",
      "text/plain": [
       "<matplotlib.figure.Figure at 0x242965268d0>"
      ]
     },
     "metadata": {},
     "output_type": "display_data"
    }
   ],
   "source": [
    "# Répartition des valeurs des diagonales des billets selon leur authenticité\n",
    "plt.subplot(1,2,1)\n",
    "billets_v['diagonal'].plot(kind='box')\n",
    "plt.ylim(110,114.5)\n",
    "plt.title('Vrais billets', color='g')\n",
    "\n",
    "plt.subplot(1,2,2)\n",
    "billets_f['diagonal'].plot(kind='box')\n",
    "plt.ylim(110,114.5)\n",
    "plt.yticks([]) # pour cacher \n",
    "plt.title('Faux billets', color='r')\n",
    "\n",
    "plt.savefig('01 - Graphs/02 - diagonal.png', bbox_inches='tight', dpi=100)\n",
    "\n",
    "plt.show()"
   ]
  },
  {
   "cell_type": "code",
   "execution_count": 17,
   "metadata": {},
   "outputs": [
    {
     "data": {
      "image/png": "[encoded data removed]",
      "text/plain": [
       "<matplotlib.figure.Figure at 0x2429799b080>"
      ]
     },
     "metadata": {},
     "output_type": "display_data"
    }
   ],
   "source": [
    "# Répartition des valeurs des marges supérieures des billets selon leur authenticité\n",
    "plt.subplot(1,2,1)\n",
    "billets_v['margin_up'].plot(kind='box')\n",
    "plt.ylim(2.4, 3.7)\n",
    "plt.title('Vrais billets', color='g')\n",
    "\n",
    "plt.subplot(1,2,2)\n",
    "billets_f['margin_up'].plot(kind='box')\n",
    "plt.ylim(2.4, 3.7)\n",
    "plt.yticks([]) # pour cacher \n",
    "plt.title('Faux billets', color='r')\n",
    "\n",
    "plt.savefig('01 - Graphs/03 - Margin_up.png', bbox_inches='tight', dpi=100)\n",
    "\n",
    "plt.show()"
   ]
  },
  {
   "cell_type": "code",
   "execution_count": 18,
   "metadata": {},
   "outputs": [
    {
     "data": {
      "image/png": "[encoded data removed]",
      "text/plain": [
       "<matplotlib.figure.Figure at 0x242974ece10>"
      ]
     },
     "metadata": {},
     "output_type": "display_data"
    }
   ],
   "source": [
    "# Répartition des valeurs des marges inférieures des billets selon leur authenticité\n",
    "plt.subplot(1,2,1)\n",
    "billets_v['margin_low'].plot(kind='box')\n",
    "plt.ylim(3.5, 7)\n",
    "plt.title('Vrais billets', color='g')\n",
    "\n",
    "plt.subplot(1,2,2)\n",
    "billets_f['margin_low'].plot(kind='box')\n",
    "plt.ylim(3.5, 7)\n",
    "plt.yticks([]) # pour cacher \n",
    "plt.title('Faux billets', color='r')\n",
    "\n",
    "plt.savefig('01 - Graphs/04 - Margin_low.png', bbox_inches='tight', dpi=100)\n",
    "\n",
    "plt.show()"
   ]
  },
  {
   "cell_type": "code",
   "execution_count": 19,
   "metadata": {},
   "outputs": [
    {
     "data": {
      "image/png": "[encoded data removed]",
      "text/plain": [
       "<matplotlib.figure.Figure at 0x24297585ac8>"
      ]
     },
     "metadata": {},
     "output_type": "display_data"
    }
   ],
   "source": [
    "# Répartition des valeurs des hauteurs droite des billets selon leur authenticité\n",
    "plt.subplot(1,2,1)\n",
    "billets_v['height_right'].plot(kind='box')\n",
    "plt.ylim(103, 104.7)\n",
    "plt.title('Vrais billets', color='g')\n",
    "\n",
    "plt.subplot(1,2,2)\n",
    "billets_f['height_right'].plot(kind='box')\n",
    "plt.ylim(103, 104.7)\n",
    "plt.yticks([]) # pour cacher \n",
    "plt.title('Faux billets', color='r')\n",
    "\n",
    "plt.savefig('01 - Graphs/05 - Height_right.png', bbox_inches='tight', dpi=100)\n",
    "\n",
    "plt.show()"
   ]
  },
  {
   "cell_type": "code",
   "execution_count": 20,
   "metadata": {},
   "outputs": [
    {
     "data": {
      "image/png": "[encoded data removed]",
      "text/plain": [
       "<matplotlib.figure.Figure at 0x2429767aeb8>"
      ]
     },
     "metadata": {},
     "output_type": "display_data"
    }
   ],
   "source": [
    "# Répartition des valeurs des hauteurs gauche des billets selon leur authenticité\n",
    "plt.subplot(1,2,1)\n",
    "billets_v['height_left'].plot(kind='box')\n",
    "plt.ylim(103, 104.7)\n",
    "plt.title('Vrais billets', color='g')\n",
    "\n",
    "plt.subplot(1,2,2)\n",
    "billets_f['height_left'].plot(kind='box')\n",
    "plt.ylim(103, 104.8)\n",
    "plt.yticks([]) # pour cacher \n",
    "plt.title('Faux billets', color='r')\n",
    "\n",
    "plt.savefig('01 - Graphs/06 - Height_left.png', bbox_inches='tight', dpi=100)\n",
    "\n",
    "plt.show()"
   ]
  },
  {
   "cell_type": "code",
   "execution_count": 21,
   "metadata": {},
   "outputs": [
    {
     "data": {
      "image/png": "[encoded data removed]",
      "text/plain": [
       "<matplotlib.figure.Figure at 0x242977070b8>"
      ]
     },
     "metadata": {},
     "output_type": "display_data"
    }
   ],
   "source": [
    "# Répartition des valeurs des longueurs des billets selon leur authenticité\n",
    "plt.subplot(1,2,1)\n",
    "billets_v['length'].plot(kind='box')\n",
    "plt.ylim(171.25, 172.75)\n",
    "plt.title('Vrais billets', color='g')\n",
    "\n",
    "plt.subplot(1,2,2)\n",
    "billets_f['length'].plot(kind='box')\n",
    "plt.ylim(171.25, 172.75)\n",
    "plt.yticks([]) # pour cacher \n",
    "plt.title('Faux billets', color='r')\n",
    "\n",
    "plt.savefig('01 - Graphs/07 - Length.png', bbox_inches='tight', dpi=100)\n",
    "\n",
    "plt.show()"
   ]
  },
  {
   "cell_type": "markdown",
   "metadata": {},
   "source": [
    "<a class=\"anchor\" id=\"acp\"></a>\n",
    "***\n",
    "## 3. ACP\n",
    "\n",
    "### 3.1 Eboulis des valeurs propres"
   ]
  },
  {
   "cell_type": "code",
   "execution_count": 22,
   "metadata": {},
   "outputs": [
    {
     "data": {
      "text/html": [
       "<div>\n",
       "<style scoped>\n",
       "    .dataframe tbody tr th:only-of-type {\n",
       "        vertical-align: middle;\n",
       "    }\n",
       "\n",
       "    .dataframe tbody tr th {\n",
       "        vertical-align: top;\n",
       "    }\n",
       "\n",
       "    .dataframe thead th {\n",
       "        text-align: right;\n",
       "    }\n",
       "</style>\n",
       "<table border=\"1\" class=\"dataframe\">\n",
       "  <thead>\n",
       "    <tr style=\"text-align: right;\">\n",
       "      <th></th>\n",
       "      <th>length</th>\n",
       "      <th>height_left</th>\n",
       "      <th>height_right</th>\n",
       "      <th>margin_low</th>\n",
       "      <th>margin_up</th>\n",
       "      <th>diagonal</th>\n",
       "    </tr>\n",
       "  </thead>\n",
       "  <tbody>\n",
       "    <tr>\n",
       "      <th>0</th>\n",
       "      <td>171.81</td>\n",
       "      <td>104.86</td>\n",
       "      <td>104.95</td>\n",
       "      <td>4.52</td>\n",
       "      <td>2.89</td>\n",
       "      <td>112.83</td>\n",
       "    </tr>\n",
       "    <tr>\n",
       "      <th>1</th>\n",
       "      <td>171.67</td>\n",
       "      <td>103.74</td>\n",
       "      <td>103.70</td>\n",
       "      <td>4.01</td>\n",
       "      <td>2.87</td>\n",
       "      <td>113.29</td>\n",
       "    </tr>\n",
       "    <tr>\n",
       "      <th>2</th>\n",
       "      <td>171.83</td>\n",
       "      <td>103.76</td>\n",
       "      <td>103.76</td>\n",
       "      <td>4.40</td>\n",
       "      <td>2.88</td>\n",
       "      <td>113.84</td>\n",
       "    </tr>\n",
       "    <tr>\n",
       "      <th>3</th>\n",
       "      <td>171.80</td>\n",
       "      <td>103.78</td>\n",
       "      <td>103.65</td>\n",
       "      <td>3.73</td>\n",
       "      <td>3.12</td>\n",
       "      <td>113.63</td>\n",
       "    </tr>\n",
       "    <tr>\n",
       "      <th>4</th>\n",
       "      <td>172.05</td>\n",
       "      <td>103.70</td>\n",
       "      <td>103.75</td>\n",
       "      <td>5.04</td>\n",
       "      <td>2.27</td>\n",
       "      <td>113.55</td>\n",
       "    </tr>\n",
       "  </tbody>\n",
       "</table>\n",
       "</div>"
      ],
      "text/plain": [
       "   length  height_left  height_right  margin_low  margin_up  diagonal\n",
       "0  171.81       104.86        104.95        4.52       2.89    112.83\n",
       "1  171.67       103.74        103.70        4.01       2.87    113.29\n",
       "2  171.83       103.76        103.76        4.40       2.88    113.84\n",
       "3  171.80       103.78        103.65        3.73       3.12    113.63\n",
       "4  172.05       103.70        103.75        5.04       2.27    113.55"
      ]
     },
     "execution_count": 22,
     "metadata": {},
     "output_type": "execute_result"
    }
   ],
   "source": [
    "data_2 = data[['length', 'height_left', 'height_right', 'margin_low', 'margin_up', 'diagonal']]\n",
    "data_2.head()"
   ]
  },
  {
   "cell_type": "code",
   "execution_count": 23,
   "metadata": {},
   "outputs": [
    {
     "name": "stdout",
     "output_type": "stream",
     "text": [
      "(170, 6)\n"
     ]
    }
   ],
   "source": [
    "# Convertir les données en un array numpy\n",
    "X = data_2.values\n",
    "print (X.shape)"
   ]
  },
  {
   "cell_type": "code",
   "execution_count": 24,
   "metadata": {},
   "outputs": [],
   "source": [
    "# Standardisons les données\n",
    "from sklearn import preprocessing\n",
    "std_scale = preprocessing.StandardScaler().fit(X)\n",
    "X_scaled = std_scale.transform(X)"
   ]
  },
  {
   "cell_type": "code",
   "execution_count": 25,
   "metadata": {},
   "outputs": [
    {
     "data": {
      "text/plain": [
       "PCA(copy=True, iterated_power='auto', n_components=None, random_state=None,\n",
       "  svd_solver='auto', tol=0.0, whiten=False)"
      ]
     },
     "execution_count": 25,
     "metadata": {},
     "output_type": "execute_result"
    }
   ],
   "source": [
    "# ACP\n",
    "from sklearn import decomposition\n",
    "\n",
    "# Création d'un objet ACP - sans spécifier le nombre de composantes\n",
    "pca = decomposition.PCA()\n",
    "\n",
    "# On peut également demander à sklearn de choisir le nombre de PCA pour respecter que 95% (exemple) dela variance soit expliquee\n",
    "# pca =PCA(0.95)\n",
    "\n",
    "# Appliquer l'objet PCA aux données normalisées\n",
    "pca.fit(X_scaled)"
   ]
  },
  {
   "cell_type": "code",
   "execution_count": 26,
   "metadata": {},
   "outputs": [
    {
     "name": "stdout",
     "output_type": "stream",
     "text": [
      "[0.47447921 0.21957106 0.14234524 0.08526295 0.04612822 0.03221331]\n"
     ]
    }
   ],
   "source": [
    "# Calcul de la fraction de la variance est expliquee\n",
    "print(pca.explained_variance_ratio_)"
   ]
  },
  {
   "cell_type": "code",
   "execution_count": 27,
   "metadata": {},
   "outputs": [
    {
     "name": "stdout",
     "output_type": "stream",
     "text": [
      "[0.47447921 0.69405027 0.83639551 0.92165846 0.96778669 1.        ]\n"
     ]
    }
   ],
   "source": [
    "# Si on veut la somme cumulative\n",
    "print(pca.explained_variance_ratio_.cumsum())"
   ]
  },
  {
   "cell_type": "code",
   "execution_count": 28,
   "metadata": {},
   "outputs": [
    {
     "data": {
      "image/png": "[encoded data removed]",
      "text/plain": [
       "<matplotlib.figure.Figure at 0x242962a6fd0>"
      ]
     },
     "metadata": {},
     "output_type": "display_data"
    }
   ],
   "source": [
    "# Scree plot ou éboulis des valeurs propres\n",
    "# source : http://eric.univ-lyon2.fr/~ricco/tanagra/fichiers/fr_Tanagra_ACP_Python.pdf\n",
    "# np.arrange permet de commencer la numérotation à 1\n",
    "\n",
    "plt.plot(np.arange(1,7), pca.explained_variance_ratio_)\n",
    "\n",
    "plt.title(\"Eboulis des valeurs propres\")\n",
    "plt.ylabel(\"Variance ratio\")\n",
    "plt.xlabel(\"Composantes\")\n",
    "plt.text(2.2, 0.25, 'cassure')\n",
    "\n",
    "plt.savefig('01 - Graphs/08 - Ebouli.png')\n",
    "plt.show()\n"
   ]
  },
  {
   "cell_type": "markdown",
   "metadata": {},
   "source": [
    "On va choisir une représentation dans 2 plans factoriels"
   ]
  },
  {
   "cell_type": "markdown",
   "metadata": {},
   "source": [
    "<a class=\"anchor\" id=\"cercle_des_correlations\"></a>\n",
    "***\n",
    "### 3.2 Cercle des corrélations"
   ]
  },
  {
   "cell_type": "code",
   "execution_count": 29,
   "metadata": {},
   "outputs": [
    {
     "data": {
      "image/png": "[encoded data removed]",
      "text/plain": [
       "<matplotlib.figure.Figure at 0x242955a21d0>"
      ]
     },
     "metadata": {},
     "output_type": "display_data"
    }
   ],
   "source": [
    "# Cercle des correlations\n",
    "# Visualisation de la contribution de chaque variable à chaque composante\n",
    "pcs = pca.components_\n",
    "\n",
    "for i, (x, y) in enumerate(zip(pcs[0, :], pcs[1, :])):\n",
    "    # Afficher un segment de l'origine au point (x, y)\n",
    "    plt.plot([0, x], [0, y], color='k')\n",
    "    # Afficher le nom (data_subset.columns[i]) de la performance\n",
    "    plt.text(x, y, data_2.columns[i], fontsize='10')\n",
    "    \n",
    "# Afficher une ligne horizontale y=0\n",
    "plt.plot([-1, 1], [0, 0], color='white', ls='--')\n",
    "\n",
    "# Afficher une ligne verticale x=0\n",
    "plt.plot([0, 0], [-1, 1], color='white', ls='--')\n",
    "\n",
    "\n",
    "#draw circle\n",
    "centre_circle = plt.Circle((0,0),1,fc='grey')\n",
    "fig = plt.gcf()\n",
    "fig.gca().add_artist(centre_circle)\n",
    "\n",
    "plt.title(\"Cercle des corrélations\")\n",
    "plt.xlabel('PC1')\n",
    "plt.ylabel('PC2')\n",
    "plt.xlim([-1, 1])\n",
    "plt.ylim([-1, 1])\n",
    "plt.axis('equal')\n",
    "\n",
    "\n",
    "plt.savefig('01 - Graphs/09 - Cercle_corr.png')\n",
    "plt.show()"
   ]
  },
  {
   "cell_type": "markdown",
   "metadata": {},
   "source": [
    "<a class=\"anchor\" id=\"representation\"></a>\n",
    "***\n",
    "### 3.3 Représentation des individus par les plans factoriels"
   ]
  },
  {
   "cell_type": "code",
   "execution_count": 30,
   "metadata": {},
   "outputs": [
    {
     "data": {
      "text/plain": [
       "PCA(copy=True, iterated_power='auto', n_components=2, random_state=None,\n",
       "  svd_solver='auto', tol=0.0, whiten=False)"
      ]
     },
     "execution_count": 30,
     "metadata": {},
     "output_type": "execute_result"
    }
   ],
   "source": [
    "# Visualisation en 2D\n",
    "\n",
    "# Création d'un objet ACP avec 2 composantes\n",
    "pca = decomposition.PCA(n_components=2)\n",
    "\n",
    "# Appliquer l'objet PCA aux données normalisées\n",
    "pca.fit(X_scaled)"
   ]
  },
  {
   "cell_type": "code",
   "execution_count": 31,
   "metadata": {},
   "outputs": [
    {
     "name": "stdout",
     "output_type": "stream",
     "text": [
      "(170, 2)\n"
     ]
    }
   ],
   "source": [
    "# projeter les données initiales sur les 2 axes\n",
    "X_projected = pca.transform(X_scaled)\n",
    "print(X_projected.shape)"
   ]
  },
  {
   "cell_type": "code",
   "execution_count": 32,
   "metadata": {},
   "outputs": [
    {
     "data": {
      "text/plain": [
       "array([[ 2.15363875,  1.59970945],\n",
       "       [-2.11041589, -0.52603892],\n",
       "       [-1.97315242, -0.04810178],\n",
       "       [-2.05979509, -0.08910521],\n",
       "       [-2.40318009,  0.41216977],\n",
       "       [ 1.23565611,  2.98319112],\n",
       "       [-2.07941191,  1.14797998],\n",
       "       [-2.62393408, -1.04013317],\n",
       "       [-1.73630901, -0.227631  ],\n",
       "       [ 0.72748966,  1.06388107],\n",
       "       [ 0.49582635,  1.73847781],\n",
       "       [-2.09026468,  0.41670968],\n",
       "       [ 0.16022666,  1.43072514],\n",
       "       [-1.51099968, -0.16606   ],\n",
       "       [-1.24242842,  0.60216942],\n",
       "       [-1.75333312, -0.50267375],\n",
       "       [-1.21324817,  0.03566659],\n",
       "       [-1.66473154,  0.57778357],\n",
       "       [-1.48336646,  0.36363733],\n",
       "       [-0.75344444,  0.28241819],\n",
       "       [-1.78026387,  0.04851185],\n",
       "       [ 0.03144616,  2.37337698],\n",
       "       [ 0.32912853,  1.68824072],\n",
       "       [-0.20619611,  2.30300194],\n",
       "       [-1.22566926,  0.59722119],\n",
       "       [ 0.23751564,  1.88390247],\n",
       "       [-0.72903068,  2.07182053],\n",
       "       [ 0.08123469,  0.96744265],\n",
       "       [-0.95290722,  1.22117208],\n",
       "       [-2.95878541, -0.09180508],\n",
       "       [-0.98597065,  1.15527465],\n",
       "       [-2.07878906,  0.0262713 ],\n",
       "       [-0.87025348,  0.28563039],\n",
       "       [ 0.28037974,  2.03840726],\n",
       "       [ 0.18810262,  2.73100192],\n",
       "       [-0.29531035, -0.03488868],\n",
       "       [-0.74082751,  2.03733382],\n",
       "       [-2.1135765 ,  1.03657053],\n",
       "       [-0.90257099,  1.7953203 ],\n",
       "       [-1.89756664, -1.88808817],\n",
       "       [-2.58166585, -1.03231033],\n",
       "       [-0.93603295, -0.13499105],\n",
       "       [-2.21525061, -0.4481862 ],\n",
       "       [-0.2801139 ,  0.35796121],\n",
       "       [-2.48846888, -1.14478979],\n",
       "       [-2.37699354, -1.72195327],\n",
       "       [-1.30788205, -0.07708604],\n",
       "       [-1.43928469,  0.10018772],\n",
       "       [-1.1729861 , -0.45578865],\n",
       "       [-3.08149284, -1.29494051],\n",
       "       [-2.00356559, -0.54587826],\n",
       "       [ 0.39608605,  1.53191234],\n",
       "       [-0.43401153, -0.51063154],\n",
       "       [-0.24530511,  1.83798857],\n",
       "       [-2.44765768, -1.14003353],\n",
       "       [-2.05758864,  0.36730674],\n",
       "       [-0.95038413,  1.40063086],\n",
       "       [-2.12462203, -0.17292519],\n",
       "       [-0.45008282,  0.73652296],\n",
       "       [-0.98362295,  0.65369895],\n",
       "       [-2.14264865,  0.11004635],\n",
       "       [-1.94771833,  0.6576923 ],\n",
       "       [-1.61112664,  0.98520605],\n",
       "       [-1.21659198, -0.71699082],\n",
       "       [-0.71857065,  0.35654601],\n",
       "       [ 0.73693712,  1.14602103],\n",
       "       [-2.35259756, -1.0064715 ],\n",
       "       [-2.18118263, -0.5839501 ],\n",
       "       [-1.77596029,  0.45916766],\n",
       "       [ 0.76543803,  0.07336605],\n",
       "       [-1.03112358, -2.65676852],\n",
       "       [-1.36472688,  0.69883418],\n",
       "       [-0.79517214,  0.13938481],\n",
       "       [-1.74870246, -0.72356922],\n",
       "       [-1.58191713,  0.96736734],\n",
       "       [-2.30978561, -1.65836367],\n",
       "       [-0.69114455,  0.2621936 ],\n",
       "       [-1.48871127, -0.80181113],\n",
       "       [ 0.16951274,  1.16370571],\n",
       "       [-2.07899648, -0.32457164],\n",
       "       [-0.97288385, -0.0251172 ],\n",
       "       [-1.41135639,  0.05067335],\n",
       "       [-2.357166  ,  0.30379547],\n",
       "       [-0.45822165,  0.94829352],\n",
       "       [ 1.14508214,  1.83752873],\n",
       "       [-0.97597328,  0.4401789 ],\n",
       "       [-1.41047927,  0.81024132],\n",
       "       [-2.28160338, -0.08359072],\n",
       "       [-0.28532328,  0.68914572],\n",
       "       [-1.43568714,  0.51816192],\n",
       "       [-2.20706433, -0.57732585],\n",
       "       [-0.81408984,  1.3809587 ],\n",
       "       [-2.4571078 , -0.52426068],\n",
       "       [-2.42115684, -1.01804028],\n",
       "       [-2.12110689, -0.47650517],\n",
       "       [-1.15034351,  1.78717415],\n",
       "       [ 0.48736952,  0.91664876],\n",
       "       [-1.75396282, -1.27125981],\n",
       "       [-0.67088399,  0.53829549],\n",
       "       [-1.7834417 , -0.219247  ],\n",
       "       [ 1.21518057, -1.5652265 ],\n",
       "       [ 2.73735309, -0.55698971],\n",
       "       [ 0.90131055,  0.14159972],\n",
       "       [ 1.82519052,  0.62863899],\n",
       "       [ 1.82311747, -1.03759498],\n",
       "       [ 1.46072196, -0.13490524],\n",
       "       [ 1.35737338,  0.52680803],\n",
       "       [ 1.4292613 , -0.67776394],\n",
       "       [ 1.60007707, -0.46209524],\n",
       "       [ 2.52528459,  1.09967454],\n",
       "       [ 1.51328712,  0.53646547],\n",
       "       [ 1.99173318,  0.3576045 ],\n",
       "       [ 2.94742246,  1.90826475],\n",
       "       [ 1.74811961, -0.72451169],\n",
       "       [ 1.1975839 ,  0.07370192],\n",
       "       [ 1.12799966,  1.28061084],\n",
       "       [ 2.00826433, -0.6311161 ],\n",
       "       [ 1.74889809, -0.96434464],\n",
       "       [ 1.10308903,  0.11744491],\n",
       "       [ 1.50846976, -1.93627078],\n",
       "       [ 2.29876915, -0.61667567],\n",
       "       [ 2.68276256, -0.08536211],\n",
       "       [ 3.39090412,  1.66461165],\n",
       "       [ 2.44427303,  0.55861992],\n",
       "       [ 1.45538742, -0.04919397],\n",
       "       [ 1.34291589, -0.55465932],\n",
       "       [ 1.61324562,  0.30438843],\n",
       "       [ 2.49490299,  1.25656255],\n",
       "       [ 1.22700365,  0.23214866],\n",
       "       [ 2.07613564, -1.02515336],\n",
       "       [ 0.8395315 , -1.79770111],\n",
       "       [ 1.76947458, -2.07896491],\n",
       "       [ 2.0194193 , -0.23934862],\n",
       "       [ 2.0902142 , -0.98022064],\n",
       "       [ 0.99724325, -1.74163097],\n",
       "       [ 1.77043312, -0.98917987],\n",
       "       [ 1.28302581, -1.56377425],\n",
       "       [ 2.53485767,  0.01881363],\n",
       "       [ 1.88896683, -0.74033938],\n",
       "       [ 1.28133627, -0.73738309],\n",
       "       [ 2.0464651 , -0.69930844],\n",
       "       [ 0.20875632, -1.68001509],\n",
       "       [ 2.38586582, -1.45345702],\n",
       "       [ 2.26547213,  0.19995684],\n",
       "       [-0.43537614, -1.55494732],\n",
       "       [ 1.65891944,  0.42655269],\n",
       "       [ 2.67480359, -0.33449616],\n",
       "       [ 2.70200648,  0.6310988 ],\n",
       "       [ 1.47719107, -1.24514252],\n",
       "       [ 1.2265915 , -0.97964636],\n",
       "       [ 1.20532518, -0.34388658],\n",
       "       [ 1.25430323, -2.45551595],\n",
       "       [-0.13625147, -2.05793211],\n",
       "       [ 1.84044373, -2.07774192],\n",
       "       [ 1.82602906, -1.60219413],\n",
       "       [ 1.87559623, -0.47342479],\n",
       "       [ 0.31987448, -2.68810188],\n",
       "       [ 1.13527423, -1.78289863],\n",
       "       [ 2.76842284, -0.73670205],\n",
       "       [ 2.41380727, -0.82843977],\n",
       "       [ 0.93917026,  0.74193315],\n",
       "       [ 1.66509353, -0.36477702],\n",
       "       [ 1.28514907, -1.43665375],\n",
       "       [ 1.87617864, -1.29254564],\n",
       "       [ 1.27110006, -1.80459796],\n",
       "       [ 2.47862575,  0.18997359],\n",
       "       [ 2.58533095,  2.91447183],\n",
       "       [ 2.06724502,  0.84560244],\n",
       "       [ 0.73925685, -0.97296457],\n",
       "       [ 1.50499242, -1.07972486]])"
      ]
     },
     "execution_count": 32,
     "metadata": {},
     "output_type": "execute_result"
    }
   ],
   "source": [
    "X_projected"
   ]
  },
  {
   "cell_type": "code",
   "execution_count": 33,
   "metadata": {},
   "outputs": [
    {
     "data": {
      "text/html": [
       "<div>\n",
       "<style scoped>\n",
       "    .dataframe tbody tr th:only-of-type {\n",
       "        vertical-align: middle;\n",
       "    }\n",
       "\n",
       "    .dataframe tbody tr th {\n",
       "        vertical-align: top;\n",
       "    }\n",
       "\n",
       "    .dataframe thead th {\n",
       "        text-align: right;\n",
       "    }\n",
       "</style>\n",
       "<table border=\"1\" class=\"dataframe\">\n",
       "  <thead>\n",
       "    <tr style=\"text-align: right;\">\n",
       "      <th></th>\n",
       "      <th>0</th>\n",
       "      <th>1</th>\n",
       "    </tr>\n",
       "  </thead>\n",
       "  <tbody>\n",
       "    <tr>\n",
       "      <th>0</th>\n",
       "      <td>2.153639</td>\n",
       "      <td>1.599709</td>\n",
       "    </tr>\n",
       "    <tr>\n",
       "      <th>1</th>\n",
       "      <td>-2.110416</td>\n",
       "      <td>-0.526039</td>\n",
       "    </tr>\n",
       "    <tr>\n",
       "      <th>2</th>\n",
       "      <td>-1.973152</td>\n",
       "      <td>-0.048102</td>\n",
       "    </tr>\n",
       "    <tr>\n",
       "      <th>3</th>\n",
       "      <td>-2.059795</td>\n",
       "      <td>-0.089105</td>\n",
       "    </tr>\n",
       "    <tr>\n",
       "      <th>4</th>\n",
       "      <td>-2.403180</td>\n",
       "      <td>0.412170</td>\n",
       "    </tr>\n",
       "  </tbody>\n",
       "</table>\n",
       "</div>"
      ],
      "text/plain": [
       "          0         1\n",
       "0  2.153639  1.599709\n",
       "1 -2.110416 -0.526039\n",
       "2 -1.973152 -0.048102\n",
       "3 -2.059795 -0.089105\n",
       "4 -2.403180  0.412170"
      ]
     },
     "execution_count": 33,
     "metadata": {},
     "output_type": "execute_result"
    }
   ],
   "source": [
    "data_acp = pd.DataFrame(data=X_projected)\n",
    "data_acp.head()"
   ]
  },
  {
   "cell_type": "code",
   "execution_count": 34,
   "metadata": {},
   "outputs": [
    {
     "data": {
      "text/html": [
       "<div>\n",
       "<style scoped>\n",
       "    .dataframe tbody tr th:only-of-type {\n",
       "        vertical-align: middle;\n",
       "    }\n",
       "\n",
       "    .dataframe tbody tr th {\n",
       "        vertical-align: top;\n",
       "    }\n",
       "\n",
       "    .dataframe thead th {\n",
       "        text-align: right;\n",
       "    }\n",
       "</style>\n",
       "<table border=\"1\" class=\"dataframe\">\n",
       "  <thead>\n",
       "    <tr style=\"text-align: right;\">\n",
       "      <th></th>\n",
       "      <th>0</th>\n",
       "      <th>1</th>\n",
       "      <th>is_genuine</th>\n",
       "    </tr>\n",
       "  </thead>\n",
       "  <tbody>\n",
       "    <tr>\n",
       "      <th>0</th>\n",
       "      <td>2.153639</td>\n",
       "      <td>1.599709</td>\n",
       "      <td>True</td>\n",
       "    </tr>\n",
       "    <tr>\n",
       "      <th>1</th>\n",
       "      <td>-2.110416</td>\n",
       "      <td>-0.526039</td>\n",
       "      <td>True</td>\n",
       "    </tr>\n",
       "    <tr>\n",
       "      <th>2</th>\n",
       "      <td>-1.973152</td>\n",
       "      <td>-0.048102</td>\n",
       "      <td>True</td>\n",
       "    </tr>\n",
       "    <tr>\n",
       "      <th>3</th>\n",
       "      <td>-2.059795</td>\n",
       "      <td>-0.089105</td>\n",
       "      <td>True</td>\n",
       "    </tr>\n",
       "    <tr>\n",
       "      <th>4</th>\n",
       "      <td>-2.403180</td>\n",
       "      <td>0.412170</td>\n",
       "      <td>True</td>\n",
       "    </tr>\n",
       "  </tbody>\n",
       "</table>\n",
       "</div>"
      ],
      "text/plain": [
       "          0         1  is_genuine\n",
       "0  2.153639  1.599709        True\n",
       "1 -2.110416 -0.526039        True\n",
       "2 -1.973152 -0.048102        True\n",
       "3 -2.059795 -0.089105        True\n",
       "4 -2.403180  0.412170        True"
      ]
     },
     "execution_count": 34,
     "metadata": {},
     "output_type": "execute_result"
    }
   ],
   "source": [
    "data_acp['is_genuine']=data['is_genuine']\n",
    "data_acp.head()"
   ]
  },
  {
   "cell_type": "code",
   "execution_count": 35,
   "metadata": {},
   "outputs": [
    {
     "data": {
      "text/html": [
       "<div>\n",
       "<style scoped>\n",
       "    .dataframe tbody tr th:only-of-type {\n",
       "        vertical-align: middle;\n",
       "    }\n",
       "\n",
       "    .dataframe tbody tr th {\n",
       "        vertical-align: top;\n",
       "    }\n",
       "\n",
       "    .dataframe thead th {\n",
       "        text-align: right;\n",
       "    }\n",
       "</style>\n",
       "<table border=\"1\" class=\"dataframe\">\n",
       "  <thead>\n",
       "    <tr style=\"text-align: right;\">\n",
       "      <th></th>\n",
       "      <th>PC1</th>\n",
       "      <th>PC2</th>\n",
       "      <th>is_genuine</th>\n",
       "    </tr>\n",
       "  </thead>\n",
       "  <tbody>\n",
       "    <tr>\n",
       "      <th>0</th>\n",
       "      <td>2.153639</td>\n",
       "      <td>1.599709</td>\n",
       "      <td>True</td>\n",
       "    </tr>\n",
       "    <tr>\n",
       "      <th>1</th>\n",
       "      <td>-2.110416</td>\n",
       "      <td>-0.526039</td>\n",
       "      <td>True</td>\n",
       "    </tr>\n",
       "    <tr>\n",
       "      <th>2</th>\n",
       "      <td>-1.973152</td>\n",
       "      <td>-0.048102</td>\n",
       "      <td>True</td>\n",
       "    </tr>\n",
       "    <tr>\n",
       "      <th>3</th>\n",
       "      <td>-2.059795</td>\n",
       "      <td>-0.089105</td>\n",
       "      <td>True</td>\n",
       "    </tr>\n",
       "    <tr>\n",
       "      <th>4</th>\n",
       "      <td>-2.403180</td>\n",
       "      <td>0.412170</td>\n",
       "      <td>True</td>\n",
       "    </tr>\n",
       "  </tbody>\n",
       "</table>\n",
       "</div>"
      ],
      "text/plain": [
       "        PC1       PC2  is_genuine\n",
       "0  2.153639  1.599709        True\n",
       "1 -2.110416 -0.526039        True\n",
       "2 -1.973152 -0.048102        True\n",
       "3 -2.059795 -0.089105        True\n",
       "4 -2.403180  0.412170        True"
      ]
     },
     "execution_count": 35,
     "metadata": {},
     "output_type": "execute_result"
    }
   ],
   "source": [
    "data_acp.rename(columns={0:'PC1', 1:'PC2'}, inplace=True)\n",
    "data_acp.head()"
   ]
  },
  {
   "cell_type": "code",
   "execution_count": 36,
   "metadata": {},
   "outputs": [
    {
     "data": {
      "text/plain": [
       "<matplotlib.figure.Figure at 0x242979da320>"
      ]
     },
     "metadata": {},
     "output_type": "display_data"
    },
    {
     "data": {
      "image/png": "[encoded data removed]",
      "text/plain": [
       "<matplotlib.figure.Figure at 0x2429622c630>"
      ]
     },
     "metadata": {},
     "output_type": "display_data"
    }
   ],
   "source": [
    "fig = plt.figure(figsize=(10,10))\n",
    "\n",
    "# Use the 'hue' argument to provide a factor variable\n",
    "sns.lmplot( x=\"PC1\", y=\"PC2\", data=data_acp, fit_reg=False, hue='is_genuine', legend=False, palette=['r', 'g'])\n",
    " \n",
    "# Move the legend to an empty part of the plot\n",
    "plt.legend(loc='upper left')\n",
    " \n",
    "# Afficher une ligne horizontale y=0\n",
    "plt.plot([-3, 3], [0, 0], color='grey', ls='--')\n",
    "\n",
    "# Afficher une ligne verticale x=0\n",
    "plt.plot([0, 0], [-3, 3], color='grey', ls='--')\n",
    "\n",
    "plt.xlim([-3.5, 3.5])\n",
    "plt.ylim([-3.5, 3.5])\n",
    "\n",
    "plt.savefig('01 - Graphs/10 - ACP.png')\n",
    "\n",
    "plt.show()"
   ]
  },
  {
   "cell_type": "markdown",
   "metadata": {},
   "source": [
    "<a class=\"anchor\" id=\"analyse\"></a>\n",
    "***\n",
    "### 3.4 Qualité de représentation des individus sur les axes"
   ]
  },
  {
   "cell_type": "markdown",
   "metadata": {},
   "source": [
    "source: http://eric.univ-lyon2.fr/~ricco/tanagra/fichiers/fr_Tanagra_ACP_Python.pdf\n",
    "\n",
    "COS² permet de quantifier la qualité de la projection au niveau de chaque point (indice de non deformation dezs distances vues sur le plan ACP).\n",
    "\n",
    "On calcule d'abord les carrés des distances à l’origine des individus, qui correspondent également à leur contribution dans\n",
    "l’inertie totale"
   ]
  },
  {
   "cell_type": "code",
   "execution_count": 37,
   "metadata": {},
   "outputs": [
    {
     "name": "stdout",
     "output_type": "stream",
     "text": [
      "      ID        d_i\n",
      "0      0   7.197230\n",
      "1      1   4.730572\n",
      "2      2   3.895644\n",
      "3      3   4.250696\n",
      "4      4   5.945158\n",
      "5      5  10.426275\n",
      "6      6   5.641812\n",
      "7      7   7.966907\n",
      "8      8   3.066585\n",
      "9      9   1.661084\n",
      "10    10   3.268149\n",
      "11    11   4.542853\n",
      "12    12   2.072647\n",
      "13    13   2.310696\n",
      "14    14   1.906236\n",
      "15    15   3.326858\n",
      "16    16   1.473243\n",
      "17    17   3.105165\n",
      "18    18   2.332608\n",
      "19    19   0.647439\n",
      "20    20   3.171693\n",
      "21    21   5.633907\n",
      "22    22   2.958482\n",
      "23    23   5.346335\n",
      "24    24   1.858938\n",
      "25    25   3.605502\n",
      "26    26   4.823926\n",
      "27    27   0.942544\n",
      "28    28   2.399293\n",
      "29    29   8.762839\n",
      "..   ...        ...\n",
      "140  140   4.677052\n",
      "141  141   2.866030\n",
      "142  142   7.804893\n",
      "143  143   5.172347\n",
      "144  144   2.607414\n",
      "145  145   2.933961\n",
      "146  146   7.266462\n",
      "147  147   7.699125\n",
      "148  148   3.732473\n",
      "149  149   2.464234\n",
      "150  150   1.571067\n",
      "151  151   7.602835\n",
      "152  152   4.253649\n",
      "153  153   7.704245\n",
      "154  154   5.901408\n",
      "155  155   3.741992\n",
      "156  156   7.328211\n",
      "157  157   4.467575\n",
      "158  158   8.206895\n",
      "159  159   6.512778\n",
      "160  160   1.432506\n",
      "161  161   2.905599\n",
      "162  162   3.715582\n",
      "163  163   5.190721\n",
      "164  164   4.872269\n",
      "165  165   6.179676\n",
      "166  166  15.178082\n",
      "167  167   4.988545\n",
      "168  168   1.493161\n",
      "169  169   3.430808\n",
      "\n",
      "[170 rows x 2 columns]\n"
     ]
    }
   ],
   "source": [
    "# Qualité de représentation des individus sur les axe\n",
    "\n",
    "#contribution des individus dans l'inertie totale\n",
    "di = np.sum(X_projected**2,axis=1)\n",
    "print(pd.DataFrame({'ID':data.index,'d_i':di}))\n"
   ]
  },
  {
   "cell_type": "code",
   "execution_count": 38,
   "metadata": {},
   "outputs": [
    {
     "data": {
      "text/plain": [
       "numpy.ndarray"
      ]
     },
     "execution_count": 38,
     "metadata": {},
     "output_type": "execute_result"
    }
   ],
   "source": [
    "type(di)\n"
   ]
  },
  {
   "cell_type": "code",
   "execution_count": 39,
   "metadata": {},
   "outputs": [
    {
     "data": {
      "text/plain": [
       "array([[6.44436784e-01, 3.55563216e-01],\n",
       "       [9.41504551e-01, 5.84954492e-02],\n",
       "       [9.99406059e-01, 5.93940664e-04],\n",
       "       [9.98132132e-01, 1.86786808e-03],\n",
       "       [9.71424828e-01, 2.85751716e-02],\n",
       "       [1.46442136e-01, 8.53557864e-01],\n",
       "       [7.66412271e-01, 2.33587729e-01],\n",
       "       [8.64203637e-01, 1.35796363e-01],\n",
       "       [9.83103069e-01, 1.68969305e-02],\n",
       "       [3.18611921e-01, 6.81388079e-01],\n",
       "       [7.52241655e-02, 9.24775834e-01],\n",
       "       [9.61775796e-01, 3.82242044e-02],\n",
       "       [1.23863752e-02, 9.87613625e-01],\n",
       "       [9.88065966e-01, 1.19340339e-02],\n",
       "       [8.09778043e-01, 1.90221957e-01],\n",
       "       [9.24048184e-01, 7.59518159e-02],\n",
       "       [9.99136527e-01, 8.63472735e-04],\n",
       "       [8.92490783e-01, 1.07509217e-01],\n",
       "       [9.43311479e-01, 5.66885207e-02],\n",
       "       [8.76806787e-01, 1.23193213e-01],\n",
       "       [9.99257999e-01, 7.42000989e-04],\n",
       "       [1.75519617e-04, 9.99824480e-01],\n",
       "       [3.66152575e-02, 9.63384743e-01],\n",
       "       [7.95252018e-03, 9.92047480e-01],\n",
       "       [8.08130721e-01, 1.91869279e-01],\n",
       "       [1.56465529e-02, 9.84353447e-01],\n",
       "       [1.10177006e-01, 8.89822994e-01],\n",
       "       [7.00134217e-03, 9.92998658e-01],\n",
       "       [3.78458159e-01, 6.21541841e-01],\n",
       "       [9.99038192e-01, 9.61808441e-04],\n",
       "       [4.21423237e-01, 5.78576763e-01],\n",
       "       [9.99840312e-01, 1.59688230e-04],\n",
       "       [9.02750972e-01, 9.72490279e-02],\n",
       "       [1.85682694e-02, 9.81431731e-01],\n",
       "       [4.72161130e-03, 9.95278389e-01],\n",
       "       [9.86234505e-01, 1.37654951e-02],\n",
       "       [1.16782432e-01, 8.83217568e-01],\n",
       "       [8.06109757e-01, 1.93890243e-01],\n",
       "       [2.01751574e-01, 7.98248426e-01],\n",
       "       [5.02503771e-01, 4.97496229e-01],\n",
       "       [8.62150944e-01, 1.37849056e-01],\n",
       "       [9.79625462e-01, 2.03745376e-02],\n",
       "       [9.60676828e-01, 3.93231721e-02],\n",
       "       [3.79785992e-01, 6.20214008e-01],\n",
       "       [8.25331203e-01, 1.74668797e-01],\n",
       "       [6.55827409e-01, 3.44172591e-01],\n",
       "       [9.96538150e-01, 3.46185009e-03],\n",
       "       [9.95177899e-01, 4.82210099e-03],\n",
       "       [8.68819091e-01, 1.31180909e-01],\n",
       "       [8.49910443e-01, 1.50089557e-01],\n",
       "       [9.30898601e-01, 6.91013995e-02],\n",
       "       [6.26624374e-02, 9.37337563e-01],\n",
       "       [4.19420106e-01, 5.80579894e-01],\n",
       "       [1.75008745e-02, 9.82499126e-01],\n",
       "       [8.21735137e-01, 1.78264863e-01],\n",
       "       [9.69117177e-01, 3.08828228e-02],\n",
       "       [3.15263878e-01, 6.84736122e-01],\n",
       "       [9.93419095e-01, 6.58090532e-03],\n",
       "       [2.71897317e-01, 7.28102683e-01],\n",
       "       [6.93639834e-01, 3.06360166e-01],\n",
       "       [9.97369094e-01, 2.63090574e-03],\n",
       "       [8.97647377e-01, 1.02352623e-01],\n",
       "       [7.27837076e-01, 2.72162924e-01],\n",
       "       [7.42210871e-01, 2.57789129e-01],\n",
       "       [8.02437896e-01, 1.97562104e-01],\n",
       "       [2.92536344e-01, 7.07463656e-01],\n",
       "       [8.45291500e-01, 1.54708500e-01],\n",
       "       [9.33118757e-01, 6.68812433e-02],\n",
       "       [9.37342321e-01, 6.26576792e-02],\n",
       "       [9.90896706e-01, 9.10329396e-03],\n",
       "       [1.30911554e-01, 8.69088446e-01],\n",
       "       [7.92258337e-01, 2.07741663e-01],\n",
       "       [9.70189772e-01, 2.98102281e-02],\n",
       "       [8.53818075e-01, 1.46181925e-01],\n",
       "       [7.27827683e-01, 2.72172317e-01],\n",
       "       [6.59854675e-01, 3.40145325e-01],\n",
       "       [8.74190746e-01, 1.25809254e-01],\n",
       "       [7.75143551e-01, 2.24856449e-01],\n",
       "       [2.07778029e-02, 9.79222197e-01],\n",
       "       [9.76206661e-01, 2.37933387e-02],\n",
       "       [9.99333913e-01, 6.66087364e-04],\n",
       "       [9.98712562e-01, 1.28743817e-03],\n",
       "       [9.83660917e-01, 1.63390831e-02],\n",
       "       [1.89291234e-01, 8.10708766e-01],\n",
       "       [2.79712040e-01, 7.20287960e-01],\n",
       "       [8.30968659e-01, 1.69031341e-01],\n",
       "       [7.51887678e-01, 2.48112322e-01],\n",
       "       [9.98659542e-01, 1.34045811e-03],\n",
       "       [1.46332571e-01, 8.53667429e-01],\n",
       "       [8.84752113e-01, 1.15247887e-01],\n",
       "       [9.35957516e-01, 6.40424838e-02],\n",
       "       [2.57897524e-01, 7.42102476e-01],\n",
       "       [9.56457648e-01, 4.35423524e-02],\n",
       "       [8.49761532e-01, 1.50238468e-01],\n",
       "       [9.51957281e-01, 4.80427187e-02],\n",
       "       [2.92939493e-01, 7.07060507e-01],\n",
       "       [2.20388551e-01, 7.79611449e-01],\n",
       "       [6.55598090e-01, 3.44401910e-01],\n",
       "       [6.08348899e-01, 3.91651101e-01],\n",
       "       [9.85112042e-01, 1.48879578e-02],\n",
       "       [3.76066987e-01, 6.23933013e-01],\n",
       "       [9.60242978e-01, 3.97570222e-02],\n",
       "       [9.75912769e-01, 2.40872313e-02],\n",
       "       [8.93952450e-01, 1.06047550e-01],\n",
       "       [7.55337475e-01, 2.44662525e-01],\n",
       "       [9.91542657e-01, 8.45734313e-03],\n",
       "       [8.69090512e-01, 1.30909488e-01],\n",
       "       [8.16412437e-01, 1.83587563e-01],\n",
       "       [9.23017646e-01, 7.69823540e-02],\n",
       "       [8.40597299e-01, 1.59402701e-01],\n",
       "       [8.88357707e-01, 1.11642293e-01],\n",
       "       [9.68770534e-01, 3.12294663e-02],\n",
       "       [7.04636122e-01, 2.95363878e-01],\n",
       "       [8.53409454e-01, 1.46590546e-01],\n",
       "       [9.96226851e-01, 3.77314917e-03],\n",
       "       [4.36892676e-01, 5.63107324e-01],\n",
       "       [9.10117672e-01, 8.98823282e-02],\n",
       "       [7.66845662e-01, 2.33154338e-01],\n",
       "       [9.88791385e-01, 1.12086152e-02],\n",
       "       [3.77696673e-01, 6.22303327e-01],\n",
       "       [9.32866050e-01, 6.71339495e-02],\n",
       "       [9.98988592e-01, 1.01140785e-03],\n",
       "       [8.05809772e-01, 1.94190228e-01],\n",
       "       [9.50361110e-01, 4.96388901e-02],\n",
       "       [9.98858777e-01, 1.14122322e-03],\n",
       "       [8.54269657e-01, 1.45730343e-01],\n",
       "       [9.65623389e-01, 3.43766110e-02],\n",
       "       [7.97661127e-01, 2.02338873e-01],\n",
       "       [9.65440598e-01, 3.45594019e-02],\n",
       "       [8.03975973e-01, 1.96024027e-01],\n",
       "       [1.79043706e-01, 8.20956294e-01],\n",
       "       [4.20097065e-01, 5.79902935e-01],\n",
       "       [9.86146790e-01, 1.38532104e-02],\n",
       "       [8.19725416e-01, 1.80274584e-01],\n",
       "       [2.46909200e-01, 7.53090800e-01],\n",
       "       [7.62096240e-01, 2.37903760e-01],\n",
       "       [4.02330947e-01, 5.97669053e-01],\n",
       "       [9.99944917e-01, 5.50825881e-05],\n",
       "       [8.66845795e-01, 1.33154205e-01],\n",
       "       [7.51214928e-01, 2.48785072e-01],\n",
       "       [8.95440049e-01, 1.04559951e-01],\n",
       "       [1.52054243e-02, 9.84794576e-01],\n",
       "       [7.29331678e-01, 2.70668322e-01],\n",
       "       [9.92269904e-01, 7.73009623e-03],\n",
       "       [7.26974745e-02, 9.27302526e-01],\n",
       "       [9.37985814e-01, 6.20141858e-02],\n",
       "       [9.84602179e-01, 1.53978209e-02],\n",
       "       [9.48268704e-01, 5.17312958e-02],\n",
       "       [5.84623987e-01, 4.15376013e-01],\n",
       "       [6.10545466e-01, 3.89454534e-01],\n",
       "       [9.24727590e-01, 7.52724101e-02],\n",
       "       [2.06932881e-01, 7.93067119e-01],\n",
       "       [4.36436189e-03, 9.95635638e-01],\n",
       "       [4.39658045e-01, 5.60341955e-01],\n",
       "       [5.65014661e-01, 4.34985339e-01],\n",
       "       [9.40103823e-01, 5.98961773e-02],\n",
       "       [1.39624363e-02, 9.86037564e-01],\n",
       "       [2.88489292e-01, 7.11510708e-01],\n",
       "       [9.33869031e-01, 6.61309691e-02],\n",
       "       [8.94620628e-01, 1.05379372e-01],\n",
       "       [6.15732880e-01, 3.84267120e-01],\n",
       "       [9.54204868e-01, 4.57951318e-02],\n",
       "       [4.44508577e-01, 5.55491423e-01],\n",
       "       [6.78142134e-01, 3.21857866e-01],\n",
       "       [3.31610449e-01, 6.68389551e-01],\n",
       "       [9.94159894e-01, 5.84010647e-03],\n",
       "       [4.40367632e-01, 5.59632368e-01],\n",
       "       [8.56662930e-01, 1.43337070e-01],\n",
       "       [3.66002584e-01, 6.33997416e-01],\n",
       "       [6.60194980e-01, 3.39805020e-01]])"
      ]
     },
     "execution_count": 39,
     "metadata": {},
     "output_type": "execute_result"
    }
   ],
   "source": [
    "# Qualité de réprésentation des individus : COS²\n",
    "\n",
    "cos2 = X_projected ** 2\n",
    "for j in range(2):\n",
    "    cos2[:,j] = cos2[:,j]/di\n",
    "\n",
    "cos2"
   ]
  },
  {
   "cell_type": "code",
   "execution_count": 40,
   "metadata": {},
   "outputs": [
    {
     "data": {
      "text/html": [
       "<div>\n",
       "<style scoped>\n",
       "    .dataframe tbody tr th:only-of-type {\n",
       "        vertical-align: middle;\n",
       "    }\n",
       "\n",
       "    .dataframe tbody tr th {\n",
       "        vertical-align: top;\n",
       "    }\n",
       "\n",
       "    .dataframe thead th {\n",
       "        text-align: right;\n",
       "    }\n",
       "</style>\n",
       "<table border=\"1\" class=\"dataframe\">\n",
       "  <thead>\n",
       "    <tr style=\"text-align: right;\">\n",
       "      <th></th>\n",
       "      <th>COS2_1</th>\n",
       "      <th>COS2_2</th>\n",
       "      <th>COS2_sum</th>\n",
       "    </tr>\n",
       "  </thead>\n",
       "  <tbody>\n",
       "    <tr>\n",
       "      <th>0</th>\n",
       "      <td>0.644437</td>\n",
       "      <td>0.355563</td>\n",
       "      <td>1.0</td>\n",
       "    </tr>\n",
       "    <tr>\n",
       "      <th>1</th>\n",
       "      <td>0.941505</td>\n",
       "      <td>0.058495</td>\n",
       "      <td>1.0</td>\n",
       "    </tr>\n",
       "    <tr>\n",
       "      <th>2</th>\n",
       "      <td>0.999406</td>\n",
       "      <td>0.000594</td>\n",
       "      <td>1.0</td>\n",
       "    </tr>\n",
       "    <tr>\n",
       "      <th>3</th>\n",
       "      <td>0.998132</td>\n",
       "      <td>0.001868</td>\n",
       "      <td>1.0</td>\n",
       "    </tr>\n",
       "    <tr>\n",
       "      <th>4</th>\n",
       "      <td>0.971425</td>\n",
       "      <td>0.028575</td>\n",
       "      <td>1.0</td>\n",
       "    </tr>\n",
       "  </tbody>\n",
       "</table>\n",
       "</div>"
      ],
      "text/plain": [
       "     COS2_1    COS2_2  COS2_sum\n",
       "0  0.644437  0.355563       1.0\n",
       "1  0.941505  0.058495       1.0\n",
       "2  0.999406  0.000594       1.0\n",
       "3  0.998132  0.001868       1.0\n",
       "4  0.971425  0.028575       1.0"
      ]
     },
     "execution_count": 40,
     "metadata": {},
     "output_type": "execute_result"
    }
   ],
   "source": [
    "df = pd.DataFrame(cos2)\n",
    "df.rename(columns={0:'COS2_1', 1:'COS2_2'}, inplace=True)\n",
    "df['COS2_sum'] = df['COS2_1']+df['COS2_2']\n",
    "df.head()"
   ]
  },
  {
   "cell_type": "code",
   "execution_count": 41,
   "metadata": {},
   "outputs": [
    {
     "data": {
      "text/plain": [
       "(170, 3)"
      ]
     },
     "execution_count": 41,
     "metadata": {},
     "output_type": "execute_result"
    }
   ],
   "source": [
    "df.shape"
   ]
  },
  {
   "cell_type": "code",
   "execution_count": 42,
   "metadata": {},
   "outputs": [
    {
     "data": {
      "text/plain": [
       "(103, 3)"
      ]
     },
     "execution_count": 42,
     "metadata": {},
     "output_type": "execute_result"
    }
   ],
   "source": [
    "# Nb d'individus très bien représentés sur l'axe 1 (+ de 0.75)\n",
    "df[df['COS2_1'] > 0.75].shape"
   ]
  },
  {
   "cell_type": "code",
   "execution_count": 43,
   "metadata": {},
   "outputs": [
    {
     "data": {
      "text/plain": [
       "(27, 3)"
      ]
     },
     "execution_count": 43,
     "metadata": {},
     "output_type": "execute_result"
    }
   ],
   "source": [
    "# Nb d'individus très bien représentés sur l'axe 2 (+ de 0.75)\n",
    "df[df['COS2_2'] > 0.75].shape"
   ]
  },
  {
   "cell_type": "markdown",
   "metadata": {},
   "source": [
    "Interprétation - exemple de l'individu 0\n",
    "Sur l'axe 1, l'individu 0 a un indice de non déformation de 0.64 et de 0.36 sur l'axe 2 \n",
    "103 billets sur 170 sont très bien représentés sur l'axe 1 (vs 27 sur l'axe 2)\n",
    "\n",
    "\n",
    "info :\n",
    "sert aussi pour analyser la visualisation de l'ACP en 2D. Attention deux points proches d'un autre ne le sont pas forcement avant l'ACP. Il faut voir les valeurs des COS² pour voir s'ils sotn aussi bien représentés sur les memes axes (en proportion)"
   ]
  },
  {
   "cell_type": "code",
   "execution_count": 44,
   "metadata": {},
   "outputs": [
    {
     "name": "stdout",
     "output_type": "stream",
     "text": [
      "[1. 1. 1. 1. 1. 1. 1. 1. 1. 1. 1. 1. 1. 1. 1. 1. 1. 1. 1. 1. 1. 1. 1. 1.\n",
      " 1. 1. 1. 1. 1. 1. 1. 1. 1. 1. 1. 1. 1. 1. 1. 1. 1. 1. 1. 1. 1. 1. 1. 1.\n",
      " 1. 1. 1. 1. 1. 1. 1. 1. 1. 1. 1. 1. 1. 1. 1. 1. 1. 1. 1. 1. 1. 1. 1. 1.\n",
      " 1. 1. 1. 1. 1. 1. 1. 1. 1. 1. 1. 1. 1. 1. 1. 1. 1. 1. 1. 1. 1. 1. 1. 1.\n",
      " 1. 1. 1. 1. 1. 1. 1. 1. 1. 1. 1. 1. 1. 1. 1. 1. 1. 1. 1. 1. 1. 1. 1. 1.\n",
      " 1. 1. 1. 1. 1. 1. 1. 1. 1. 1. 1. 1. 1. 1. 1. 1. 1. 1. 1. 1. 1. 1. 1. 1.\n",
      " 1. 1. 1. 1. 1. 1. 1. 1. 1. 1. 1. 1. 1. 1. 1. 1. 1. 1. 1. 1. 1. 1. 1. 1.\n",
      " 1. 1.]\n"
     ]
    }
   ],
   "source": [
    "# En sommant les deux premiers indices on obtient l'indice de non deformation des distances vues sur le plan ACP\n",
    "print(np.sum(cos2,axis=1))"
   ]
  },
  {
   "cell_type": "markdown",
   "metadata": {},
   "source": [
    "<a class=\"anchor\" id=\"contribution\"></a>\n",
    "***\n",
    "### 3.5 Contribution des individus aux axes"
   ]
  },
  {
   "cell_type": "markdown",
   "metadata": {},
   "source": [
    "Elles permettent de déterminer les individus qui pèsent le plus dans la définition de chaque facteur.\n",
    "source : https://www.youtube.com/watch?v=KIQ7vvik8hw&index=5&list=PLGrJ7r50tBfWB8UdeZXyiTx4bggs4YHIX"
   ]
  },
  {
   "cell_type": "code",
   "execution_count": 45,
   "metadata": {},
   "outputs": [
    {
     "data": {
      "text/plain": [
       "array([[2.72832933e-02, 1.50533548e-02],\n",
       "       [2.61991485e-02, 1.62774673e-03],\n",
       "       [2.29019440e-02, 1.36104796e-05],\n",
       "       [2.49573872e-02, 4.67043443e-05],\n",
       "       [3.39722032e-02, 9.99317194e-04],\n",
       "       [8.98144723e-03, 5.23495839e-02],\n",
       "       [2.54350228e-02, 7.75210606e-03],\n",
       "       [4.05001768e-02, 6.36398238e-03],\n",
       "       [1.77339351e-02, 3.04799240e-04],\n",
       "       [3.11318355e-03, 6.65789954e-03],\n",
       "       [1.44613983e-03, 1.77782653e-02],\n",
       "       [2.57012144e-02, 1.02145269e-03],\n",
       "       [1.51015197e-04, 1.20410260e-02],\n",
       "       [1.34301179e-02, 1.62211318e-04],\n",
       "       [9.08016686e-03, 2.13298833e-03],\n",
       "       [1.80833943e-02, 1.48635824e-03],\n",
       "       [8.65865363e-03, 7.48297268e-06],\n",
       "       [1.63019477e-02, 1.96372856e-03],\n",
       "       [1.29433885e-02, 7.77835914e-04],\n",
       "       [3.33928540e-03, 4.69176680e-04],\n",
       "       [1.86431731e-02, 1.38435248e-05],\n",
       "       [5.81683074e-06, 3.31348136e-02],\n",
       "       [6.37209363e-04, 1.67656278e-02],\n",
       "       [2.50099030e-04, 3.11989290e-02],\n",
       "       [8.83685373e-03, 2.09807735e-03],\n",
       "       [3.31845184e-04, 2.08769913e-02],\n",
       "       [3.12638663e-03, 2.52496488e-02],\n",
       "       [3.88180913e-05, 5.50556045e-03],\n",
       "       [5.34136574e-03, 8.77212503e-03],\n",
       "       [5.14965360e-02, 4.95774871e-05],\n",
       "       [5.71845956e-03, 7.85093828e-03],\n",
       "       [2.54197880e-02, 4.05988926e-06],\n",
       "       [4.45494773e-03, 4.79910129e-04],\n",
       "       [4.62428217e-04, 2.44417892e-02],\n",
       "       [2.08132905e-04, 4.38727734e-02],\n",
       "       [5.12989419e-04, 7.16011589e-06],\n",
       "       [3.22838472e-03, 2.44160534e-02],\n",
       "       [2.62776800e-02, 6.32046161e-03],\n",
       "       [4.79196705e-03, 1.89598529e-02],\n",
       "       [2.11809362e-02, 2.09698643e-02],\n",
       "       [3.92058740e-02, 6.26861545e-03],\n",
       "       [5.15386875e-03, 1.07191674e-04],\n",
       "       [2.88666780e-02, 1.18159335e-03],\n",
       "       [4.61551737e-04, 7.53742527e-04],\n",
       "       [3.64263375e-02, 7.70908033e-03],\n",
       "       [3.32358723e-02, 1.74419003e-02],\n",
       "       [1.00620910e-02, 3.49544577e-05],\n",
       "       [1.21855318e-02, 5.90445841e-05],\n",
       "       [8.09350821e-03, 1.22201937e-03],\n",
       "       [5.58564595e-02, 9.86394667e-03],\n",
       "       [2.36133828e-02, 1.75284161e-03],\n",
       "       [9.22847983e-04, 1.38044435e-02],\n",
       "       [1.10803533e-03, 1.53379160e-03],\n",
       "       [3.53968215e-04, 1.98717763e-02],\n",
       "       [3.52413420e-02, 7.64515560e-03],\n",
       "       [2.49039471e-02, 7.93613201e-04],\n",
       "       [5.31311767e-03, 1.15398047e-02],\n",
       "       [2.65530515e-02, 1.75900704e-04],\n",
       "       [1.19161496e-03, 3.19097689e-03],\n",
       "       [5.69125949e-03, 2.51366071e-03],\n",
       "       [2.70055485e-02, 7.12364689e-05],\n",
       "       [2.23153334e-02, 2.54446564e-03],\n",
       "       [1.52689944e-02, 5.70959394e-03],\n",
       "       [8.70644739e-03, 3.02397550e-03],\n",
       "       [3.03731637e-03, 7.47794462e-04],\n",
       "       [3.19456658e-03, 7.72567171e-03],\n",
       "       [3.25571488e-02, 5.95873455e-03],\n",
       "       [2.79856333e-02, 2.00586896e-03],\n",
       "       [1.85531467e-02, 1.24020551e-03],\n",
       "       [3.44644337e-03, 3.16622176e-05],\n",
       "       [6.25421077e-03, 4.15201115e-02],\n",
       "       [1.09557615e-02, 2.87276006e-03],\n",
       "       [3.71940435e-03, 1.14283097e-04],\n",
       "       [1.79880016e-02, 3.07972013e-03],\n",
       "       [1.47203636e-02, 5.50470334e-03],\n",
       "       [3.13829975e-02, 1.61774710e-02],\n",
       "       [2.80988700e-03, 4.04385187e-04],\n",
       "       [1.30368308e-02, 3.78177110e-03],\n",
       "       [1.69026883e-04, 7.96594698e-03],\n",
       "       [2.54248610e-02, 6.19686747e-04],\n",
       "       [5.56766458e-03, 3.71102289e-06],\n",
       "       [1.17172168e-02, 1.51046384e-05],\n",
       "       [3.26837149e-02, 5.42892295e-04],\n",
       "       [1.23510045e-03, 5.28976824e-03],\n",
       "       [7.71301830e-03, 1.98618344e-02],\n",
       "       [5.60308143e-03, 1.13974980e-03],\n",
       "       [1.17026574e-02, 3.86171178e-03],\n",
       "       [3.06218470e-02, 4.11023992e-05],\n",
       "       [4.78878670e-04, 2.79365776e-03],\n",
       "       [1.21246916e-02, 1.57936338e-03],\n",
       "       [2.86537233e-02, 1.96061849e-03],\n",
       "       [3.89848393e-03, 1.12179230e-02],\n",
       "       [3.55139927e-02, 1.61676033e-03],\n",
       "       [3.44823554e-02, 6.09650596e-03],\n",
       "       [2.64652615e-02, 1.33563043e-03],\n",
       "       [7.78405994e-03, 1.87881850e-02],\n",
       "       [1.39722970e-03, 4.94261734e-03],\n",
       "       [1.80963856e-02, 9.50647945e-03],\n",
       "       [2.64756079e-03, 1.70448258e-03],\n",
       "       [1.87097901e-02, 2.82760288e-04],\n",
       "       [8.68625769e-03, 1.44113765e-02],\n",
       "       [4.40770702e-02, 1.82492671e-03],\n",
       "       [4.77859238e-03, 1.17944004e-04],\n",
       "       [1.95960025e-02, 2.32462930e-03],\n",
       "       [1.95515136e-02, 6.33296089e-03],\n",
       "       [1.25512273e-02, 1.07055440e-04],\n",
       "       [1.08380147e-02, 1.63251001e-03],\n",
       "       [1.20163992e-02, 2.70214092e-03],\n",
       "       [1.50602742e-02, 1.25607064e-03],\n",
       "       [3.75121311e-02, 7.11343591e-03],\n",
       "       [1.34708112e-02, 1.69291293e-03],\n",
       "       [2.33353003e-02, 7.52241060e-04],\n",
       "       [5.11017598e-02, 2.14204374e-02],\n",
       "       [1.79760127e-02, 3.08774821e-03],\n",
       "       [8.43651299e-03, 3.19527846e-05],\n",
       "       [7.48460720e-03, 9.64684777e-03],\n",
       "       [2.37242684e-02, 2.34298547e-03],\n",
       "       [1.79920266e-02, 5.47035636e-03],\n",
       "       [7.15767893e-03, 8.11371031e-05],\n",
       "       [1.33851825e-02, 2.20537913e-02],\n",
       "       [3.10843506e-02, 2.23699343e-03],\n",
       "       [4.23365586e-02, 4.28628795e-05],\n",
       "       [6.76366514e-02, 1.62995997e-02],\n",
       "       [3.51439450e-02, 1.83562480e-03],\n",
       "       [1.24597208e-02, 1.42355686e-05],\n",
       "       [1.06083711e-02, 1.80968800e-03],\n",
       "       [1.53091848e-02, 5.45013612e-04],\n",
       "       [3.66149467e-02, 9.28793795e-03],\n",
       "       [8.85610568e-03, 3.17017656e-04],\n",
       "       [2.53549364e-02, 6.18199660e-03],\n",
       "       [4.14595965e-03, 1.90101721e-02],\n",
       "       [1.84178841e-02, 2.54240887e-02],\n",
       "       [2.39885548e-02, 3.36986845e-04],\n",
       "       [2.56999729e-02, 5.65195592e-03],\n",
       "       [5.84996527e-03, 1.78428144e-02],\n",
       "       [1.84378438e-02, 5.75574598e-03],\n",
       "       [9.68326601e-03, 1.43846465e-02],\n",
       "       [3.77970788e-02, 2.08207561e-06],\n",
       "       [2.09893864e-02, 3.22413175e-03],\n",
       "       [9.65778027e-03, 3.19843425e-03],\n",
       "       [2.46354083e-02, 2.87666055e-03],\n",
       "       [2.56348241e-04, 1.66026513e-02],\n",
       "       [3.34844455e-02, 1.24266900e-02],\n",
       "       [3.01903762e-02, 2.35192574e-04],\n",
       "       [1.11501400e-03, 1.42227128e-02],\n",
       "       [1.61883158e-02, 1.07027762e-03],\n",
       "       [4.20857310e-02, 6.58162822e-04],\n",
       "       [4.29461119e-02, 2.34285705e-03],\n",
       "       [1.28358438e-02, 9.11988178e-03],\n",
       "       [8.85015712e-03, 5.64533522e-03],\n",
       "       [8.54593404e-03, 6.95635188e-04],\n",
       "       [9.25456813e-03, 3.54679915e-02],\n",
       "       [1.09202727e-04, 2.49122621e-02],\n",
       "       [1.99249008e-02, 2.53941852e-02],\n",
       "       [1.96140124e-02, 1.51001531e-02],\n",
       "       [2.06933014e-02, 1.31841784e-03],\n",
       "       [6.01880498e-04, 4.25052454e-02],\n",
       "       [7.58145638e-03, 1.86983973e-02],\n",
       "       [4.50833236e-02, 3.19252891e-03],\n",
       "       [3.42733267e-02, 4.03713208e-03],\n",
       "       [5.18847519e-03, 3.23802819e-03],\n",
       "       [1.63090380e-02, 7.82719277e-04],\n",
       "       [9.71534191e-03, 1.21410236e-02],\n",
       "       [2.07061547e-02, 9.82749547e-03],\n",
       "       [9.50409034e-03, 1.91563164e-02],\n",
       "       [3.61387387e-02, 2.12293901e-04],\n",
       "       [3.93172712e-02, 4.99655651e-02],\n",
       "       [2.51382469e-02, 4.20613818e-03],\n",
       "       [3.21470992e-03, 5.56858851e-03],\n",
       "       [1.33235423e-02, 6.85768100e-03]])"
      ]
     },
     "execution_count": 45,
     "metadata": {},
     "output_type": "execute_result"
    }
   ],
   "source": [
    "#contributions aux axes\n",
    "\n",
    "ctr = X_projected ** 2\n",
    "for j in range(2):\n",
    "    ctr[:,j] = ctr[:,j]/170\n",
    "\n",
    "ctr"
   ]
  },
  {
   "cell_type": "code",
   "execution_count": 46,
   "metadata": {},
   "outputs": [
    {
     "data": {
      "text/html": [
       "<div>\n",
       "<style scoped>\n",
       "    .dataframe tbody tr th:only-of-type {\n",
       "        vertical-align: middle;\n",
       "    }\n",
       "\n",
       "    .dataframe tbody tr th {\n",
       "        vertical-align: top;\n",
       "    }\n",
       "\n",
       "    .dataframe thead th {\n",
       "        text-align: right;\n",
       "    }\n",
       "</style>\n",
       "<table border=\"1\" class=\"dataframe\">\n",
       "  <thead>\n",
       "    <tr style=\"text-align: right;\">\n",
       "      <th></th>\n",
       "      <th>CTR_1</th>\n",
       "      <th>CTR_2</th>\n",
       "    </tr>\n",
       "  </thead>\n",
       "  <tbody>\n",
       "    <tr>\n",
       "      <th>0</th>\n",
       "      <td>0.027283</td>\n",
       "      <td>0.015053</td>\n",
       "    </tr>\n",
       "    <tr>\n",
       "      <th>1</th>\n",
       "      <td>0.026199</td>\n",
       "      <td>0.001628</td>\n",
       "    </tr>\n",
       "    <tr>\n",
       "      <th>2</th>\n",
       "      <td>0.022902</td>\n",
       "      <td>0.000014</td>\n",
       "    </tr>\n",
       "    <tr>\n",
       "      <th>3</th>\n",
       "      <td>0.024957</td>\n",
       "      <td>0.000047</td>\n",
       "    </tr>\n",
       "    <tr>\n",
       "      <th>4</th>\n",
       "      <td>0.033972</td>\n",
       "      <td>0.000999</td>\n",
       "    </tr>\n",
       "  </tbody>\n",
       "</table>\n",
       "</div>"
      ],
      "text/plain": [
       "      CTR_1     CTR_2\n",
       "0  0.027283  0.015053\n",
       "1  0.026199  0.001628\n",
       "2  0.022902  0.000014\n",
       "3  0.024957  0.000047\n",
       "4  0.033972  0.000999"
      ]
     },
     "execution_count": 46,
     "metadata": {},
     "output_type": "execute_result"
    }
   ],
   "source": [
    "df1 = pd.DataFrame(ctr)\n",
    "df1.rename(columns={0:'CTR_1', 1:'CTR_2'}, inplace=True)\n",
    "df1.head()"
   ]
  },
  {
   "cell_type": "code",
   "execution_count": 47,
   "metadata": {},
   "outputs": [
    {
     "data": {
      "text/html": [
       "<div>\n",
       "<style scoped>\n",
       "    .dataframe tbody tr th:only-of-type {\n",
       "        vertical-align: middle;\n",
       "    }\n",
       "\n",
       "    .dataframe tbody tr th {\n",
       "        vertical-align: top;\n",
       "    }\n",
       "\n",
       "    .dataframe thead th {\n",
       "        text-align: right;\n",
       "    }\n",
       "</style>\n",
       "<table border=\"1\" class=\"dataframe\">\n",
       "  <thead>\n",
       "    <tr style=\"text-align: right;\">\n",
       "      <th></th>\n",
       "      <th>CTR_1</th>\n",
       "      <th>CTR_2</th>\n",
       "    </tr>\n",
       "  </thead>\n",
       "  <tbody>\n",
       "    <tr>\n",
       "      <th>122</th>\n",
       "      <td>0.067637</td>\n",
       "      <td>0.016300</td>\n",
       "    </tr>\n",
       "    <tr>\n",
       "      <th>49</th>\n",
       "      <td>0.055856</td>\n",
       "      <td>0.009864</td>\n",
       "    </tr>\n",
       "    <tr>\n",
       "      <th>29</th>\n",
       "      <td>0.051497</td>\n",
       "      <td>0.000050</td>\n",
       "    </tr>\n",
       "    <tr>\n",
       "      <th>112</th>\n",
       "      <td>0.051102</td>\n",
       "      <td>0.021420</td>\n",
       "    </tr>\n",
       "    <tr>\n",
       "      <th>158</th>\n",
       "      <td>0.045083</td>\n",
       "      <td>0.003193</td>\n",
       "    </tr>\n",
       "  </tbody>\n",
       "</table>\n",
       "</div>"
      ],
      "text/plain": [
       "        CTR_1     CTR_2\n",
       "122  0.067637  0.016300\n",
       "49   0.055856  0.009864\n",
       "29   0.051497  0.000050\n",
       "112  0.051102  0.021420\n",
       "158  0.045083  0.003193"
      ]
     },
     "execution_count": 47,
     "metadata": {},
     "output_type": "execute_result"
    }
   ],
   "source": [
    "# Affichons les 5 billets qui influent le plus dans la définition du premier facteur de l'ACP\n",
    "df1.sort_values(by='CTR_1', ascending=False).head()"
   ]
  },
  {
   "cell_type": "code",
   "execution_count": 48,
   "metadata": {},
   "outputs": [
    {
     "data": {
      "text/html": [
       "<div>\n",
       "<style scoped>\n",
       "    .dataframe tbody tr th:only-of-type {\n",
       "        vertical-align: middle;\n",
       "    }\n",
       "\n",
       "    .dataframe tbody tr th {\n",
       "        vertical-align: top;\n",
       "    }\n",
       "\n",
       "    .dataframe thead th {\n",
       "        text-align: right;\n",
       "    }\n",
       "</style>\n",
       "<table border=\"1\" class=\"dataframe\">\n",
       "  <thead>\n",
       "    <tr style=\"text-align: right;\">\n",
       "      <th></th>\n",
       "      <th>CTR_1</th>\n",
       "      <th>CTR_2</th>\n",
       "    </tr>\n",
       "  </thead>\n",
       "  <tbody>\n",
       "    <tr>\n",
       "      <th>5</th>\n",
       "      <td>0.008981</td>\n",
       "      <td>0.052350</td>\n",
       "    </tr>\n",
       "    <tr>\n",
       "      <th>166</th>\n",
       "      <td>0.039317</td>\n",
       "      <td>0.049966</td>\n",
       "    </tr>\n",
       "    <tr>\n",
       "      <th>34</th>\n",
       "      <td>0.000208</td>\n",
       "      <td>0.043873</td>\n",
       "    </tr>\n",
       "    <tr>\n",
       "      <th>156</th>\n",
       "      <td>0.000602</td>\n",
       "      <td>0.042505</td>\n",
       "    </tr>\n",
       "    <tr>\n",
       "      <th>70</th>\n",
       "      <td>0.006254</td>\n",
       "      <td>0.041520</td>\n",
       "    </tr>\n",
       "  </tbody>\n",
       "</table>\n",
       "</div>"
      ],
      "text/plain": [
       "        CTR_1     CTR_2\n",
       "5    0.008981  0.052350\n",
       "166  0.039317  0.049966\n",
       "34   0.000208  0.043873\n",
       "156  0.000602  0.042505\n",
       "70   0.006254  0.041520"
      ]
     },
     "execution_count": 48,
     "metadata": {},
     "output_type": "execute_result"
    }
   ],
   "source": [
    "# Affichons les 5 billets qui influent le plus dans la définition du second facteur de l'ACP\n",
    "df1.sort_values(by='CTR_2', ascending=False).head()"
   ]
  },
  {
   "cell_type": "markdown",
   "metadata": {},
   "source": [
    "info : vérifier s'il ny a pas de contribution trop importante sinon virer l'individu de l'analyse"
   ]
  },
  {
   "cell_type": "markdown",
   "metadata": {},
   "source": [
    "<a class=\"anchor\" id=\"kmeans\"></a>\n",
    "***\n",
    "## 4. Classification - Méthode des centres mobiles - KMeans\n",
    "\n",
    "### 4.1 Détection du nombre adéquat de groupes\n",
    "\n",
    "#### 4.1.1 Méthode 1"
   ]
  },
  {
   "cell_type": "code",
   "execution_count": 49,
   "metadata": {},
   "outputs": [
    {
     "data": {
      "image/png": "[encoded data removed]",
      "text/plain": [
       "<matplotlib.figure.Figure at 0x242965a0f98>"
      ]
     },
     "metadata": {},
     "output_type": "display_data"
    }
   ],
   "source": [
    "# source : https://www.youtube.com/watch?v=M4DFmMoGpWs\n",
    "\n",
    "from sklearn.cluster import KMeans\n",
    "\n",
    "wcss = []\n",
    "for i in range(1,11):\n",
    "    kmeans = KMeans(n_clusters=i, init = 'k-means++', max_iter = 300, n_init = 10, random_state = 0) \n",
    "    kmeans.fit(X_scaled)\n",
    "    wcss.append(kmeans.inertia_)\n",
    "    \n",
    "plt.plot(range(1,11), wcss)\n",
    "plt.title(\"The Elbow method\")\n",
    "plt.xlabel('Number of clusters')\n",
    "plt.ylabel('WCSS')\n",
    "\n",
    "plt.savefig('01 - Graphs/11 - KMeans_elbow.png')\n",
    "plt.show()\n"
   ]
  },
  {
   "cell_type": "markdown",
   "metadata": {},
   "source": [
    "Conclusion : Effectuer une classification en 2 groupes"
   ]
  },
  {
   "cell_type": "markdown",
   "metadata": {},
   "source": [
    "<a class=\"anchor\" id=\"algo\"></a>\n",
    "***\n",
    "### 4.2 Application de l'algorithme K-means "
   ]
  },
  {
   "cell_type": "code",
   "execution_count": 50,
   "metadata": {},
   "outputs": [
    {
     "data": {
      "text/plain": [
       "KMeans(algorithm='auto', copy_x=True, init='k-means++', max_iter=300,\n",
       "    n_clusters=2, n_init=10, n_jobs=1, precompute_distances='auto',\n",
       "    random_state=0, tol=0.0001, verbose=0)"
      ]
     },
     "execution_count": 50,
     "metadata": {},
     "output_type": "execute_result"
    }
   ],
   "source": [
    "#k-means sur les données centrées et réduites\n",
    "from sklearn import cluster\n",
    "kmeans = KMeans(n_clusters=2, init = 'k-means++', max_iter = 300, n_init = 10, random_state = 0)\n",
    "kmeans.fit(X_scaled)"
   ]
  },
  {
   "cell_type": "code",
   "execution_count": 51,
   "metadata": {},
   "outputs": [
    {
     "data": {
      "text/plain": [
       "array([1, 0, 0, 0, 0, 1, 0, 0, 0, 1, 1, 0, 0, 0, 0, 0, 0, 0, 0, 0, 0, 0,\n",
       "       0, 0, 0, 0, 0, 0, 0, 0, 0, 0, 0, 0, 0, 0, 0, 0, 0, 0, 0, 0, 0, 0,\n",
       "       0, 0, 0, 0, 0, 0, 0, 0, 0, 0, 0, 0, 0, 0, 0, 0, 0, 0, 0, 0, 0, 1,\n",
       "       0, 0, 0, 1, 0, 0, 0, 0, 0, 0, 0, 0, 0, 0, 0, 0, 0, 0, 1, 0, 0, 0,\n",
       "       0, 0, 0, 0, 0, 0, 0, 0, 1, 0, 0, 0, 1, 1, 1, 1, 1, 1, 1, 1, 1, 1,\n",
       "       1, 1, 1, 1, 1, 1, 1, 1, 1, 1, 1, 1, 1, 1, 1, 1, 1, 1, 1, 1, 1, 1,\n",
       "       1, 1, 1, 1, 1, 1, 1, 1, 1, 1, 1, 1, 0, 1, 1, 1, 1, 1, 1, 1, 1, 1,\n",
       "       1, 1, 1, 1, 1, 1, 1, 1, 1, 1, 1, 1, 1, 1, 1, 1])"
      ]
     },
     "execution_count": 51,
     "metadata": {},
     "output_type": "execute_result"
    }
   ],
   "source": [
    "# Affichage des 2 groupes\n",
    "kmeans.labels_"
   ]
  },
  {
   "cell_type": "code",
   "execution_count": 52,
   "metadata": {},
   "outputs": [
    {
     "data": {
      "text/plain": [
       "array([1, 0, 0, 0, 0, 1, 0, 0, 0, 1, 1, 0, 0, 0, 0, 0, 0, 0, 0, 0, 0, 0,\n",
       "       0, 0, 0, 0, 0, 0, 0, 0, 0, 0, 0, 0, 0, 0, 0, 0, 0, 0, 0, 0, 0, 0,\n",
       "       0, 0, 0, 0, 0, 0, 0, 0, 0, 0, 0, 0, 0, 0, 0, 0, 0, 0, 0, 0, 0, 1,\n",
       "       0, 0, 0, 1, 0, 0, 0, 0, 0, 0, 0, 0, 0, 0, 0, 0, 0, 0, 1, 0, 0, 0,\n",
       "       0, 0, 0, 0, 0, 0, 0, 0, 1, 0, 0, 0, 1, 1, 1, 1, 1, 1, 1, 1, 1, 1,\n",
       "       1, 1, 1, 1, 1, 1, 1, 1, 1, 1, 1, 1, 1, 1, 1, 1, 1, 1, 1, 1, 1, 1,\n",
       "       1, 1, 1, 1, 1, 1, 1, 1, 1, 1, 1, 1, 0, 1, 1, 1, 1, 1, 1, 1, 1, 1,\n",
       "       1, 1, 1, 1, 1, 1, 1, 1, 1, 1, 1, 1, 1, 1, 1, 1])"
      ]
     },
     "execution_count": 52,
     "metadata": {},
     "output_type": "execute_result"
    }
   ],
   "source": [
    "groupes = kmeans.fit_predict(X_scaled)\n",
    "groupes"
   ]
  },
  {
   "cell_type": "markdown",
   "metadata": {},
   "source": [
    "<a class=\"anchor\" id=\"visualisation\"></a>\n",
    "***\n",
    "### 4.3 Visualisation des groupes sur le plan factoriel de l'ACP"
   ]
  },
  {
   "cell_type": "code",
   "execution_count": 53,
   "metadata": {},
   "outputs": [
    {
     "data": {
      "text/html": [
       "<div>\n",
       "<style scoped>\n",
       "    .dataframe tbody tr th:only-of-type {\n",
       "        vertical-align: middle;\n",
       "    }\n",
       "\n",
       "    .dataframe tbody tr th {\n",
       "        vertical-align: top;\n",
       "    }\n",
       "\n",
       "    .dataframe thead th {\n",
       "        text-align: right;\n",
       "    }\n",
       "</style>\n",
       "<table border=\"1\" class=\"dataframe\">\n",
       "  <thead>\n",
       "    <tr style=\"text-align: right;\">\n",
       "      <th></th>\n",
       "      <th>PC1</th>\n",
       "      <th>PC2</th>\n",
       "      <th>is_genuine</th>\n",
       "    </tr>\n",
       "  </thead>\n",
       "  <tbody>\n",
       "    <tr>\n",
       "      <th>0</th>\n",
       "      <td>2.153639</td>\n",
       "      <td>1.599709</td>\n",
       "      <td>True</td>\n",
       "    </tr>\n",
       "    <tr>\n",
       "      <th>1</th>\n",
       "      <td>-2.110416</td>\n",
       "      <td>-0.526039</td>\n",
       "      <td>True</td>\n",
       "    </tr>\n",
       "    <tr>\n",
       "      <th>2</th>\n",
       "      <td>-1.973152</td>\n",
       "      <td>-0.048102</td>\n",
       "      <td>True</td>\n",
       "    </tr>\n",
       "    <tr>\n",
       "      <th>3</th>\n",
       "      <td>-2.059795</td>\n",
       "      <td>-0.089105</td>\n",
       "      <td>True</td>\n",
       "    </tr>\n",
       "    <tr>\n",
       "      <th>4</th>\n",
       "      <td>-2.403180</td>\n",
       "      <td>0.412170</td>\n",
       "      <td>True</td>\n",
       "    </tr>\n",
       "  </tbody>\n",
       "</table>\n",
       "</div>"
      ],
      "text/plain": [
       "        PC1       PC2  is_genuine\n",
       "0  2.153639  1.599709        True\n",
       "1 -2.110416 -0.526039        True\n",
       "2 -1.973152 -0.048102        True\n",
       "3 -2.059795 -0.089105        True\n",
       "4 -2.403180  0.412170        True"
      ]
     },
     "execution_count": 53,
     "metadata": {},
     "output_type": "execute_result"
    }
   ],
   "source": [
    "data_acp.head()"
   ]
  },
  {
   "cell_type": "code",
   "execution_count": 54,
   "metadata": {},
   "outputs": [
    {
     "data": {
      "text/html": [
       "<div>\n",
       "<style scoped>\n",
       "    .dataframe tbody tr th:only-of-type {\n",
       "        vertical-align: middle;\n",
       "    }\n",
       "\n",
       "    .dataframe tbody tr th {\n",
       "        vertical-align: top;\n",
       "    }\n",
       "\n",
       "    .dataframe thead th {\n",
       "        text-align: right;\n",
       "    }\n",
       "</style>\n",
       "<table border=\"1\" class=\"dataframe\">\n",
       "  <thead>\n",
       "    <tr style=\"text-align: right;\">\n",
       "      <th></th>\n",
       "      <th>PC1</th>\n",
       "      <th>PC2</th>\n",
       "      <th>is_genuine</th>\n",
       "      <th>Groupe</th>\n",
       "    </tr>\n",
       "  </thead>\n",
       "  <tbody>\n",
       "    <tr>\n",
       "      <th>0</th>\n",
       "      <td>2.153639</td>\n",
       "      <td>1.599709</td>\n",
       "      <td>True</td>\n",
       "      <td>1</td>\n",
       "    </tr>\n",
       "    <tr>\n",
       "      <th>1</th>\n",
       "      <td>-2.110416</td>\n",
       "      <td>-0.526039</td>\n",
       "      <td>True</td>\n",
       "      <td>0</td>\n",
       "    </tr>\n",
       "    <tr>\n",
       "      <th>2</th>\n",
       "      <td>-1.973152</td>\n",
       "      <td>-0.048102</td>\n",
       "      <td>True</td>\n",
       "      <td>0</td>\n",
       "    </tr>\n",
       "    <tr>\n",
       "      <th>3</th>\n",
       "      <td>-2.059795</td>\n",
       "      <td>-0.089105</td>\n",
       "      <td>True</td>\n",
       "      <td>0</td>\n",
       "    </tr>\n",
       "    <tr>\n",
       "      <th>4</th>\n",
       "      <td>-2.403180</td>\n",
       "      <td>0.412170</td>\n",
       "      <td>True</td>\n",
       "      <td>0</td>\n",
       "    </tr>\n",
       "  </tbody>\n",
       "</table>\n",
       "</div>"
      ],
      "text/plain": [
       "        PC1       PC2  is_genuine  Groupe\n",
       "0  2.153639  1.599709        True       1\n",
       "1 -2.110416 -0.526039        True       0\n",
       "2 -1.973152 -0.048102        True       0\n",
       "3 -2.059795 -0.089105        True       0\n",
       "4 -2.403180  0.412170        True       0"
      ]
     },
     "execution_count": 54,
     "metadata": {},
     "output_type": "execute_result"
    }
   ],
   "source": [
    "# Ajoutons cet array aux données initiales\n",
    "data_acp['Groupe'] = groupes\n",
    "data_acp.head()"
   ]
  },
  {
   "cell_type": "code",
   "execution_count": 55,
   "metadata": {},
   "outputs": [
    {
     "data": {
      "text/plain": [
       "<matplotlib.figure.Figure at 0x2429776fc18>"
      ]
     },
     "metadata": {},
     "output_type": "display_data"
    },
    {
     "data": {
      "image/png": "[encoded data removed]",
      "text/plain": [
       "<matplotlib.figure.Figure at 0x242979c8710>"
      ]
     },
     "metadata": {},
     "output_type": "display_data"
    }
   ],
   "source": [
    "# Visualisation\n",
    "fig1 = plt.figure(figsize=(10,10))\n",
    "\n",
    "# Use the 'hue' argument to provide a factor variable\n",
    "sns.lmplot( x=\"PC1\", y=\"PC2\", data=data_acp, fit_reg=False, hue='Groupe', legend=False, palette=['b', 'y'])\n",
    " \n",
    "# Move the legend to an empty part of the plot\n",
    "plt.legend(loc='upper left')\n",
    " \n",
    "# Afficher une ligne horizontale y=0\n",
    "plt.plot([-3, 3], [0, 0], color='grey', ls='--')\n",
    "\n",
    "# Afficher une ligne verticale x=0\n",
    "plt.plot([0, 0], [-3, 3], color='grey', ls='--')\n",
    "\n",
    "plt.xlim([-3.5, 3.5])\n",
    "plt.ylim([-3.5, 3.5]) \n",
    "    \n",
    "plt.savefig('01 - Graphs/12 - KMeans_ACP.png')\n",
    "\n",
    "plt.show()"
   ]
  },
  {
   "cell_type": "code",
   "execution_count": 56,
   "metadata": {},
   "outputs": [
    {
     "data": {
      "text/plain": [
       "0.7982443135768854"
      ]
     },
     "execution_count": 56,
     "metadata": {},
     "output_type": "execute_result"
    }
   ],
   "source": [
    "# Quelle est la pertinence de l'algorithme ?\n",
    "# Source : http://cedric.cnam.fr/vertigo/Cours/ml/tpKmeans.html\n",
    "from sklearn import metrics\n",
    "\n",
    "metrics.adjusted_rand_score(kmeans.labels_, data.iloc[:,0])"
   ]
  },
  {
   "cell_type": "code",
   "execution_count": 57,
   "metadata": {},
   "outputs": [
    {
     "data": {
      "text/html": [
       "<div>\n",
       "<style scoped>\n",
       "    .dataframe tbody tr th:only-of-type {\n",
       "        vertical-align: middle;\n",
       "    }\n",
       "\n",
       "    .dataframe tbody tr th {\n",
       "        vertical-align: top;\n",
       "    }\n",
       "\n",
       "    .dataframe thead th {\n",
       "        text-align: right;\n",
       "    }\n",
       "</style>\n",
       "<table border=\"1\" class=\"dataframe\">\n",
       "  <thead>\n",
       "    <tr style=\"text-align: right;\">\n",
       "      <th>is_genuine</th>\n",
       "      <th>False</th>\n",
       "      <th>True</th>\n",
       "    </tr>\n",
       "    <tr>\n",
       "      <th>Groupe</th>\n",
       "      <th></th>\n",
       "      <th></th>\n",
       "    </tr>\n",
       "  </thead>\n",
       "  <tbody>\n",
       "    <tr>\n",
       "      <th>0</th>\n",
       "      <td>1</td>\n",
       "      <td>92</td>\n",
       "    </tr>\n",
       "    <tr>\n",
       "      <th>1</th>\n",
       "      <td>69</td>\n",
       "      <td>8</td>\n",
       "    </tr>\n",
       "  </tbody>\n",
       "</table>\n",
       "</div>"
      ],
      "text/plain": [
       "is_genuine  False  True \n",
       "Groupe                  \n",
       "0               1     92\n",
       "1              69      8"
      ]
     },
     "execution_count": 57,
     "metadata": {},
     "output_type": "execute_result"
    }
   ],
   "source": [
    "#correspondance entre les Groupes et l'authenticité des billets\n",
    "pd.crosstab(data_acp['Groupe'], data_acp['is_genuine'])"
   ]
  },
  {
   "cell_type": "markdown",
   "metadata": {},
   "source": [
    "Conclusion : le groupe 0 issu de la classification K-Means correspond aux brais billets (a 1 pres) et le groupe 1 aux faux billets (a 8 pres)"
   ]
  },
  {
   "cell_type": "markdown",
   "metadata": {},
   "source": [
    "<a class=\"anchor\" id=\"regression\"></a>\n",
    "## 5. Regression logistique \n",
    "\n",
    "### 5.1 Modèle"
   ]
  },
  {
   "cell_type": "markdown",
   "metadata": {},
   "source": [
    "Pour une regression linéaire on a pas besoin de standardiser les données : (https://www.youtube.com/watch?v=Q--2Ba1COYU)"
   ]
  },
  {
   "cell_type": "code",
   "execution_count": 58,
   "metadata": {},
   "outputs": [
    {
     "data": {
      "text/html": [
       "<div>\n",
       "<style scoped>\n",
       "    .dataframe tbody tr th:only-of-type {\n",
       "        vertical-align: middle;\n",
       "    }\n",
       "\n",
       "    .dataframe tbody tr th {\n",
       "        vertical-align: top;\n",
       "    }\n",
       "\n",
       "    .dataframe thead th {\n",
       "        text-align: right;\n",
       "    }\n",
       "</style>\n",
       "<table border=\"1\" class=\"dataframe\">\n",
       "  <thead>\n",
       "    <tr style=\"text-align: right;\">\n",
       "      <th></th>\n",
       "      <th>is_genuine</th>\n",
       "      <th>length</th>\n",
       "      <th>height_left</th>\n",
       "      <th>height_right</th>\n",
       "      <th>margin_low</th>\n",
       "      <th>margin_up</th>\n",
       "      <th>diagonal</th>\n",
       "    </tr>\n",
       "  </thead>\n",
       "  <tbody>\n",
       "    <tr>\n",
       "      <th>0</th>\n",
       "      <td>True</td>\n",
       "      <td>171.81</td>\n",
       "      <td>104.86</td>\n",
       "      <td>104.95</td>\n",
       "      <td>4.52</td>\n",
       "      <td>2.89</td>\n",
       "      <td>112.83</td>\n",
       "    </tr>\n",
       "    <tr>\n",
       "      <th>1</th>\n",
       "      <td>True</td>\n",
       "      <td>171.67</td>\n",
       "      <td>103.74</td>\n",
       "      <td>103.70</td>\n",
       "      <td>4.01</td>\n",
       "      <td>2.87</td>\n",
       "      <td>113.29</td>\n",
       "    </tr>\n",
       "    <tr>\n",
       "      <th>2</th>\n",
       "      <td>True</td>\n",
       "      <td>171.83</td>\n",
       "      <td>103.76</td>\n",
       "      <td>103.76</td>\n",
       "      <td>4.40</td>\n",
       "      <td>2.88</td>\n",
       "      <td>113.84</td>\n",
       "    </tr>\n",
       "    <tr>\n",
       "      <th>3</th>\n",
       "      <td>True</td>\n",
       "      <td>171.80</td>\n",
       "      <td>103.78</td>\n",
       "      <td>103.65</td>\n",
       "      <td>3.73</td>\n",
       "      <td>3.12</td>\n",
       "      <td>113.63</td>\n",
       "    </tr>\n",
       "    <tr>\n",
       "      <th>4</th>\n",
       "      <td>True</td>\n",
       "      <td>172.05</td>\n",
       "      <td>103.70</td>\n",
       "      <td>103.75</td>\n",
       "      <td>5.04</td>\n",
       "      <td>2.27</td>\n",
       "      <td>113.55</td>\n",
       "    </tr>\n",
       "  </tbody>\n",
       "</table>\n",
       "</div>"
      ],
      "text/plain": [
       "   is_genuine  length  height_left  height_right  margin_low  margin_up  \\\n",
       "0        True  171.81       104.86        104.95        4.52       2.89   \n",
       "1        True  171.67       103.74        103.70        4.01       2.87   \n",
       "2        True  171.83       103.76        103.76        4.40       2.88   \n",
       "3        True  171.80       103.78        103.65        3.73       3.12   \n",
       "4        True  172.05       103.70        103.75        5.04       2.27   \n",
       "\n",
       "   diagonal  \n",
       "0    112.83  \n",
       "1    113.29  \n",
       "2    113.84  \n",
       "3    113.63  \n",
       "4    113.55  "
      ]
     },
     "execution_count": 58,
     "metadata": {},
     "output_type": "execute_result"
    }
   ],
   "source": [
    "data.head()"
   ]
  },
  {
   "cell_type": "code",
   "execution_count": 59,
   "metadata": {},
   "outputs": [],
   "source": [
    "# Définissons les variables indépendantes =(features):\n",
    "X = data.iloc[:,1:7].values\n",
    "\n",
    "# Définissons la variable dépendante (=target) :\n",
    "y = data.iloc[:,0].values"
   ]
  },
  {
   "cell_type": "code",
   "execution_count": 60,
   "metadata": {},
   "outputs": [
    {
     "data": {
      "text/plain": [
       "0.9882352941176471"
      ]
     },
     "execution_count": 60,
     "metadata": {},
     "output_type": "execute_result"
    }
   ],
   "source": [
    "# Regression logistique\n",
    "\n",
    "from sklearn.linear_model import LogisticRegression\n",
    "\n",
    "# instantiate a logistic regression model, and fit with X and y\n",
    "model = LogisticRegression()\n",
    "model = model.fit(X, y)\n",
    "\n",
    "# check the accuracy\n",
    "model.score(X, y)"
   ]
  },
  {
   "cell_type": "markdown",
   "metadata": {},
   "source": [
    "Bon signe très proche de 1"
   ]
  },
  {
   "cell_type": "markdown",
   "metadata": {},
   "source": [
    "<a class=\"anchor\" id=\"evaluation\"></a>\n",
    "***\n",
    "### 5.2 Evaluation du modèle"
   ]
  },
  {
   "cell_type": "code",
   "execution_count": 61,
   "metadata": {},
   "outputs": [
    {
     "name": "stdout",
     "output_type": "stream",
     "text": [
      "(170, 6)\n",
      "(136, 6)\n"
     ]
    }
   ],
   "source": [
    "# Création des training et test set\n",
    "from sklearn.model_selection  import train_test_split\n",
    "\n",
    "X_train, X_test, y_train, y_test= train_test_split(X, y, test_size=0.2, random_state=0)\n",
    "\n",
    "# Verification\n",
    "print(X.shape)\n",
    "print(X_train.shape)"
   ]
  },
  {
   "cell_type": "code",
   "execution_count": 62,
   "metadata": {},
   "outputs": [
    {
     "data": {
      "text/plain": [
       "LogisticRegression(C=1.0, class_weight=None, dual=False, fit_intercept=True,\n",
       "          intercept_scaling=1, max_iter=100, multi_class='ovr', n_jobs=1,\n",
       "          penalty='l2', random_state=None, solver='liblinear', tol=0.0001,\n",
       "          verbose=0, warm_start=False)"
      ]
     },
     "execution_count": 62,
     "metadata": {},
     "output_type": "execute_result"
    }
   ],
   "source": [
    "# Evaluation du modèle en utilisant un set de validation\n",
    "\n",
    "# evaluate the model by splitting into train and test sets\n",
    "X_train, X_test, y_train, y_test = train_test_split(X, y, test_size=0.3, random_state=0)\n",
    "model2 = LogisticRegression()\n",
    "model2.fit(X_train, y_train)"
   ]
  },
  {
   "cell_type": "code",
   "execution_count": 63,
   "metadata": {},
   "outputs": [
    {
     "name": "stdout",
     "output_type": "stream",
     "text": [
      "[False False False  True  True False  True  True False  True False  True\n",
      "  True False  True  True  True False  True  True False  True False False\n",
      " False  True  True False  True  True  True False  True  True False  True\n",
      "  True False False  True  True False  True False  True False  True False\n",
      "  True False False]\n"
     ]
    }
   ],
   "source": [
    "# predict class labels for the test set\n",
    "\n",
    "y_pred = model2.predict(X_test)\n",
    "print(y_pred)"
   ]
  },
  {
   "cell_type": "code",
   "execution_count": 64,
   "metadata": {},
   "outputs": [
    {
     "name": "stdout",
     "output_type": "stream",
     "text": [
      "1.0\n"
     ]
    }
   ],
   "source": [
    "# generate evaluation metrics\n",
    "\n",
    "from sklearn import metrics\n",
    "\n",
    "print(metrics.accuracy_score(y_test, y_pred))\n"
   ]
  },
  {
   "cell_type": "code",
   "execution_count": 65,
   "metadata": {},
   "outputs": [
    {
     "name": "stdout",
     "output_type": "stream",
     "text": [
      "             precision    recall  f1-score   support\n",
      "\n",
      "      False       1.00      1.00      1.00        23\n",
      "       True       1.00      1.00      1.00        28\n",
      "\n",
      "avg / total       1.00      1.00      1.00        51\n",
      "\n"
     ]
    }
   ],
   "source": [
    "print( metrics.classification_report(y_test, y_pred))\n"
   ]
  },
  {
   "cell_type": "code",
   "execution_count": 66,
   "metadata": {},
   "outputs": [
    {
     "name": "stdout",
     "output_type": "stream",
     "text": [
      "[0.94117647 1.         0.94117647 1.         1.         1.\n",
      " 0.94117647 1.         1.         1.        ]\n",
      "0.9823529411764707\n"
     ]
    }
   ],
   "source": [
    "# Model evaluation using cross Validation (Now let's try 10-fold cross-validation, to see if the accuracy holds up more rigorously.)\n",
    "\n",
    "from sklearn.model_selection import cross_val_score\n",
    "\n",
    "scores = cross_val_score(LogisticRegression(), X, y, scoring='accuracy', cv=10)\n",
    "print(scores)\n",
    "print(scores.mean())"
   ]
  },
  {
   "cell_type": "markdown",
   "metadata": {},
   "source": [
    "<a class=\"anchor\" id=\"prediction\"></a>\n",
    "***\n",
    "### 5.3 Prédiction de l'authenticité à partir de nouveaux billets"
   ]
  },
  {
   "cell_type": "code",
   "execution_count": 78,
   "metadata": {},
   "outputs": [
    {
     "data": {
      "text/html": [
       "<div>\n",
       "<style scoped>\n",
       "    .dataframe tbody tr th:only-of-type {\n",
       "        vertical-align: middle;\n",
       "    }\n",
       "\n",
       "    .dataframe tbody tr th {\n",
       "        vertical-align: top;\n",
       "    }\n",
       "\n",
       "    .dataframe thead th {\n",
       "        text-align: right;\n",
       "    }\n",
       "</style>\n",
       "<table border=\"1\" class=\"dataframe\">\n",
       "  <thead>\n",
       "    <tr style=\"text-align: right;\">\n",
       "      <th></th>\n",
       "      <th>length</th>\n",
       "      <th>height_left</th>\n",
       "      <th>height_right</th>\n",
       "      <th>margin_low</th>\n",
       "      <th>margin_up</th>\n",
       "      <th>diagonal</th>\n",
       "      <th>id</th>\n",
       "    </tr>\n",
       "  </thead>\n",
       "  <tbody>\n",
       "    <tr>\n",
       "      <th>0</th>\n",
       "      <td>171.76</td>\n",
       "      <td>104.01</td>\n",
       "      <td>103.54</td>\n",
       "      <td>5.21</td>\n",
       "      <td>3.30</td>\n",
       "      <td>111.42</td>\n",
       "      <td>B_1</td>\n",
       "    </tr>\n",
       "    <tr>\n",
       "      <th>1</th>\n",
       "      <td>171.87</td>\n",
       "      <td>104.17</td>\n",
       "      <td>104.13</td>\n",
       "      <td>6.00</td>\n",
       "      <td>3.31</td>\n",
       "      <td>112.09</td>\n",
       "      <td>B_2</td>\n",
       "    </tr>\n",
       "    <tr>\n",
       "      <th>2</th>\n",
       "      <td>172.00</td>\n",
       "      <td>104.58</td>\n",
       "      <td>104.29</td>\n",
       "      <td>4.99</td>\n",
       "      <td>3.39</td>\n",
       "      <td>111.57</td>\n",
       "      <td>B_3</td>\n",
       "    </tr>\n",
       "    <tr>\n",
       "      <th>3</th>\n",
       "      <td>172.49</td>\n",
       "      <td>104.55</td>\n",
       "      <td>104.34</td>\n",
       "      <td>4.44</td>\n",
       "      <td>3.03</td>\n",
       "      <td>113.20</td>\n",
       "      <td>B_4</td>\n",
       "    </tr>\n",
       "    <tr>\n",
       "      <th>4</th>\n",
       "      <td>171.65</td>\n",
       "      <td>103.63</td>\n",
       "      <td>103.56</td>\n",
       "      <td>3.77</td>\n",
       "      <td>3.16</td>\n",
       "      <td>113.33</td>\n",
       "      <td>B_5</td>\n",
       "    </tr>\n",
       "  </tbody>\n",
       "</table>\n",
       "</div>"
      ],
      "text/plain": [
       "   length  height_left  height_right  margin_low  margin_up  diagonal   id\n",
       "0  171.76       104.01        103.54        5.21       3.30    111.42  B_1\n",
       "1  171.87       104.17        104.13        6.00       3.31    112.09  B_2\n",
       "2  172.00       104.58        104.29        4.99       3.39    111.57  B_3\n",
       "3  172.49       104.55        104.34        4.44       3.03    113.20  B_4\n",
       "4  171.65       103.63        103.56        3.77       3.16    113.33  B_5"
      ]
     },
     "execution_count": 78,
     "metadata": {},
     "output_type": "execute_result"
    }
   ],
   "source": [
    "# Importer le fichier à tester\n",
    "test = pd.read_csv('00 - Sources/exemple.csv', sep=',')\n",
    "test"
   ]
  },
  {
   "cell_type": "code",
   "execution_count": 79,
   "metadata": {},
   "outputs": [],
   "source": [
    "# Mettons l'id en index\n",
    "test.set_index('id', inplace=True)"
   ]
  },
  {
   "cell_type": "code",
   "execution_count": 80,
   "metadata": {},
   "outputs": [
    {
     "data": {
      "text/plain": [
       "array([[171.76, 104.01, 103.54,   5.21,   3.3 , 111.42],\n",
       "       [171.87, 104.17, 104.13,   6.  ,   3.31, 112.09],\n",
       "       [172.  , 104.58, 104.29,   4.99,   3.39, 111.57],\n",
       "       [172.49, 104.55, 104.34,   4.44,   3.03, 113.2 ],\n",
       "       [171.65, 103.63, 103.56,   3.77,   3.16, 113.33]])"
      ]
     },
     "execution_count": 80,
     "metadata": {},
     "output_type": "execute_result"
    }
   ],
   "source": [
    "# Définissons les variables indépendantes :\n",
    "X = test.values\n",
    "X"
   ]
  },
  {
   "cell_type": "code",
   "execution_count": 81,
   "metadata": {},
   "outputs": [],
   "source": [
    "# Prédisons l'authenticité des billets\n",
    "pred = model.predict(X)"
   ]
  },
  {
   "cell_type": "code",
   "execution_count": 82,
   "metadata": {},
   "outputs": [
    {
     "data": {
      "text/plain": [
       "array([[0.9592519 , 0.0407481 ],\n",
       "       [0.99054479, 0.00945521],\n",
       "       [0.97150031, 0.02849969],\n",
       "       [0.12397597, 0.87602403],\n",
       "       [0.00374932, 0.99625068]])"
      ]
     },
     "execution_count": 82,
     "metadata": {},
     "output_type": "execute_result"
    }
   ],
   "source": [
    "# generate class probabilities\n",
    "probs = model.predict_proba(X)\n",
    "probs"
   ]
  },
  {
   "cell_type": "code",
   "execution_count": 83,
   "metadata": {},
   "outputs": [
    {
     "data": {
      "text/html": [
       "<div>\n",
       "<style scoped>\n",
       "    .dataframe tbody tr th:only-of-type {\n",
       "        vertical-align: middle;\n",
       "    }\n",
       "\n",
       "    .dataframe tbody tr th {\n",
       "        vertical-align: top;\n",
       "    }\n",
       "\n",
       "    .dataframe thead th {\n",
       "        text-align: right;\n",
       "    }\n",
       "</style>\n",
       "<table border=\"1\" class=\"dataframe\">\n",
       "  <thead>\n",
       "    <tr style=\"text-align: right;\">\n",
       "      <th></th>\n",
       "      <th>False</th>\n",
       "      <th>True</th>\n",
       "    </tr>\n",
       "    <tr>\n",
       "      <th>id</th>\n",
       "      <th></th>\n",
       "      <th></th>\n",
       "    </tr>\n",
       "  </thead>\n",
       "  <tbody>\n",
       "    <tr>\n",
       "      <th>B_1</th>\n",
       "      <td>0.959252</td>\n",
       "      <td>0.040748</td>\n",
       "    </tr>\n",
       "    <tr>\n",
       "      <th>B_2</th>\n",
       "      <td>0.990545</td>\n",
       "      <td>0.009455</td>\n",
       "    </tr>\n",
       "    <tr>\n",
       "      <th>B_3</th>\n",
       "      <td>0.971500</td>\n",
       "      <td>0.028500</td>\n",
       "    </tr>\n",
       "    <tr>\n",
       "      <th>B_4</th>\n",
       "      <td>0.123976</td>\n",
       "      <td>0.876024</td>\n",
       "    </tr>\n",
       "    <tr>\n",
       "      <th>B_5</th>\n",
       "      <td>0.003749</td>\n",
       "      <td>0.996251</td>\n",
       "    </tr>\n",
       "  </tbody>\n",
       "</table>\n",
       "</div>"
      ],
      "text/plain": [
       "        False      True\n",
       "id                     \n",
       "B_1  0.959252  0.040748\n",
       "B_2  0.990545  0.009455\n",
       "B_3  0.971500  0.028500\n",
       "B_4  0.123976  0.876024\n",
       "B_5  0.003749  0.996251"
      ]
     },
     "execution_count": 83,
     "metadata": {},
     "output_type": "execute_result"
    }
   ],
   "source": [
    "# Array to DataFrame\n",
    "\n",
    "probs = pd.DataFrame(probs)\n",
    "probs.index = test.index\n",
    "probs.columns = ['False', 'True']\n",
    "probs"
   ]
  },
  {
   "cell_type": "code",
   "execution_count": 84,
   "metadata": {},
   "outputs": [
    {
     "data": {
      "text/html": [
       "<div>\n",
       "<style scoped>\n",
       "    .dataframe tbody tr th:only-of-type {\n",
       "        vertical-align: middle;\n",
       "    }\n",
       "\n",
       "    .dataframe tbody tr th {\n",
       "        vertical-align: top;\n",
       "    }\n",
       "\n",
       "    .dataframe thead th {\n",
       "        text-align: right;\n",
       "    }\n",
       "</style>\n",
       "<table border=\"1\" class=\"dataframe\">\n",
       "  <thead>\n",
       "    <tr style=\"text-align: right;\">\n",
       "      <th></th>\n",
       "      <th>length</th>\n",
       "      <th>height_left</th>\n",
       "      <th>height_right</th>\n",
       "      <th>margin_low</th>\n",
       "      <th>margin_up</th>\n",
       "      <th>diagonal</th>\n",
       "      <th>is_genuine</th>\n",
       "    </tr>\n",
       "    <tr>\n",
       "      <th>id</th>\n",
       "      <th></th>\n",
       "      <th></th>\n",
       "      <th></th>\n",
       "      <th></th>\n",
       "      <th></th>\n",
       "      <th></th>\n",
       "      <th></th>\n",
       "    </tr>\n",
       "  </thead>\n",
       "  <tbody>\n",
       "    <tr>\n",
       "      <th>B_1</th>\n",
       "      <td>171.76</td>\n",
       "      <td>104.01</td>\n",
       "      <td>103.54</td>\n",
       "      <td>5.21</td>\n",
       "      <td>3.30</td>\n",
       "      <td>111.42</td>\n",
       "      <td>False</td>\n",
       "    </tr>\n",
       "    <tr>\n",
       "      <th>B_2</th>\n",
       "      <td>171.87</td>\n",
       "      <td>104.17</td>\n",
       "      <td>104.13</td>\n",
       "      <td>6.00</td>\n",
       "      <td>3.31</td>\n",
       "      <td>112.09</td>\n",
       "      <td>False</td>\n",
       "    </tr>\n",
       "    <tr>\n",
       "      <th>B_3</th>\n",
       "      <td>172.00</td>\n",
       "      <td>104.58</td>\n",
       "      <td>104.29</td>\n",
       "      <td>4.99</td>\n",
       "      <td>3.39</td>\n",
       "      <td>111.57</td>\n",
       "      <td>False</td>\n",
       "    </tr>\n",
       "    <tr>\n",
       "      <th>B_4</th>\n",
       "      <td>172.49</td>\n",
       "      <td>104.55</td>\n",
       "      <td>104.34</td>\n",
       "      <td>4.44</td>\n",
       "      <td>3.03</td>\n",
       "      <td>113.20</td>\n",
       "      <td>True</td>\n",
       "    </tr>\n",
       "    <tr>\n",
       "      <th>B_5</th>\n",
       "      <td>171.65</td>\n",
       "      <td>103.63</td>\n",
       "      <td>103.56</td>\n",
       "      <td>3.77</td>\n",
       "      <td>3.16</td>\n",
       "      <td>113.33</td>\n",
       "      <td>True</td>\n",
       "    </tr>\n",
       "  </tbody>\n",
       "</table>\n",
       "</div>"
      ],
      "text/plain": [
       "     length  height_left  height_right  margin_low  margin_up  diagonal  \\\n",
       "id                                                                        \n",
       "B_1  171.76       104.01        103.54        5.21       3.30    111.42   \n",
       "B_2  171.87       104.17        104.13        6.00       3.31    112.09   \n",
       "B_3  172.00       104.58        104.29        4.99       3.39    111.57   \n",
       "B_4  172.49       104.55        104.34        4.44       3.03    113.20   \n",
       "B_5  171.65       103.63        103.56        3.77       3.16    113.33   \n",
       "\n",
       "     is_genuine  \n",
       "id               \n",
       "B_1       False  \n",
       "B_2       False  \n",
       "B_3       False  \n",
       "B_4        True  \n",
       "B_5        True  "
      ]
     },
     "execution_count": 84,
     "metadata": {},
     "output_type": "execute_result"
    }
   ],
   "source": [
    "test['is_genuine'] = pred\n",
    "test"
   ]
  },
  {
   "cell_type": "code",
   "execution_count": 85,
   "metadata": {},
   "outputs": [],
   "source": [
    "test.to_excel('00 - Sources/exemple_out.xlsx', encoding='utf-8')"
   ]
  },
  {
   "cell_type": "code",
   "execution_count": 86,
   "metadata": {},
   "outputs": [
    {
     "data": {
      "image/png": "[encoded data removed]",
      "text/plain": [
       "<matplotlib.figure.Figure at 0x24296595320>"
      ]
     },
     "metadata": {},
     "output_type": "display_data"
    }
   ],
   "source": [
    "sns.lmplot( x='margin_up', y='diagonal', data=data, fit_reg=False, hue='is_genuine', palette=['r', 'g'])\n",
    "plt.xlabel('margin_up')\n",
    "plt.ylabel('diagonal')\n",
    "plt.title('Billets sources')\n",
    "\n",
    "plt.savefig('01 - Graphs/13 - Répartition billets sources.png', bbox_inches='tight', dpi=100)\n",
    "\n",
    "plt.show()"
   ]
  },
  {
   "cell_type": "code",
   "execution_count": 87,
   "metadata": {},
   "outputs": [],
   "source": [
    "test.reset_index(inplace=True)"
   ]
  },
  {
   "cell_type": "code",
   "execution_count": 88,
   "metadata": {},
   "outputs": [
    {
     "data": {
      "image/png": "[encoded data removed]",
      "text/plain": [
       "<matplotlib.figure.Figure at 0x24296594828>"
      ]
     },
     "metadata": {},
     "output_type": "display_data"
    }
   ],
   "source": [
    "# Source 1: https://stackoverflow.com/questions/46027653/adding-labels-in-x-y-scatter-plot-with-seaborn\n",
    "# Source 2: Annoter avec Matplotlib : https://www.pythonmembers.club/2018/05/08/matplotlib-scatter-plot-annotate-set-text-at-label-each-point/\n",
    "\n",
    "ax=sns.lmplot( x='margin_up', y='diagonal', data=test, fit_reg=False, hue='is_genuine', palette=['r', 'g'])\n",
    "\n",
    "\n",
    "def label_point(x, y, val, ax):\n",
    "    a = pd.concat({'x': x, 'y': y, 'val': val}, axis=1)\n",
    "    for i, point in a.iterrows():\n",
    "        ax.text(point['x']+.02, point['y'], str(point['val']))\n",
    "\n",
    "label_point(test.margin_up, test.diagonal, test.id, plt.gca())  \n",
    "\n",
    "plt.xlabel('margin_up')\n",
    "plt.ylabel('diagonal')\n",
    "plt.title('Billets tests')\n",
    "\n",
    "plt.savefig('01 - Graphs/14 - Répartition billets tests.png', bbox_inches='tight', dpi=100)   \n",
    "    \n",
    "plt.show()"
   ]
  },
  {
   "cell_type": "markdown",
   "metadata": {},
   "source": [
    "Les billets tests se retrouvent bien dans les clusters vrai/faux du pool de billets source. Cela confirme les bonnes prédictions du modèle de regression logistique mis en place."
   ]
  },
  {
   "cell_type": "markdown",
   "metadata": {},
   "source": [
    "***\n",
    "[Top de la page](#top)"
   ]
  }
 ],
 "metadata": {
  "kernelspec": {
   "display_name": "Python 3",
   "language": "python",
   "name": "python3"
  },
  "language_info": {
   "codemirror_mode": {
    "name": "ipython",
    "version": 3
   },
   "file_extension": ".py",
   "mimetype": "text/x-python",
   "name": "python",
   "nbconvert_exporter": "python",
   "pygments_lexer": "ipython3",
   "version": "3.7.3"
  },
  "toc": {
   "base_numbering": 1,
   "nav_menu": {},
   "number_sections": true,
   "sideBar": true,
   "skip_h1_title": false,
   "title_cell": "Table of Contents",
   "title_sidebar": "Contents",
   "toc_cell": false,
   "toc_position": {},
   "toc_section_display": true,
   "toc_window_display": false
  },
  "varInspector": {
   "cols": {
    "lenName": 16,
    "lenType": 16,
    "lenVar": 40
   },
   "kernels_config": {
    "python": {
     "delete_cmd_postfix": "",
     "delete_cmd_prefix": "del ",
     "library": "var_list.py",
     "varRefreshCmd": "print(var_dic_list())"
    },
    "r": {
     "delete_cmd_postfix": ") ",
     "delete_cmd_prefix": "rm(",
     "library": "var_list.r",
     "varRefreshCmd": "cat(var_dic_list()) "
    }
   },
   "types_to_exclude": [
    "module",
    "function",
    "builtin_function_or_method",
    "instance",
    "_Feature"
   ],
   "window_display": false
  }
 },
 "nbformat": 4,
 "nbformat_minor": 2
}
