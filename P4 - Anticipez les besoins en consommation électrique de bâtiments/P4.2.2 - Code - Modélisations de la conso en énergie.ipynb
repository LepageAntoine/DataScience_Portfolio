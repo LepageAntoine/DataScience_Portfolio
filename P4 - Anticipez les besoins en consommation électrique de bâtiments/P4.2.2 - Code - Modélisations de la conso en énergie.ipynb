{
 "cells": [
  {
   "cell_type": "markdown",
   "metadata": {},
   "source": [
    "<a class=\"anchor\" id=\"top\"></a>\n",
    "**Formation Data Scientist - Projet 4**\n",
    "\n",
    "**Anticipez les besoins en consommation électrique de bâtiments**\n",
    "\n",
    "**Partie 2 - Modélisations - estimation de SiteEnergyUse(kBtu)**\n",
    "\n",
    "Antoine LEPAGE <br /> \n",
    "yop1001@gmail.com\n",
    "\n",
    "https://openclassrooms.com/fr/projects/629/assignment"
   ]
  },
  {
   "cell_type": "markdown",
   "metadata": {},
   "source": [
    "**Table des matières**\n",
    "\n",
    "1. [Modélisations - estimation de *SiteEnergyUse(kBtu)*](#modelisations_SiteEnergyUse(kBtu))<br />\n",
    "      \n",
    "    1.1. [Preprocessing](#preprocessing)<br />\n",
    "    1.1.1 [Choix des variables](#choix_variables_2)<br />\n",
    "    1.1.2.[Encodage de la variable qualitative](#encodage)<br />\n",
    "    1.1.3.[Séparation train et test sets ](#train_test)<br />\n",
    "    1.1.4.[Standardisation](#var_standardisation)<br />\n",
    "    \n",
    "    1.2. [Régressions linéaires](#regressions_lineaires)<br />\n",
    "    \n",
    "    1.2.1. [Régression linéaire standard](#regression_lineaire)<br />\n",
    "    1.2.1.1. [régression linéaire (sans CV)](#linreg_classique)<br />\n",
    "    1.2.1.2. [régression linéaire (avec CV)](#linreg_CV)<br />\n",
    "    \n",
    "    1.2.2. [Régression Ridge](#regression_ridge)<br />\n",
    "    1.2.2.1. [Recherche du meilleur alpha](#ridge_alpha)<br />\n",
    "    1.2.2.2. [Regression Ridge (avec CV)](#ridge_CV)<br />   \n",
    "    \n",
    "    1.2.3. [Régression Lasso](#regression_lasso)<br />\n",
    "    1.2.3.1. [Recherche du meilleur alpha](#lasso_alpha)<br />\n",
    "    1.2.3.2. [Regression Lasso (avec CV)](#lasso_CV)<br />  \n",
    "        \n",
    "    1.3. [Régressions non linéaires](#regressions_non_lineaires)<br />\n",
    "    1.3.1. [Support Vector Regression (SVR)](#svr)<br />\n",
    "    1.3.2. [Neural Network (MLPRegressor](#neural_network)<br />\n",
    "     \n",
    "     1.4. [Méthode ensemblistes - Random Forest](#methodes_ensemblistes)<br />\n",
    "<br /> \n",
    "2. [Résultats](#resultats)<br />\n",
    "    2.1. [Choix du modèle](#choix_modèle)<br />\n",
    "    2.2. [Généralisation du modèle choisi](#generalisation)<br />\n",
    "\n",
    "\n",
    "\n",
    "\n",
    "\n",
    "\n"
   ]
  },
  {
   "cell_type": "code",
   "execution_count": 1,
   "metadata": {},
   "outputs": [],
   "source": [
    "import pandas as pd\n",
    "import numpy as np\n",
    "\n",
    "import matplotlib.pyplot as plt\n",
    "import seaborn as sns\n",
    "\n",
    "sns.set_style(\"whitegrid\")\n",
    "seahawks_blue='#002244'"
   ]
  },
  {
   "cell_type": "code",
   "execution_count": 2,
   "metadata": {},
   "outputs": [],
   "source": [
    "# Intervalle de confiance\n",
    "def mean_confidence_interval(data, confidence=0.95):\n",
    "    a = 1.0 * np.array(data)\n",
    "    n = len(a)\n",
    "    moy, std = np.mean(a), np.std(a)\n",
    "    h = (1 + confidence) * (std/np.sqrt(n))\n",
    "    return moy, moy-h, moy+h"
   ]
  },
  {
   "cell_type": "code",
   "execution_count": 3,
   "metadata": {},
   "outputs": [
    {
     "data": {
      "text/html": [
       "<div>\n",
       "<style scoped>\n",
       "    .dataframe tbody tr th:only-of-type {\n",
       "        vertical-align: middle;\n",
       "    }\n",
       "\n",
       "    .dataframe tbody tr th {\n",
       "        vertical-align: top;\n",
       "    }\n",
       "\n",
       "    .dataframe thead th {\n",
       "        text-align: right;\n",
       "    }\n",
       "</style>\n",
       "<table border=\"1\" class=\"dataframe\">\n",
       "  <thead>\n",
       "    <tr style=\"text-align: right;\">\n",
       "      <th></th>\n",
       "      <th>OSEBuildingID</th>\n",
       "      <th>PrimaryPropertyType</th>\n",
       "      <th>PropertyName</th>\n",
       "      <th>Neighborhood</th>\n",
       "      <th>YearBuilt</th>\n",
       "      <th>NumberofFloors</th>\n",
       "      <th>PropertyGFATotal</th>\n",
       "      <th>PropertyGFAParking</th>\n",
       "      <th>PropertyGFABuilding(s)</th>\n",
       "      <th>YearsENERGYSTARCertified</th>\n",
       "      <th>...</th>\n",
       "      <th>SiteEnergyUse(kBtu)</th>\n",
       "      <th>GHGEmissions(MetricTonsCO2e)</th>\n",
       "      <th>GHGEmissionsIntensity(kgCO2e/ft2)</th>\n",
       "      <th>ComplianceStatus</th>\n",
       "      <th>Outlier</th>\n",
       "      <th>PrimaryPropertyType_clean</th>\n",
       "      <th>Latitude</th>\n",
       "      <th>Longitude</th>\n",
       "      <th>Address</th>\n",
       "      <th>Age_batiment</th>\n",
       "    </tr>\n",
       "  </thead>\n",
       "  <tbody>\n",
       "    <tr>\n",
       "      <th>0</th>\n",
       "      <td>1</td>\n",
       "      <td>Hotel</td>\n",
       "      <td>MAYFLOWER PARK HOTEL</td>\n",
       "      <td>DOWNTOWN</td>\n",
       "      <td>1927</td>\n",
       "      <td>12</td>\n",
       "      <td>88434</td>\n",
       "      <td>0</td>\n",
       "      <td>88434</td>\n",
       "      <td>NaN</td>\n",
       "      <td>...</td>\n",
       "      <td>6981428</td>\n",
       "      <td>249.43</td>\n",
       "      <td>2.64</td>\n",
       "      <td>Compliant</td>\n",
       "      <td>Not Outlier</td>\n",
       "      <td>Hotel</td>\n",
       "      <td>47.612190</td>\n",
       "      <td>-122.337997</td>\n",
       "      <td>405 OLIVE WAY</td>\n",
       "      <td>92</td>\n",
       "    </tr>\n",
       "    <tr>\n",
       "      <th>1</th>\n",
       "      <td>2</td>\n",
       "      <td>Hotel</td>\n",
       "      <td>PARAMOUNT HOTEL</td>\n",
       "      <td>DOWNTOWN</td>\n",
       "      <td>1996</td>\n",
       "      <td>11</td>\n",
       "      <td>103566</td>\n",
       "      <td>15064</td>\n",
       "      <td>88502</td>\n",
       "      <td>NaN</td>\n",
       "      <td>...</td>\n",
       "      <td>8354235</td>\n",
       "      <td>263.51</td>\n",
       "      <td>2.38</td>\n",
       "      <td>Compliant</td>\n",
       "      <td>Not Outlier</td>\n",
       "      <td>Hotel</td>\n",
       "      <td>47.613106</td>\n",
       "      <td>-122.333358</td>\n",
       "      <td>724 PINE ST</td>\n",
       "      <td>23</td>\n",
       "    </tr>\n",
       "    <tr>\n",
       "      <th>2</th>\n",
       "      <td>3</td>\n",
       "      <td>Hotel</td>\n",
       "      <td>WESTIN HOTEL</td>\n",
       "      <td>DOWNTOWN</td>\n",
       "      <td>1969</td>\n",
       "      <td>41</td>\n",
       "      <td>961990</td>\n",
       "      <td>0</td>\n",
       "      <td>961990</td>\n",
       "      <td>NaN</td>\n",
       "      <td>...</td>\n",
       "      <td>73130656</td>\n",
       "      <td>2061.48</td>\n",
       "      <td>1.92</td>\n",
       "      <td>Compliant</td>\n",
       "      <td>Not Outlier</td>\n",
       "      <td>Hotel</td>\n",
       "      <td>47.613349</td>\n",
       "      <td>-122.337699</td>\n",
       "      <td>1900 5TH AVE</td>\n",
       "      <td>50</td>\n",
       "    </tr>\n",
       "    <tr>\n",
       "      <th>3</th>\n",
       "      <td>5</td>\n",
       "      <td>Hotel</td>\n",
       "      <td>HOTEL MAX</td>\n",
       "      <td>DOWNTOWN</td>\n",
       "      <td>1926</td>\n",
       "      <td>10</td>\n",
       "      <td>61320</td>\n",
       "      <td>0</td>\n",
       "      <td>61320</td>\n",
       "      <td>NaN</td>\n",
       "      <td>...</td>\n",
       "      <td>28229320</td>\n",
       "      <td>1936.34</td>\n",
       "      <td>31.38</td>\n",
       "      <td>Compliant</td>\n",
       "      <td>High Outlier</td>\n",
       "      <td>Hotel</td>\n",
       "      <td>47.614216</td>\n",
       "      <td>-122.336609</td>\n",
       "      <td>620 STEWART ST</td>\n",
       "      <td>93</td>\n",
       "    </tr>\n",
       "    <tr>\n",
       "      <th>4</th>\n",
       "      <td>8</td>\n",
       "      <td>Hotel</td>\n",
       "      <td>WARWICK SEATTLE HOTEL</td>\n",
       "      <td>DOWNTOWN</td>\n",
       "      <td>1980</td>\n",
       "      <td>18</td>\n",
       "      <td>119890</td>\n",
       "      <td>12460</td>\n",
       "      <td>107430</td>\n",
       "      <td>NaN</td>\n",
       "      <td>...</td>\n",
       "      <td>14829099</td>\n",
       "      <td>507.70</td>\n",
       "      <td>4.02</td>\n",
       "      <td>Compliant</td>\n",
       "      <td>Not Outlier</td>\n",
       "      <td>Hotel</td>\n",
       "      <td>47.613754</td>\n",
       "      <td>-122.340924</td>\n",
       "      <td>401 LENORA ST</td>\n",
       "      <td>39</td>\n",
       "    </tr>\n",
       "  </tbody>\n",
       "</table>\n",
       "<p>5 rows × 22 columns</p>\n",
       "</div>"
      ],
      "text/plain": [
       "   OSEBuildingID PrimaryPropertyType           PropertyName Neighborhood  \\\n",
       "0              1               Hotel   MAYFLOWER PARK HOTEL     DOWNTOWN   \n",
       "1              2               Hotel        PARAMOUNT HOTEL     DOWNTOWN   \n",
       "2              3               Hotel           WESTIN HOTEL     DOWNTOWN   \n",
       "3              5               Hotel              HOTEL MAX     DOWNTOWN   \n",
       "4              8               Hotel  WARWICK SEATTLE HOTEL     DOWNTOWN   \n",
       "\n",
       "   YearBuilt  NumberofFloors  PropertyGFATotal  PropertyGFAParking  \\\n",
       "0       1927              12             88434                   0   \n",
       "1       1996              11            103566               15064   \n",
       "2       1969              41            961990                   0   \n",
       "3       1926              10             61320                   0   \n",
       "4       1980              18            119890               12460   \n",
       "\n",
       "   PropertyGFABuilding(s) YearsENERGYSTARCertified  ...  SiteEnergyUse(kBtu)  \\\n",
       "0                   88434                      NaN  ...              6981428   \n",
       "1                   88502                      NaN  ...              8354235   \n",
       "2                  961990                      NaN  ...             73130656   \n",
       "3                   61320                      NaN  ...             28229320   \n",
       "4                  107430                      NaN  ...             14829099   \n",
       "\n",
       "   GHGEmissions(MetricTonsCO2e)  GHGEmissionsIntensity(kgCO2e/ft2)  \\\n",
       "0                        249.43                               2.64   \n",
       "1                        263.51                               2.38   \n",
       "2                       2061.48                               1.92   \n",
       "3                       1936.34                              31.38   \n",
       "4                        507.70                               4.02   \n",
       "\n",
       "   ComplianceStatus       Outlier PrimaryPropertyType_clean   Latitude  \\\n",
       "0         Compliant   Not Outlier                     Hotel  47.612190   \n",
       "1         Compliant   Not Outlier                     Hotel  47.613106   \n",
       "2         Compliant   Not Outlier                     Hotel  47.613349   \n",
       "3         Compliant  High Outlier                     Hotel  47.614216   \n",
       "4         Compliant   Not Outlier                     Hotel  47.613754   \n",
       "\n",
       "    Longitude         Address  Age_batiment  \n",
       "0 -122.337997   405 OLIVE WAY            92  \n",
       "1 -122.333358     724 PINE ST            23  \n",
       "2 -122.337699    1900 5TH AVE            50  \n",
       "3 -122.336609  620 STEWART ST            93  \n",
       "4 -122.340924   401 LENORA ST            39  \n",
       "\n",
       "[5 rows x 22 columns]"
      ]
     },
     "execution_count": 3,
     "metadata": {},
     "output_type": "execute_result"
    }
   ],
   "source": [
    "# Importation des données nettoyées\n",
    "data = pd.read_excel('mod_data.xlsx')\n",
    "data.head()"
   ]
  },
  {
   "cell_type": "markdown",
   "metadata": {},
   "source": [
    "<a class=\"anchor\" id=\"modelisations_SiteEnergyUse(kBtu)\"></a>\n",
    "***\n",
    "# 1. Modélisations - estimation de *SiteEnergyUse(kBtu)*"
   ]
  },
  {
   "cell_type": "markdown",
   "metadata": {},
   "source": [
    "<a class=\"anchor\" id=\"preprocessing\"></a>\n",
    "***\n",
    "## 1.1. Preprocessing"
   ]
  },
  {
   "cell_type": "markdown",
   "metadata": {},
   "source": [
    "<a class=\"anchor\" id=\"choix_variables_2\"></a>\n",
    "***\n",
    "### 1.1.1. Choix des variables"
   ]
  },
  {
   "cell_type": "markdown",
   "metadata": {},
   "source": [
    "Choix des variables explicatives. A priori 6 variables\n",
    "\n",
    "Exprimer la taille du batiment\n",
    "- NumberofFloors \n",
    "- PropertyGFAParking \n",
    "- PropertyGFABuilding(s) \n",
    "\n",
    "Exprimer la location \n",
    "- CouncilDistrictCode \n",
    "- ou Neighborhood \n",
    "- ou Location \n",
    "   \n",
    "Exprimer  l'ancienneté du bâtiment\n",
    "- Age_batiment\n",
    "\n",
    "Exprimer le type d'utilisation du batiment\n",
    "- PrimaryPropertyType"
   ]
  },
  {
   "cell_type": "code",
   "execution_count": 4,
   "metadata": {},
   "outputs": [],
   "source": [
    "# create a Python list of features names\n",
    "feature_cols = ['PrimaryPropertyType_clean', 'NumberofFloors', 'PropertyGFAParking', 'PropertyGFABuilding(s)', 'Age_batiment', 'Latitude', 'Longitude', 'SiteEnergyUse(kBtu)' , 'GHGEmissions(MetricTonsCO2e)']\n",
    "\n",
    "# Création d'un dataframe pour la modélisation\n",
    "mod_data = data[feature_cols]"
   ]
  },
  {
   "cell_type": "code",
   "execution_count": 5,
   "metadata": {},
   "outputs": [
    {
     "data": {
      "text/html": [
       "<div>\n",
       "<style scoped>\n",
       "    .dataframe tbody tr th:only-of-type {\n",
       "        vertical-align: middle;\n",
       "    }\n",
       "\n",
       "    .dataframe tbody tr th {\n",
       "        vertical-align: top;\n",
       "    }\n",
       "\n",
       "    .dataframe thead th {\n",
       "        text-align: right;\n",
       "    }\n",
       "</style>\n",
       "<table border=\"1\" class=\"dataframe\">\n",
       "  <thead>\n",
       "    <tr style=\"text-align: right;\">\n",
       "      <th></th>\n",
       "      <th>PrimaryPropertyType_clean</th>\n",
       "      <th>NumberofFloors</th>\n",
       "      <th>PropertyGFAParking</th>\n",
       "      <th>PropertyGFABuilding(s)</th>\n",
       "      <th>Age_batiment</th>\n",
       "      <th>Latitude</th>\n",
       "      <th>Longitude</th>\n",
       "      <th>SiteEnergyUse(kBtu)</th>\n",
       "      <th>GHGEmissions(MetricTonsCO2e)</th>\n",
       "    </tr>\n",
       "  </thead>\n",
       "  <tbody>\n",
       "    <tr>\n",
       "      <th>0</th>\n",
       "      <td>Hotel</td>\n",
       "      <td>12</td>\n",
       "      <td>0</td>\n",
       "      <td>88434</td>\n",
       "      <td>92</td>\n",
       "      <td>47.612190</td>\n",
       "      <td>-122.337997</td>\n",
       "      <td>6981428</td>\n",
       "      <td>249.43</td>\n",
       "    </tr>\n",
       "    <tr>\n",
       "      <th>1</th>\n",
       "      <td>Hotel</td>\n",
       "      <td>11</td>\n",
       "      <td>15064</td>\n",
       "      <td>88502</td>\n",
       "      <td>23</td>\n",
       "      <td>47.613106</td>\n",
       "      <td>-122.333358</td>\n",
       "      <td>8354235</td>\n",
       "      <td>263.51</td>\n",
       "    </tr>\n",
       "    <tr>\n",
       "      <th>2</th>\n",
       "      <td>Hotel</td>\n",
       "      <td>41</td>\n",
       "      <td>0</td>\n",
       "      <td>961990</td>\n",
       "      <td>50</td>\n",
       "      <td>47.613349</td>\n",
       "      <td>-122.337699</td>\n",
       "      <td>73130656</td>\n",
       "      <td>2061.48</td>\n",
       "    </tr>\n",
       "    <tr>\n",
       "      <th>3</th>\n",
       "      <td>Hotel</td>\n",
       "      <td>10</td>\n",
       "      <td>0</td>\n",
       "      <td>61320</td>\n",
       "      <td>93</td>\n",
       "      <td>47.614216</td>\n",
       "      <td>-122.336609</td>\n",
       "      <td>28229320</td>\n",
       "      <td>1936.34</td>\n",
       "    </tr>\n",
       "    <tr>\n",
       "      <th>4</th>\n",
       "      <td>Hotel</td>\n",
       "      <td>18</td>\n",
       "      <td>12460</td>\n",
       "      <td>107430</td>\n",
       "      <td>39</td>\n",
       "      <td>47.613754</td>\n",
       "      <td>-122.340924</td>\n",
       "      <td>14829099</td>\n",
       "      <td>507.70</td>\n",
       "    </tr>\n",
       "  </tbody>\n",
       "</table>\n",
       "</div>"
      ],
      "text/plain": [
       "  PrimaryPropertyType_clean  NumberofFloors  PropertyGFAParking  \\\n",
       "0                     Hotel              12                   0   \n",
       "1                     Hotel              11               15064   \n",
       "2                     Hotel              41                   0   \n",
       "3                     Hotel              10                   0   \n",
       "4                     Hotel              18               12460   \n",
       "\n",
       "   PropertyGFABuilding(s)  Age_batiment   Latitude   Longitude  \\\n",
       "0                   88434            92  47.612190 -122.337997   \n",
       "1                   88502            23  47.613106 -122.333358   \n",
       "2                  961990            50  47.613349 -122.337699   \n",
       "3                   61320            93  47.614216 -122.336609   \n",
       "4                  107430            39  47.613754 -122.340924   \n",
       "\n",
       "   SiteEnergyUse(kBtu)  GHGEmissions(MetricTonsCO2e)  \n",
       "0              6981428                        249.43  \n",
       "1              8354235                        263.51  \n",
       "2             73130656                       2061.48  \n",
       "3             28229320                       1936.34  \n",
       "4             14829099                        507.70  "
      ]
     },
     "execution_count": 5,
     "metadata": {},
     "output_type": "execute_result"
    }
   ],
   "source": [
    "mod_data.head()"
   ]
  },
  {
   "cell_type": "markdown",
   "metadata": {},
   "source": [
    "<a class=\"anchor\" id=\"encodage\"></a>\n",
    "***\n",
    "### 1.1.2. Encodage de la variable qualitative"
   ]
  },
  {
   "cell_type": "code",
   "execution_count": 6,
   "metadata": {},
   "outputs": [
    {
     "data": {
      "text/html": [
       "<div>\n",
       "<style scoped>\n",
       "    .dataframe tbody tr th:only-of-type {\n",
       "        vertical-align: middle;\n",
       "    }\n",
       "\n",
       "    .dataframe tbody tr th {\n",
       "        vertical-align: top;\n",
       "    }\n",
       "\n",
       "    .dataframe thead th {\n",
       "        text-align: right;\n",
       "    }\n",
       "</style>\n",
       "<table border=\"1\" class=\"dataframe\">\n",
       "  <thead>\n",
       "    <tr style=\"text-align: right;\">\n",
       "      <th></th>\n",
       "      <th>Hospital</th>\n",
       "      <th>Hotel</th>\n",
       "      <th>Large Office</th>\n",
       "      <th>Medical Office</th>\n",
       "      <th>Mixed Use Property</th>\n",
       "      <th>Non-Refrigerated Warehouse</th>\n",
       "      <th>Other</th>\n",
       "      <th>Refrigerated Warehouse</th>\n",
       "      <th>Retail Store</th>\n",
       "      <th>Schools-College-University</th>\n",
       "      <th>Senior Care Community</th>\n",
       "      <th>Small- and Mid-Sized Office</th>\n",
       "      <th>Supermarket/Grocery Store</th>\n",
       "      <th>Worship Facility-Residence Hall_Dormitory</th>\n",
       "    </tr>\n",
       "  </thead>\n",
       "  <tbody>\n",
       "    <tr>\n",
       "      <th>0</th>\n",
       "      <td>0</td>\n",
       "      <td>1</td>\n",
       "      <td>0</td>\n",
       "      <td>0</td>\n",
       "      <td>0</td>\n",
       "      <td>0</td>\n",
       "      <td>0</td>\n",
       "      <td>0</td>\n",
       "      <td>0</td>\n",
       "      <td>0</td>\n",
       "      <td>0</td>\n",
       "      <td>0</td>\n",
       "      <td>0</td>\n",
       "      <td>0</td>\n",
       "    </tr>\n",
       "    <tr>\n",
       "      <th>1</th>\n",
       "      <td>0</td>\n",
       "      <td>1</td>\n",
       "      <td>0</td>\n",
       "      <td>0</td>\n",
       "      <td>0</td>\n",
       "      <td>0</td>\n",
       "      <td>0</td>\n",
       "      <td>0</td>\n",
       "      <td>0</td>\n",
       "      <td>0</td>\n",
       "      <td>0</td>\n",
       "      <td>0</td>\n",
       "      <td>0</td>\n",
       "      <td>0</td>\n",
       "    </tr>\n",
       "    <tr>\n",
       "      <th>2</th>\n",
       "      <td>0</td>\n",
       "      <td>1</td>\n",
       "      <td>0</td>\n",
       "      <td>0</td>\n",
       "      <td>0</td>\n",
       "      <td>0</td>\n",
       "      <td>0</td>\n",
       "      <td>0</td>\n",
       "      <td>0</td>\n",
       "      <td>0</td>\n",
       "      <td>0</td>\n",
       "      <td>0</td>\n",
       "      <td>0</td>\n",
       "      <td>0</td>\n",
       "    </tr>\n",
       "    <tr>\n",
       "      <th>3</th>\n",
       "      <td>0</td>\n",
       "      <td>1</td>\n",
       "      <td>0</td>\n",
       "      <td>0</td>\n",
       "      <td>0</td>\n",
       "      <td>0</td>\n",
       "      <td>0</td>\n",
       "      <td>0</td>\n",
       "      <td>0</td>\n",
       "      <td>0</td>\n",
       "      <td>0</td>\n",
       "      <td>0</td>\n",
       "      <td>0</td>\n",
       "      <td>0</td>\n",
       "    </tr>\n",
       "    <tr>\n",
       "      <th>4</th>\n",
       "      <td>0</td>\n",
       "      <td>1</td>\n",
       "      <td>0</td>\n",
       "      <td>0</td>\n",
       "      <td>0</td>\n",
       "      <td>0</td>\n",
       "      <td>0</td>\n",
       "      <td>0</td>\n",
       "      <td>0</td>\n",
       "      <td>0</td>\n",
       "      <td>0</td>\n",
       "      <td>0</td>\n",
       "      <td>0</td>\n",
       "      <td>0</td>\n",
       "    </tr>\n",
       "  </tbody>\n",
       "</table>\n",
       "</div>"
      ],
      "text/plain": [
       "   Hospital  Hotel  Large Office  Medical Office  Mixed Use Property  \\\n",
       "0         0      1             0               0                   0   \n",
       "1         0      1             0               0                   0   \n",
       "2         0      1             0               0                   0   \n",
       "3         0      1             0               0                   0   \n",
       "4         0      1             0               0                   0   \n",
       "\n",
       "   Non-Refrigerated Warehouse  Other  Refrigerated Warehouse  Retail Store  \\\n",
       "0                           0      0                       0             0   \n",
       "1                           0      0                       0             0   \n",
       "2                           0      0                       0             0   \n",
       "3                           0      0                       0             0   \n",
       "4                           0      0                       0             0   \n",
       "\n",
       "   Schools-College-University  Senior Care Community  \\\n",
       "0                           0                      0   \n",
       "1                           0                      0   \n",
       "2                           0                      0   \n",
       "3                           0                      0   \n",
       "4                           0                      0   \n",
       "\n",
       "   Small- and Mid-Sized Office  Supermarket/Grocery Store  \\\n",
       "0                            0                          0   \n",
       "1                            0                          0   \n",
       "2                            0                          0   \n",
       "3                            0                          0   \n",
       "4                            0                          0   \n",
       "\n",
       "   Worship Facility-Residence Hall_Dormitory  \n",
       "0                                          0  \n",
       "1                                          0  \n",
       "2                                          0  \n",
       "3                                          0  \n",
       "4                                          0  "
      ]
     },
     "execution_count": 6,
     "metadata": {},
     "output_type": "execute_result"
    }
   ],
   "source": [
    "# Transformation de la variable catégorique nominale : PrimaryPropertyType_clean\n",
    "# Une autre approche est possible en utilisant OneHotEncoder()\n",
    "# Get dummies\n",
    "df_temp = pd.get_dummies(mod_data['PrimaryPropertyType_clean'], prefix_sep='_', drop_first=True)\n",
    "# X head\n",
    "df_temp.head()"
   ]
  },
  {
   "cell_type": "code",
   "execution_count": 7,
   "metadata": {},
   "outputs": [
    {
     "data": {
      "text/html": [
       "<div>\n",
       "<style scoped>\n",
       "    .dataframe tbody tr th:only-of-type {\n",
       "        vertical-align: middle;\n",
       "    }\n",
       "\n",
       "    .dataframe tbody tr th {\n",
       "        vertical-align: top;\n",
       "    }\n",
       "\n",
       "    .dataframe thead th {\n",
       "        text-align: right;\n",
       "    }\n",
       "</style>\n",
       "<table border=\"1\" class=\"dataframe\">\n",
       "  <thead>\n",
       "    <tr style=\"text-align: right;\">\n",
       "      <th></th>\n",
       "      <th>Hospital</th>\n",
       "      <th>Hotel</th>\n",
       "      <th>Large Office</th>\n",
       "      <th>Medical Office</th>\n",
       "      <th>Mixed Use Property</th>\n",
       "      <th>Non-Refrigerated Warehouse</th>\n",
       "      <th>Other</th>\n",
       "      <th>Refrigerated Warehouse</th>\n",
       "      <th>Retail Store</th>\n",
       "      <th>Schools-College-University</th>\n",
       "      <th>...</th>\n",
       "      <th>Worship Facility-Residence Hall_Dormitory</th>\n",
       "      <th>PrimaryPropertyType_clean</th>\n",
       "      <th>NumberofFloors</th>\n",
       "      <th>PropertyGFAParking</th>\n",
       "      <th>PropertyGFABuilding(s)</th>\n",
       "      <th>Age_batiment</th>\n",
       "      <th>Latitude</th>\n",
       "      <th>Longitude</th>\n",
       "      <th>SiteEnergyUse(kBtu)</th>\n",
       "      <th>GHGEmissions(MetricTonsCO2e)</th>\n",
       "    </tr>\n",
       "  </thead>\n",
       "  <tbody>\n",
       "    <tr>\n",
       "      <th>0</th>\n",
       "      <td>0</td>\n",
       "      <td>1</td>\n",
       "      <td>0</td>\n",
       "      <td>0</td>\n",
       "      <td>0</td>\n",
       "      <td>0</td>\n",
       "      <td>0</td>\n",
       "      <td>0</td>\n",
       "      <td>0</td>\n",
       "      <td>0</td>\n",
       "      <td>...</td>\n",
       "      <td>0</td>\n",
       "      <td>Hotel</td>\n",
       "      <td>12</td>\n",
       "      <td>0</td>\n",
       "      <td>88434</td>\n",
       "      <td>92</td>\n",
       "      <td>47.612190</td>\n",
       "      <td>-122.337997</td>\n",
       "      <td>6981428</td>\n",
       "      <td>249.43</td>\n",
       "    </tr>\n",
       "    <tr>\n",
       "      <th>1</th>\n",
       "      <td>0</td>\n",
       "      <td>1</td>\n",
       "      <td>0</td>\n",
       "      <td>0</td>\n",
       "      <td>0</td>\n",
       "      <td>0</td>\n",
       "      <td>0</td>\n",
       "      <td>0</td>\n",
       "      <td>0</td>\n",
       "      <td>0</td>\n",
       "      <td>...</td>\n",
       "      <td>0</td>\n",
       "      <td>Hotel</td>\n",
       "      <td>11</td>\n",
       "      <td>15064</td>\n",
       "      <td>88502</td>\n",
       "      <td>23</td>\n",
       "      <td>47.613106</td>\n",
       "      <td>-122.333358</td>\n",
       "      <td>8354235</td>\n",
       "      <td>263.51</td>\n",
       "    </tr>\n",
       "    <tr>\n",
       "      <th>2</th>\n",
       "      <td>0</td>\n",
       "      <td>1</td>\n",
       "      <td>0</td>\n",
       "      <td>0</td>\n",
       "      <td>0</td>\n",
       "      <td>0</td>\n",
       "      <td>0</td>\n",
       "      <td>0</td>\n",
       "      <td>0</td>\n",
       "      <td>0</td>\n",
       "      <td>...</td>\n",
       "      <td>0</td>\n",
       "      <td>Hotel</td>\n",
       "      <td>41</td>\n",
       "      <td>0</td>\n",
       "      <td>961990</td>\n",
       "      <td>50</td>\n",
       "      <td>47.613349</td>\n",
       "      <td>-122.337699</td>\n",
       "      <td>73130656</td>\n",
       "      <td>2061.48</td>\n",
       "    </tr>\n",
       "    <tr>\n",
       "      <th>3</th>\n",
       "      <td>0</td>\n",
       "      <td>1</td>\n",
       "      <td>0</td>\n",
       "      <td>0</td>\n",
       "      <td>0</td>\n",
       "      <td>0</td>\n",
       "      <td>0</td>\n",
       "      <td>0</td>\n",
       "      <td>0</td>\n",
       "      <td>0</td>\n",
       "      <td>...</td>\n",
       "      <td>0</td>\n",
       "      <td>Hotel</td>\n",
       "      <td>10</td>\n",
       "      <td>0</td>\n",
       "      <td>61320</td>\n",
       "      <td>93</td>\n",
       "      <td>47.614216</td>\n",
       "      <td>-122.336609</td>\n",
       "      <td>28229320</td>\n",
       "      <td>1936.34</td>\n",
       "    </tr>\n",
       "    <tr>\n",
       "      <th>4</th>\n",
       "      <td>0</td>\n",
       "      <td>1</td>\n",
       "      <td>0</td>\n",
       "      <td>0</td>\n",
       "      <td>0</td>\n",
       "      <td>0</td>\n",
       "      <td>0</td>\n",
       "      <td>0</td>\n",
       "      <td>0</td>\n",
       "      <td>0</td>\n",
       "      <td>...</td>\n",
       "      <td>0</td>\n",
       "      <td>Hotel</td>\n",
       "      <td>18</td>\n",
       "      <td>12460</td>\n",
       "      <td>107430</td>\n",
       "      <td>39</td>\n",
       "      <td>47.613754</td>\n",
       "      <td>-122.340924</td>\n",
       "      <td>14829099</td>\n",
       "      <td>507.70</td>\n",
       "    </tr>\n",
       "  </tbody>\n",
       "</table>\n",
       "<p>5 rows × 23 columns</p>\n",
       "</div>"
      ],
      "text/plain": [
       "   Hospital  Hotel  Large Office  Medical Office  Mixed Use Property  \\\n",
       "0         0      1             0               0                   0   \n",
       "1         0      1             0               0                   0   \n",
       "2         0      1             0               0                   0   \n",
       "3         0      1             0               0                   0   \n",
       "4         0      1             0               0                   0   \n",
       "\n",
       "   Non-Refrigerated Warehouse  Other  Refrigerated Warehouse  Retail Store  \\\n",
       "0                           0      0                       0             0   \n",
       "1                           0      0                       0             0   \n",
       "2                           0      0                       0             0   \n",
       "3                           0      0                       0             0   \n",
       "4                           0      0                       0             0   \n",
       "\n",
       "   Schools-College-University  ...  Worship Facility-Residence Hall_Dormitory  \\\n",
       "0                           0  ...                                          0   \n",
       "1                           0  ...                                          0   \n",
       "2                           0  ...                                          0   \n",
       "3                           0  ...                                          0   \n",
       "4                           0  ...                                          0   \n",
       "\n",
       "   PrimaryPropertyType_clean  NumberofFloors  PropertyGFAParking  \\\n",
       "0                      Hotel              12                   0   \n",
       "1                      Hotel              11               15064   \n",
       "2                      Hotel              41                   0   \n",
       "3                      Hotel              10                   0   \n",
       "4                      Hotel              18               12460   \n",
       "\n",
       "  PropertyGFABuilding(s)  Age_batiment   Latitude   Longitude  \\\n",
       "0                  88434            92  47.612190 -122.337997   \n",
       "1                  88502            23  47.613106 -122.333358   \n",
       "2                 961990            50  47.613349 -122.337699   \n",
       "3                  61320            93  47.614216 -122.336609   \n",
       "4                 107430            39  47.613754 -122.340924   \n",
       "\n",
       "   SiteEnergyUse(kBtu)  GHGEmissions(MetricTonsCO2e)  \n",
       "0              6981428                        249.43  \n",
       "1              8354235                        263.51  \n",
       "2             73130656                       2061.48  \n",
       "3             28229320                       1936.34  \n",
       "4             14829099                        507.70  \n",
       "\n",
       "[5 rows x 23 columns]"
      ]
     },
     "execution_count": 7,
     "metadata": {},
     "output_type": "execute_result"
    }
   ],
   "source": [
    "# Merge\n",
    "mod_data = df_temp.merge(mod_data, left_index=True, right_index=True)\n",
    "mod_data.head()"
   ]
  },
  {
   "cell_type": "code",
   "execution_count": 8,
   "metadata": {},
   "outputs": [
    {
     "data": {
      "text/plain": [
       "(1522, 23)"
      ]
     },
     "execution_count": 8,
     "metadata": {},
     "output_type": "execute_result"
    }
   ],
   "source": [
    "# Vérification\n",
    "mod_data.shape"
   ]
  },
  {
   "cell_type": "code",
   "execution_count": 9,
   "metadata": {},
   "outputs": [],
   "source": [
    "# Suppression de la colonne initiale 'PrimaryPropertyType_clean'\n",
    "mod_data.drop(['PrimaryPropertyType_clean'], axis=1, inplace=True)"
   ]
  },
  {
   "cell_type": "code",
   "execution_count": 10,
   "metadata": {},
   "outputs": [
    {
     "data": {
      "text/html": [
       "<div>\n",
       "<style scoped>\n",
       "    .dataframe tbody tr th:only-of-type {\n",
       "        vertical-align: middle;\n",
       "    }\n",
       "\n",
       "    .dataframe tbody tr th {\n",
       "        vertical-align: top;\n",
       "    }\n",
       "\n",
       "    .dataframe thead th {\n",
       "        text-align: right;\n",
       "    }\n",
       "</style>\n",
       "<table border=\"1\" class=\"dataframe\">\n",
       "  <thead>\n",
       "    <tr style=\"text-align: right;\">\n",
       "      <th></th>\n",
       "      <th>Hospital</th>\n",
       "      <th>Hotel</th>\n",
       "      <th>Large Office</th>\n",
       "      <th>Medical Office</th>\n",
       "      <th>Mixed Use Property</th>\n",
       "      <th>Non-Refrigerated Warehouse</th>\n",
       "      <th>Other</th>\n",
       "      <th>Refrigerated Warehouse</th>\n",
       "      <th>Retail Store</th>\n",
       "      <th>Schools-College-University</th>\n",
       "      <th>...</th>\n",
       "      <th>Supermarket/Grocery Store</th>\n",
       "      <th>Worship Facility-Residence Hall_Dormitory</th>\n",
       "      <th>NumberofFloors</th>\n",
       "      <th>PropertyGFAParking</th>\n",
       "      <th>PropertyGFABuilding(s)</th>\n",
       "      <th>Age_batiment</th>\n",
       "      <th>Latitude</th>\n",
       "      <th>Longitude</th>\n",
       "      <th>SiteEnergyUse(kBtu)</th>\n",
       "      <th>GHGEmissions(MetricTonsCO2e)</th>\n",
       "    </tr>\n",
       "  </thead>\n",
       "  <tbody>\n",
       "    <tr>\n",
       "      <th>0</th>\n",
       "      <td>0</td>\n",
       "      <td>1</td>\n",
       "      <td>0</td>\n",
       "      <td>0</td>\n",
       "      <td>0</td>\n",
       "      <td>0</td>\n",
       "      <td>0</td>\n",
       "      <td>0</td>\n",
       "      <td>0</td>\n",
       "      <td>0</td>\n",
       "      <td>...</td>\n",
       "      <td>0</td>\n",
       "      <td>0</td>\n",
       "      <td>12</td>\n",
       "      <td>0</td>\n",
       "      <td>88434</td>\n",
       "      <td>92</td>\n",
       "      <td>47.612190</td>\n",
       "      <td>-122.337997</td>\n",
       "      <td>6981428</td>\n",
       "      <td>249.43</td>\n",
       "    </tr>\n",
       "    <tr>\n",
       "      <th>1</th>\n",
       "      <td>0</td>\n",
       "      <td>1</td>\n",
       "      <td>0</td>\n",
       "      <td>0</td>\n",
       "      <td>0</td>\n",
       "      <td>0</td>\n",
       "      <td>0</td>\n",
       "      <td>0</td>\n",
       "      <td>0</td>\n",
       "      <td>0</td>\n",
       "      <td>...</td>\n",
       "      <td>0</td>\n",
       "      <td>0</td>\n",
       "      <td>11</td>\n",
       "      <td>15064</td>\n",
       "      <td>88502</td>\n",
       "      <td>23</td>\n",
       "      <td>47.613106</td>\n",
       "      <td>-122.333358</td>\n",
       "      <td>8354235</td>\n",
       "      <td>263.51</td>\n",
       "    </tr>\n",
       "    <tr>\n",
       "      <th>2</th>\n",
       "      <td>0</td>\n",
       "      <td>1</td>\n",
       "      <td>0</td>\n",
       "      <td>0</td>\n",
       "      <td>0</td>\n",
       "      <td>0</td>\n",
       "      <td>0</td>\n",
       "      <td>0</td>\n",
       "      <td>0</td>\n",
       "      <td>0</td>\n",
       "      <td>...</td>\n",
       "      <td>0</td>\n",
       "      <td>0</td>\n",
       "      <td>41</td>\n",
       "      <td>0</td>\n",
       "      <td>961990</td>\n",
       "      <td>50</td>\n",
       "      <td>47.613349</td>\n",
       "      <td>-122.337699</td>\n",
       "      <td>73130656</td>\n",
       "      <td>2061.48</td>\n",
       "    </tr>\n",
       "    <tr>\n",
       "      <th>3</th>\n",
       "      <td>0</td>\n",
       "      <td>1</td>\n",
       "      <td>0</td>\n",
       "      <td>0</td>\n",
       "      <td>0</td>\n",
       "      <td>0</td>\n",
       "      <td>0</td>\n",
       "      <td>0</td>\n",
       "      <td>0</td>\n",
       "      <td>0</td>\n",
       "      <td>...</td>\n",
       "      <td>0</td>\n",
       "      <td>0</td>\n",
       "      <td>10</td>\n",
       "      <td>0</td>\n",
       "      <td>61320</td>\n",
       "      <td>93</td>\n",
       "      <td>47.614216</td>\n",
       "      <td>-122.336609</td>\n",
       "      <td>28229320</td>\n",
       "      <td>1936.34</td>\n",
       "    </tr>\n",
       "    <tr>\n",
       "      <th>4</th>\n",
       "      <td>0</td>\n",
       "      <td>1</td>\n",
       "      <td>0</td>\n",
       "      <td>0</td>\n",
       "      <td>0</td>\n",
       "      <td>0</td>\n",
       "      <td>0</td>\n",
       "      <td>0</td>\n",
       "      <td>0</td>\n",
       "      <td>0</td>\n",
       "      <td>...</td>\n",
       "      <td>0</td>\n",
       "      <td>0</td>\n",
       "      <td>18</td>\n",
       "      <td>12460</td>\n",
       "      <td>107430</td>\n",
       "      <td>39</td>\n",
       "      <td>47.613754</td>\n",
       "      <td>-122.340924</td>\n",
       "      <td>14829099</td>\n",
       "      <td>507.70</td>\n",
       "    </tr>\n",
       "  </tbody>\n",
       "</table>\n",
       "<p>5 rows × 22 columns</p>\n",
       "</div>"
      ],
      "text/plain": [
       "   Hospital  Hotel  Large Office  Medical Office  Mixed Use Property  \\\n",
       "0         0      1             0               0                   0   \n",
       "1         0      1             0               0                   0   \n",
       "2         0      1             0               0                   0   \n",
       "3         0      1             0               0                   0   \n",
       "4         0      1             0               0                   0   \n",
       "\n",
       "   Non-Refrigerated Warehouse  Other  Refrigerated Warehouse  Retail Store  \\\n",
       "0                           0      0                       0             0   \n",
       "1                           0      0                       0             0   \n",
       "2                           0      0                       0             0   \n",
       "3                           0      0                       0             0   \n",
       "4                           0      0                       0             0   \n",
       "\n",
       "   Schools-College-University  ...  Supermarket/Grocery Store  \\\n",
       "0                           0  ...                          0   \n",
       "1                           0  ...                          0   \n",
       "2                           0  ...                          0   \n",
       "3                           0  ...                          0   \n",
       "4                           0  ...                          0   \n",
       "\n",
       "   Worship Facility-Residence Hall_Dormitory  NumberofFloors  \\\n",
       "0                                          0              12   \n",
       "1                                          0              11   \n",
       "2                                          0              41   \n",
       "3                                          0              10   \n",
       "4                                          0              18   \n",
       "\n",
       "   PropertyGFAParking  PropertyGFABuilding(s)  Age_batiment   Latitude  \\\n",
       "0                   0                   88434            92  47.612190   \n",
       "1               15064                   88502            23  47.613106   \n",
       "2                   0                  961990            50  47.613349   \n",
       "3                   0                   61320            93  47.614216   \n",
       "4               12460                  107430            39  47.613754   \n",
       "\n",
       "    Longitude  SiteEnergyUse(kBtu)  GHGEmissions(MetricTonsCO2e)  \n",
       "0 -122.337997              6981428                        249.43  \n",
       "1 -122.333358              8354235                        263.51  \n",
       "2 -122.337699             73130656                       2061.48  \n",
       "3 -122.336609             28229320                       1936.34  \n",
       "4 -122.340924             14829099                        507.70  \n",
       "\n",
       "[5 rows x 22 columns]"
      ]
     },
     "execution_count": 10,
     "metadata": {},
     "output_type": "execute_result"
    }
   ],
   "source": [
    "mod_data.head()"
   ]
  },
  {
   "cell_type": "markdown",
   "metadata": {},
   "source": [
    "<a class=\"anchor\" id=\"train_test\"></a>\n",
    "***\n",
    "### 1.1.3. Séparation train et test sets"
   ]
  },
  {
   "cell_type": "code",
   "execution_count": 11,
   "metadata": {},
   "outputs": [],
   "source": [
    "# Variables explicatives :  toutes les colonnes sauf les deux dernieres\n",
    "X = mod_data.iloc[:, 0:-2].values\n",
    "\n",
    "# Définissons la variable dépendante (=target) :\n",
    "y = mod_data['SiteEnergyUse(kBtu)'].values"
   ]
  },
  {
   "cell_type": "code",
   "execution_count": 12,
   "metadata": {},
   "outputs": [],
   "source": [
    "# Séparer le dataset en un jeu de données d'entrainement et un jeu de données test\n",
    "from sklearn.model_selection import train_test_split\n",
    "\n",
    "# Création de 4 variables\n",
    "X_train, X_test, y_train, y_test = train_test_split(X, y, test_size=0.25)"
   ]
  },
  {
   "cell_type": "code",
   "execution_count": 13,
   "metadata": {
    "scrolled": true
   },
   "outputs": [
    {
     "name": "stdout",
     "output_type": "stream",
     "text": [
      "(1141, 20)\n",
      "(1141,)\n",
      "(381, 20)\n",
      "(381,)\n"
     ]
    }
   ],
   "source": [
    "# Vérification\n",
    "print(X_train.shape)\n",
    "print(y_train.shape)\n",
    "print(X_test.shape)\n",
    "print(y_test.shape)"
   ]
  },
  {
   "cell_type": "markdown",
   "metadata": {},
   "source": [
    "<a class=\"anchor\" id=\"var_standardisation\"></a>\n",
    "***\n",
    "### 1.1.4. Standardisation"
   ]
  },
  {
   "cell_type": "code",
   "execution_count": 14,
   "metadata": {},
   "outputs": [
    {
     "name": "stderr",
     "output_type": "stream",
     "text": [
      "C:\\Users\\Yop1001\\Anaconda3\\lib\\site-packages\\sklearn\\utils\\validation.py:595: DataConversionWarning: Data with input dtype int64 was converted to float64 by StandardScaler.\n",
      "  warnings.warn(msg, DataConversionWarning)\n",
      "C:\\Users\\Yop1001\\Anaconda3\\lib\\site-packages\\sklearn\\utils\\validation.py:595: DataConversionWarning: Data with input dtype int64 was converted to float64 by StandardScaler.\n",
      "  warnings.warn(msg, DataConversionWarning)\n",
      "C:\\Users\\Yop1001\\Anaconda3\\lib\\site-packages\\sklearn\\utils\\validation.py:595: DataConversionWarning: Data with input dtype int64 was converted to float64 by StandardScaler.\n",
      "  warnings.warn(msg, DataConversionWarning)\n",
      "C:\\Users\\Yop1001\\Anaconda3\\lib\\site-packages\\sklearn\\utils\\validation.py:595: DataConversionWarning: Data with input dtype int64 was converted to float64 by StandardScaler.\n",
      "  warnings.warn(msg, DataConversionWarning)\n"
     ]
    }
   ],
   "source": [
    "from sklearn.preprocessing import StandardScaler\n",
    "sc_X = StandardScaler()\n",
    "sc_Y = StandardScaler()\n",
    "X_train = sc_X.fit_transform(X_train)\n",
    "y_train = np.squeeze(sc_Y.fit_transform(y_train.reshape(-1, 1)))\n",
    "X_test = sc_X.fit_transform(X_test)\n",
    "y_test = np.squeeze(sc_Y.fit_transform(y_test.reshape(-1, 1)))\n"
   ]
  },
  {
   "cell_type": "markdown",
   "metadata": {},
   "source": [
    "<a class=\"anchor\" id=\"regressions_lineaires\"></a>\n",
    "***\n",
    "## 1.2. Régressions linéaires"
   ]
  },
  {
   "cell_type": "markdown",
   "metadata": {},
   "source": [
    "<a class=\"anchor\" id=\"regression_lineaire\"></a>\n",
    "***\n",
    "### 1.2.1. Régression linéaire standard"
   ]
  },
  {
   "cell_type": "markdown",
   "metadata": {},
   "source": [
    "Sert de baseline pour les autres regressions qui seront regularisées.\n",
    "\n",
    "**Pros:** fast, no tuning required, highly interpretable, well-understood\n",
    "\n",
    "**Cons:** unlikely to produce the best predictive accuracy (presumes a linear relationship between the features and response)\n",
    "\n",
    "##### Form of linear regression\n",
    "\n",
    "$y = \\beta_0 + \\beta_1x_1 + \\beta_2x_2 + ... + \\beta_nx_n$\n",
    "\n",
    "- $y$ is the response\n",
    "- $\\beta_0$ is the intercept\n",
    "- $\\beta_1$ is the coefficient for $x_1$ (the first feature)\n",
    "- $\\beta_n$ is the coefficient for $x_n$ (the nth feature)\n",
    "\n",
    "The $\\beta$ values are called the **model coefficients**. These values are \"learned\" during the model fitting step using the \"least squares\" criterion. Then, the fitted model can be used to make predictions!"
   ]
  },
  {
   "cell_type": "markdown",
   "metadata": {},
   "source": [
    "<a class=\"anchor\" id=\"linreg_classique\"></a>\n",
    "***\n",
    "#### 1.2.1.1. Regression linéaire (sans CV)"
   ]
  },
  {
   "cell_type": "code",
   "execution_count": 15,
   "metadata": {},
   "outputs": [],
   "source": [
    "# Import model\n",
    "from sklearn.linear_model import LinearRegression\n",
    "\n",
    "# Train model sur le train set\n",
    "linreg = LinearRegression()\n",
    "linreg.fit(X_train, y_train)\n",
    "\n",
    "# test du modèle sur le test set\n",
    "linreg_y_pred = linreg.predict(X_test)\n",
    "\n",
    "# Calculons les résidus \n",
    "residual = (y_test - linreg_y_pred)"
   ]
  },
  {
   "cell_type": "code",
   "execution_count": 16,
   "metadata": {},
   "outputs": [
    {
     "name": "stdout",
     "output_type": "stream",
     "text": [
      "-8.124721742555617e-16\n"
     ]
    }
   ],
   "source": [
    "# Affichage de l'intecept\n",
    "print(linreg.intercept_)"
   ]
  },
  {
   "cell_type": "code",
   "execution_count": 17,
   "metadata": {},
   "outputs": [
    {
     "name": "stdout",
     "output_type": "stream",
     "text": [
      "[ 0.18256577  0.10122045  0.0266659   0.10587902  0.08125185 -0.00873555\n",
      "  0.15063953  0.02314599  0.04402504  0.02910303  0.06035221  0.05274641\n",
      "  0.10677182  0.01809474  0.03507436  0.04265131  0.71748955 -0.04251787\n",
      " -0.00581751 -0.00296212]\n"
     ]
    }
   ],
   "source": [
    "# Affichage des coefficients\n",
    "print(linreg.coef_)"
   ]
  },
  {
   "cell_type": "code",
   "execution_count": 18,
   "metadata": {
    "scrolled": false
   },
   "outputs": [
    {
     "data": {
      "text/plain": [
       "[('Hospital', 0.18256577493347473),\n",
       " ('Hotel', 0.10122044775524656),\n",
       " ('Large Office', 0.02666589514502409),\n",
       " ('Medical Office', 0.10587901645732994),\n",
       " ('Mixed Use Property', 0.08125184957325471),\n",
       " ('Non-Refrigerated Warehouse', -0.00873554576457532),\n",
       " ('Other', 0.15063952583387444),\n",
       " ('Refrigerated Warehouse', 0.023145990402766093),\n",
       " ('Retail Store', 0.044025036994048805),\n",
       " ('Schools-College-University', 0.029103031012086045),\n",
       " ('Senior Care Community', 0.060352211053707645),\n",
       " ('Small- and Mid-Sized Office', 0.05274640823102319),\n",
       " ('Supermarket/Grocery Store', 0.10677181914410769),\n",
       " ('Worship Facility-Residence Hall_Dormitory', 0.01809474490785998),\n",
       " ('NumberofFloors', 0.035074364146698546),\n",
       " ('PropertyGFAParking', 0.04265131423420797),\n",
       " ('PropertyGFABuilding(s)', 0.7174895547534245),\n",
       " ('Age_batiment', -0.042517874525949746),\n",
       " ('Latitude', -0.005817510689257473),\n",
       " ('Longitude', -0.0029621249492872864)]"
      ]
     },
     "execution_count": 18,
     "metadata": {},
     "output_type": "execute_result"
    }
   ],
   "source": [
    "# pair the feature names with the coefficients\n",
    "list(zip(mod_data.columns, linreg.coef_))"
   ]
  },
  {
   "cell_type": "code",
   "execution_count": 19,
   "metadata": {},
   "outputs": [
    {
     "data": {
      "text/html": [
       "<div>\n",
       "<style scoped>\n",
       "    .dataframe tbody tr th:only-of-type {\n",
       "        vertical-align: middle;\n",
       "    }\n",
       "\n",
       "    .dataframe tbody tr th {\n",
       "        vertical-align: top;\n",
       "    }\n",
       "\n",
       "    .dataframe thead th {\n",
       "        text-align: right;\n",
       "    }\n",
       "</style>\n",
       "<table border=\"1\" class=\"dataframe\">\n",
       "  <thead>\n",
       "    <tr style=\"text-align: right;\">\n",
       "      <th></th>\n",
       "      <th>Actual</th>\n",
       "      <th>Predicted</th>\n",
       "    </tr>\n",
       "  </thead>\n",
       "  <tbody>\n",
       "    <tr>\n",
       "      <th>0</th>\n",
       "      <td>-0.446998</td>\n",
       "      <td>-0.462037</td>\n",
       "    </tr>\n",
       "    <tr>\n",
       "      <th>1</th>\n",
       "      <td>-0.434414</td>\n",
       "      <td>-0.458442</td>\n",
       "    </tr>\n",
       "    <tr>\n",
       "      <th>2</th>\n",
       "      <td>-0.073730</td>\n",
       "      <td>-0.133648</td>\n",
       "    </tr>\n",
       "    <tr>\n",
       "      <th>3</th>\n",
       "      <td>-0.282654</td>\n",
       "      <td>-0.266100</td>\n",
       "    </tr>\n",
       "    <tr>\n",
       "      <th>4</th>\n",
       "      <td>-0.478554</td>\n",
       "      <td>-0.590308</td>\n",
       "    </tr>\n",
       "  </tbody>\n",
       "</table>\n",
       "</div>"
      ],
      "text/plain": [
       "     Actual  Predicted\n",
       "0 -0.446998  -0.462037\n",
       "1 -0.434414  -0.458442\n",
       "2 -0.073730  -0.133648\n",
       "3 -0.282654  -0.266100\n",
       "4 -0.478554  -0.590308"
      ]
     },
     "execution_count": 19,
     "metadata": {},
     "output_type": "execute_result"
    }
   ],
   "source": [
    "# Affichons les valeurs reelles VS les valeurs prédites\n",
    "actual_vs_predicted = pd.DataFrame({'Actual': y_test.flatten(), 'Predicted': linreg_y_pred.flatten()})\n",
    "actual_vs_predicted.head()"
   ]
  },
  {
   "cell_type": "code",
   "execution_count": 20,
   "metadata": {},
   "outputs": [
    {
     "data": {
      "image/png": "[encoded data removed]",
      "text/plain": [
       "<Figure size 1152x720 with 1 Axes>"
      ]
     },
     "metadata": {
      "needs_background": "light"
     },
     "output_type": "display_data"
    }
   ],
   "source": [
    "# Visualisations des 25 premieres valeurs reelles vs prédites\n",
    "actual_vs_predicted.head(25).plot(kind='bar',figsize=(16,10))\n",
    "plt.title('Valeurs réelles vs valeurs prédites')\n",
    "plt.savefig('02 - Graphs/01 - Modelisation conso energie/linreg_actual_vs_predicted.png', dpi=200, bbox_inches='tight')\n",
    "plt.show()"
   ]
  },
  {
   "cell_type": "code",
   "execution_count": 21,
   "metadata": {},
   "outputs": [
    {
     "data": {
      "image/png": "[encoded data removed]",
      "text/plain": [
       "<Figure size 432x288 with 1 Axes>"
      ]
     },
     "metadata": {
      "needs_background": "light"
     },
     "output_type": "display_data"
    }
   ],
   "source": [
    "# Visualisation \n",
    "plt.scatter(y_test, linreg_y_pred)\n",
    "plt.plot(y_test, y_test, color='r', label='ideal prediction')\n",
    "\n",
    "plt.xlabel('True Values')\n",
    "plt.ylabel('Predictions')\n",
    "plt.axis('square')\n",
    "plt.legend()\n",
    "\n",
    "plt.savefig('02 - Graphs/01 - Modelisation conso energie/linreg_actual_vs_predicted_2.png', dpi=200, bbox_inches='tight')\n",
    "\n",
    "plt.show()"
   ]
  },
  {
   "cell_type": "markdown",
   "metadata": {},
   "source": [
    "***\n",
    "**Root Mean Squared Error** (RMSE) is the square root of the mean of the squared errors:\n",
    "\n",
    "$$\\sqrt{\\frac 1n\\sum_{i=1}^n(y_i-\\hat{y}_i)^2}$$\n",
    "\n",
    "**RMSE** is even more popular than MSE, because RMSE is interpretable in the \"y\" units."
   ]
  },
  {
   "cell_type": "code",
   "execution_count": 22,
   "metadata": {},
   "outputs": [
    {
     "name": "stdout",
     "output_type": "stream",
     "text": [
      "Root Mean Squared Error: 0.6183936243995103\n"
     ]
    }
   ],
   "source": [
    "from sklearn import metrics\n",
    "\n",
    "linreg_rmse = np.sqrt(metrics.mean_squared_error(y_test, linreg_y_pred))\n",
    "print('Root Mean Squared Error:', linreg_rmse)"
   ]
  },
  {
   "cell_type": "code",
   "execution_count": 23,
   "metadata": {},
   "outputs": [
    {
     "name": "stdout",
     "output_type": "stream",
     "text": [
      "Linear Regression Accuracy: 0.6175893253020373\n"
     ]
    }
   ],
   "source": [
    "linreg_accuracy = metrics.r2_score(y_test, linreg_y_pred)\n",
    "\n",
    "print ('Linear Regression Accuracy:', linreg_accuracy)"
   ]
  },
  {
   "cell_type": "code",
   "execution_count": 24,
   "metadata": {
    "scrolled": false
   },
   "outputs": [
    {
     "data": {
      "image/png": "[encoded data removed]",
      "text/plain": [
       "<Figure size 432x288 with 1 Axes>"
      ]
     },
     "metadata": {
      "needs_background": "light"
     },
     "output_type": "display_data"
    }
   ],
   "source": [
    "# Source: https://bigdata-madesimple.com/how-to-run-linear-regression-in-python-scikit-learn/\n",
    "plt.scatter(linreg.predict(X_train), y_train-linreg.predict(X_train), color='blue', s=20, alpha=0.5, label='train set')\n",
    "plt.scatter(linreg_y_pred, residual, color='green', s=20, label='test set')\n",
    "\n",
    "plt.hlines(y=0, xmin=0, xmax =10)\n",
    "plt.grid(b=None)\n",
    "plt.title('Residual Plot using train & test data')\n",
    "plt.ylabel('Residuals')\n",
    "plt.xlabel('y_predicted')\n",
    "plt.legend()\n",
    "\n",
    "plt.savefig('02 - Graphs/01 - Modelisation conso energie/linreg_actual_vs_predicted_2.png', dpi=200, bbox_inches='tight')\n",
    "plt.show()"
   ]
  },
  {
   "cell_type": "markdown",
   "metadata": {},
   "source": [
    "Residual plots are a good way to visualize the errors in your data. If you have done a good job then your data should be randomly scattered around line zero. If you see structure in your data, that means your model is not capturing some thing. Maye be there is a interaction between 2 variables that you are not considering, or may be you are measuring time dependent data. If you get some structure in your data, you should go back to your model and check whether you are doing a good job with your parameters."
   ]
  },
  {
   "cell_type": "markdown",
   "metadata": {},
   "source": [
    "<a class=\"anchor\" id=\"linreg_CV\"></a>\n",
    "***\n",
    "#### 1.2.1.2. Regression linéaire (avec CV)"
   ]
  },
  {
   "cell_type": "markdown",
   "metadata": {},
   "source": [
    "On utlise :\n",
    "- cross_val_score si on a besoin que d'un retou d'un score\n",
    "- cross_validate : on peut rentrer un dictionnaire pour avoir des scores differents\n",
    "- cross_val_predict pour avoir les prédictions"
   ]
  },
  {
   "cell_type": "code",
   "execution_count": 25,
   "metadata": {},
   "outputs": [
    {
     "name": "stdout",
     "output_type": "stream",
     "text": [
      "KFold(n_splits=10, random_state=None, shuffle=False)\n",
      "10\n"
     ]
    }
   ],
   "source": [
    "# Pour visualiser les folds d'un CV\n",
    "\n",
    "from sklearn.model_selection import KFold # import KFold\n",
    "\n",
    "kf = KFold(n_splits=10) # Define the split\n",
    "print (kf)\n",
    "print(kf.get_n_splits(X)) # returns the number of splitting iterations in the cross-validator"
   ]
  },
  {
   "cell_type": "markdown",
   "metadata": {},
   "source": [
    "***"
   ]
  },
  {
   "cell_type": "code",
   "execution_count": 26,
   "metadata": {},
   "outputs": [
    {
     "data": {
      "text/plain": [
       "{'fit_time': array([0.00399852, 0.00399876, 0.00299859, 0.00299788, 0.00599837,\n",
       "        0.0029974 , 0.00199938, 0.00299883, 0.00299883, 0.00299907]),\n",
       " 'score_time': array([0.        , 0.        , 0.0010004 , 0.        , 0.00099945,\n",
       "        0.0010004 , 0.00099969, 0.        , 0.00099969, 0.        ]),\n",
       " 'test_R2': array([0.75895145, 0.58264567, 0.79002319, 0.59679258, 0.47927882,\n",
       "        0.75442947, 0.594537  , 0.70944283, 0.7393525 , 0.60410112]),\n",
       " 'train_R2': array([0.67462871, 0.68742994, 0.66440498, 0.69023359, 0.71486626,\n",
       "        0.6698256 , 0.68308271, 0.67750002, 0.67361946, 0.68911562]),\n",
       " 'test_MSE': array([0.12361128, 0.35214765, 0.23159914, 0.50705726, 0.82006013,\n",
       "        0.27331719, 0.34382436, 0.19927458, 0.22016049, 0.45418177]),\n",
       " 'train_MSE': array([0.34200255, 0.31799077, 0.33174872, 0.3008149 , 0.26615305,\n",
       "        0.32602257, 0.32192938, 0.33368055, 0.33198015, 0.30545723])}"
      ]
     },
     "execution_count": 26,
     "metadata": {},
     "output_type": "execute_result"
    }
   ],
   "source": [
    "# Calculs des metrics r² et mse\n",
    "from sklearn.model_selection import cross_validate\n",
    "from sklearn.metrics import mean_squared_error\n",
    "from sklearn.metrics import make_scorer\n",
    "\n",
    "linregCV_results = cross_validate(linreg, X_train, y_train, cv=10, scoring={'R2':'r2', 'MSE': make_scorer(mean_squared_error)}, return_train_score=True)\n",
    "linregCV_results"
   ]
  },
  {
   "cell_type": "code",
   "execution_count": 27,
   "metadata": {},
   "outputs": [],
   "source": [
    "# On récupère les 10 valeurs r²\n",
    "linregCV_accuracies = linregCV_results['test_R2']\n",
    "\n",
    "# Intervalles de confiance\n",
    "linregCV_accuracy_interval = mean_confidence_interval(linregCV_accuracies, 0.96)\n",
    "\n",
    "# Récupération des 3 valeurs\n",
    "linregCV_accuracy = linregCV_accuracy_interval[0]\n",
    "linregCV_accuracy_low = linregCV_accuracy_interval[1]\n",
    "linregCV_accuracy_high = linregCV_accuracy_interval[2]"
   ]
  },
  {
   "cell_type": "code",
   "execution_count": 28,
   "metadata": {},
   "outputs": [],
   "source": [
    "# On récupère les 10 valeurs MSE\n",
    "linregCV_mses = linregCV_results['test_MSE']\n",
    "\n",
    "# On calcule les rmse\n",
    "linregCV_rmses = np.sqrt(linregCV_mses)\n",
    "\n",
    "# Intervalles de confiance\n",
    "linregCV_rmse_interval = mean_confidence_interval(linregCV_rmses, 0.96)\n",
    "\n",
    "# Récupération des 3 valeurs\n",
    "linregCV_rmse = linregCV_rmse_interval[0]\n",
    "linregCV_rmse_low = linregCV_rmse_interval[1]\n",
    "linregCV_rmse_high = linregCV_rmse_interval[2]"
   ]
  },
  {
   "cell_type": "markdown",
   "metadata": {},
   "source": [
    "***"
   ]
  },
  {
   "cell_type": "markdown",
   "metadata": {},
   "source": [
    "**Calcul du RMSE dans l'unité d'origine**"
   ]
  },
  {
   "cell_type": "code",
   "execution_count": 29,
   "metadata": {},
   "outputs": [],
   "source": [
    "from sklearn.model_selection import cross_val_predict\n",
    "\n",
    "# Make cross validated predictions\n",
    "linreg_predictions_CV = cross_val_predict(linreg, X_train, y_train, cv=10)"
   ]
  },
  {
   "cell_type": "code",
   "execution_count": 30,
   "metadata": {},
   "outputs": [
    {
     "data": {
      "text/plain": [
       "array([ -412679.25106613,  6188576.10952762,  -249662.89493492, ...,\n",
       "        2950215.38284906, 28382707.39344494,  7378213.33656085])"
      ]
     },
     "execution_count": 30,
     "metadata": {},
     "output_type": "execute_result"
    }
   ],
   "source": [
    "# Source : https://www.youtube.com/watch?v=OYn-Mg2Sg20\n",
    "# Bonne source : https://stackoverflow.com/questions/38058774/scikit-learn-how-to-scale-back-the-y-predicted-result\n",
    "linreg_predictions_CV_unscale = sc_Y.inverse_transform(linreg_predictions_CV)\n",
    "\n",
    "# Passage dans l'unité d'origine des y_train\n",
    "y_train_unscale = sc_Y.inverse_transform(y_train)\n",
    "y_train_unscale"
   ]
  },
  {
   "cell_type": "code",
   "execution_count": 31,
   "metadata": {},
   "outputs": [
    {
     "name": "stdout",
     "output_type": "stream",
     "text": [
      "Root Mean Squared Error: 7953118.173715276\n"
     ]
    }
   ],
   "source": [
    "# RMSE\n",
    "linregCV_rmse_unscale = np.sqrt(metrics.mean_squared_error(y_train_unscale, linreg_predictions_CV_unscale))\n",
    "print('Root Mean Squared Error:', linregCV_rmse_unscale)"
   ]
  },
  {
   "cell_type": "code",
   "execution_count": 32,
   "metadata": {
    "scrolled": true
   },
   "outputs": [
    {
     "data": {
      "text/html": [
       "<div>\n",
       "<style scoped>\n",
       "    .dataframe tbody tr th:only-of-type {\n",
       "        vertical-align: middle;\n",
       "    }\n",
       "\n",
       "    .dataframe tbody tr th {\n",
       "        vertical-align: top;\n",
       "    }\n",
       "\n",
       "    .dataframe thead th {\n",
       "        text-align: right;\n",
       "    }\n",
       "</style>\n",
       "<table border=\"1\" class=\"dataframe\">\n",
       "  <thead>\n",
       "    <tr style=\"text-align: right;\">\n",
       "      <th></th>\n",
       "      <th>Standardisation</th>\n",
       "      <th>Passage au log</th>\n",
       "      <th>Model</th>\n",
       "      <th>Accuracy</th>\n",
       "      <th>RMSE</th>\n",
       "    </tr>\n",
       "  </thead>\n",
       "  <tbody>\n",
       "    <tr>\n",
       "      <th>0</th>\n",
       "      <td>oui</td>\n",
       "      <td>non</td>\n",
       "      <td>Regression linéaire</td>\n",
       "      <td>0.660955</td>\n",
       "      <td>7.953118e+06</td>\n",
       "    </tr>\n",
       "  </tbody>\n",
       "</table>\n",
       "</div>"
      ],
      "text/plain": [
       "  Standardisation Passage au log                Model  Accuracy          RMSE\n",
       "0             oui            non  Regression linéaire  0.660955  7.953118e+06"
      ]
     },
     "execution_count": 32,
     "metadata": {},
     "output_type": "execute_result"
    }
   ],
   "source": [
    "# Création d'un dataframe avec les différents résultats par modélisation\n",
    "regressions_results = pd.DataFrame(columns=['Standardisation', 'Passage au log', 'Model', 'Accuracy', 'RMSE'])\n",
    "regressions_results = regressions_results.append({'Standardisation': 'oui', 'Passage au log': 'non', 'Model': 'Regression linéaire', 'Accuracy': linregCV_accuracy, 'RMSE': linregCV_rmse_unscale}, ignore_index=True)\n",
    "regressions_results"
   ]
  },
  {
   "cell_type": "markdown",
   "metadata": {},
   "source": [
    "***"
   ]
  },
  {
   "cell_type": "code",
   "execution_count": 33,
   "metadata": {},
   "outputs": [
    {
     "data": {
      "image/png": "[encoded data removed]",
      "text/plain": [
       "<Figure size 432x288 with 1 Axes>"
      ]
     },
     "metadata": {
      "needs_background": "light"
     },
     "output_type": "display_data"
    }
   ],
   "source": [
    "# Visualisation\n",
    "plt.scatter(y_train, linreg_predictions_CV)\n",
    "plt.plot(y_test, y_test, color='r', label='ideal prediction')\n",
    "\n",
    "plt.title('Linear regression - true values vs predicted values')\n",
    "plt.xlabel('True Values')\n",
    "plt.ylabel('Predictions')\n",
    "plt.axis('square')\n",
    "plt.legend()\n",
    "\n",
    "plt.savefig('02 - Graphs/01 - Modelisation conso energie/linreg_actual_vs_predicted_CV.png', dpi=200, bbox_inches='tight')\n",
    "\n",
    "plt.show()"
   ]
  },
  {
   "cell_type": "code",
   "execution_count": 34,
   "metadata": {},
   "outputs": [
    {
     "data": {
      "image/png": "[encoded data removed]",
      "text/plain": [
       "<Figure size 432x288 with 1 Axes>"
      ]
     },
     "metadata": {
      "needs_background": "light"
     },
     "output_type": "display_data"
    }
   ],
   "source": [
    "# Source: https://bigdata-madesimple.com/how-to-run-linear-regression-in-python-scikit-learn/\n",
    "plt.scatter(linreg_predictions_CV, y_train - linreg_predictions_CV, color='blue', s=20, alpha=0.5)\n",
    "\n",
    "plt.hlines(y=0, xmin=0, xmax =10)\n",
    "plt.grid(b=None)\n",
    "plt.title('Linear regression - Residual Plot')\n",
    "plt.ylabel('Residuals')\n",
    "plt.xlabel('Predicted')\n",
    "\n",
    "plt.savefig('02 - Graphs/01 - Modelisation conso energie/linreg_actual_vs_predicted_CV_2.png', dpi=200, bbox_inches='tight')\n",
    "plt.show()"
   ]
  },
  {
   "cell_type": "markdown",
   "metadata": {},
   "source": [
    "***"
   ]
  },
  {
   "cell_type": "code",
   "execution_count": 35,
   "metadata": {
    "scrolled": true
   },
   "outputs": [
    {
     "data": {
      "text/html": [
       "<div>\n",
       "<style scoped>\n",
       "    .dataframe tbody tr th:only-of-type {\n",
       "        vertical-align: middle;\n",
       "    }\n",
       "\n",
       "    .dataframe tbody tr th {\n",
       "        vertical-align: top;\n",
       "    }\n",
       "\n",
       "    .dataframe thead th {\n",
       "        text-align: right;\n",
       "    }\n",
       "</style>\n",
       "<table border=\"1\" class=\"dataframe\">\n",
       "  <thead>\n",
       "    <tr style=\"text-align: right;\">\n",
       "      <th></th>\n",
       "      <th>Standardisation</th>\n",
       "      <th>Passage au log</th>\n",
       "      <th>EnergyStarScore</th>\n",
       "      <th>Model</th>\n",
       "      <th>Accuracy</th>\n",
       "      <th>Accuracy_low</th>\n",
       "      <th>Accuracy_high</th>\n",
       "      <th>RMSE</th>\n",
       "      <th>RMSE_low</th>\n",
       "      <th>RMSE_high</th>\n",
       "    </tr>\n",
       "  </thead>\n",
       "  <tbody>\n",
       "    <tr>\n",
       "      <th>0</th>\n",
       "      <td>oui</td>\n",
       "      <td>non</td>\n",
       "      <td>non</td>\n",
       "      <td>Regression linéaire</td>\n",
       "      <td>0.660955</td>\n",
       "      <td>0.600737</td>\n",
       "      <td>0.721174</td>\n",
       "      <td>0.574261</td>\n",
       "      <td>0.48078</td>\n",
       "      <td>0.667742</td>\n",
       "    </tr>\n",
       "  </tbody>\n",
       "</table>\n",
       "</div>"
      ],
      "text/plain": [
       "  Standardisation Passage au log EnergyStarScore                Model  \\\n",
       "0             oui            non             non  Regression linéaire   \n",
       "\n",
       "   Accuracy  Accuracy_low  Accuracy_high      RMSE  RMSE_low  RMSE_high  \n",
       "0  0.660955      0.600737       0.721174  0.574261   0.48078   0.667742  "
      ]
     },
     "execution_count": 35,
     "metadata": {},
     "output_type": "execute_result"
    }
   ],
   "source": [
    "# Création d'un dataframe avec les différents résultats par modélisation\n",
    "model_results = pd.DataFrame(columns=['Standardisation', 'Passage au log', 'EnergyStarScore', 'Model', 'Accuracy', 'Accuracy_low', 'Accuracy_high', 'RMSE', 'RMSE_low', 'RMSE_high'])\n",
    "model_results = model_results.append({'Standardisation': 'oui', 'Passage au log': 'non','EnergyStarScore':'non', 'Model': 'Regression linéaire', 'Accuracy': linregCV_accuracy, 'Accuracy_low': linregCV_accuracy_low, 'Accuracy_high': linregCV_accuracy_high ,'RMSE': linregCV_rmse, 'RMSE_low': linregCV_rmse_low , 'RMSE_high': linregCV_rmse_high}, ignore_index=True)\n",
    "model_results"
   ]
  },
  {
   "cell_type": "markdown",
   "metadata": {},
   "source": [
    "<a class=\"anchor\" id=\"regression_ridge\"></a>\n",
    "***\n",
    "### 1.2.2. Régression Ridge "
   ]
  },
  {
   "cell_type": "markdown",
   "metadata": {},
   "source": [
    "So ridge regression puts constraint on the coefficients (). The penalty term (alpha) regularizes the coefficients such that if the coefficients take large values the optimization function is penalized. So, ridge regression shrinks the coefficients and it helps to reduce the model complexity and multi-collinearity\n",
    "\n",
    "- higher the alpha value, more restriction on the coefficients\n",
    "- low alpha > more generalization, coefficients are barely"
   ]
  },
  {
   "cell_type": "markdown",
   "metadata": {},
   "source": [
    "<a class=\"anchor\" id=\"ridge_alpha\"></a>\n",
    "***\n",
    "#### 1.2.2.1. Recherche du meilleur alpha"
   ]
  },
  {
   "cell_type": "code",
   "execution_count": 36,
   "metadata": {},
   "outputs": [],
   "source": [
    "from sklearn.linear_model import Ridge\n",
    "\n",
    "# on cherche le meilleur alpha entre 200 valeurs entre 10^-5 et 10^5\n",
    "n_alphas = 200\n",
    "alphas = np.logspace(-5,5,n_alphas)\n",
    "\n",
    "ridge = Ridge(random_state=116)\n",
    "coefs = []\n",
    "errors = []\n",
    "\n",
    "for a in alphas:\n",
    "    ridge.set_params(alpha=a)\n",
    "    ridge.fit(X_train, y_train)\n",
    "    coefs.append(ridge.coef_)\n",
    "    errors.append(np.sqrt(metrics.mean_squared_error(y_test, ridge.predict(X_test))))"
   ]
  },
  {
   "cell_type": "code",
   "execution_count": 37,
   "metadata": {},
   "outputs": [
    {
     "data": {
      "image/png": "[encoded data removed]",
      "text/plain": [
       "<Figure size 432x288 with 1 Axes>"
      ]
     },
     "metadata": {
      "needs_background": "light"
     },
     "output_type": "display_data"
    }
   ],
   "source": [
    "# Erreur (RMSE) en fonction de alpha\n",
    "\n",
    "plt.plot(alphas, errors, color='red', label='ridge_rmse')\n",
    "plt.axhline(y=linreg_rmse, color='blue', linestyle='-', label='linreg_rmse')\n",
    "\n",
    "plt.xscale('log')\n",
    "plt.xlabel('alpha')\n",
    "plt.ylabel('error (rmse)')\n",
    "plt.axis('tight')\n",
    "plt.title('Ridge - erreur (RMSE) en fonction de alpha')\n",
    "plt.legend()\n",
    "\n",
    "plt.savefig('02 - Graphs/01 - Modelisation conso energie/ridge_rmse_alpha.png', dpi=200, bbox_inches='tight')\n",
    "plt.show()"
   ]
  },
  {
   "cell_type": "code",
   "execution_count": 38,
   "metadata": {},
   "outputs": [
    {
     "data": {
      "text/plain": [
       "127"
      ]
     },
     "execution_count": 38,
     "metadata": {},
     "output_type": "execute_result"
    }
   ],
   "source": [
    "# Index de l'erreur la plus petite\n",
    "np.argmin(errors)"
   ]
  },
  {
   "cell_type": "code",
   "execution_count": 39,
   "metadata": {},
   "outputs": [
    {
     "data": {
      "text/plain": [
       "24.09403560239527"
      ]
     },
     "execution_count": 39,
     "metadata": {},
     "output_type": "execute_result"
    }
   ],
   "source": [
    "# Calcul de Alpha [valeur dans la table Aphas à l'index 158]\n",
    "ridge_alpha = alphas[np.argmin(errors)]\n",
    "ridge_alpha"
   ]
  },
  {
   "cell_type": "code",
   "execution_count": 40,
   "metadata": {},
   "outputs": [
    {
     "data": {
      "text/plain": [
       "0.6178515487268426"
      ]
     },
     "execution_count": 40,
     "metadata": {},
     "output_type": "execute_result"
    }
   ],
   "source": [
    "# RMSE au alpha optimal :\n",
    "ridge_rmse = errors[np.argmin(errors)]\n",
    "ridge_rmse"
   ]
  },
  {
   "cell_type": "code",
   "execution_count": 41,
   "metadata": {},
   "outputs": [
    {
     "data": {
      "image/png": "[encoded data removed]",
      "text/plain": [
       "<Figure size 432x288 with 1 Axes>"
      ]
     },
     "metadata": {
      "needs_background": "light"
     },
     "output_type": "display_data"
    }
   ],
   "source": [
    "# Chemin de régularisation des coefficients\n",
    "plt.plot(alphas, coefs)\n",
    "plt.axvline(ridge_alpha, color='green', linestyle='-', label='alpha')\n",
    "\n",
    "plt.title('coefficients des variables en fonction de alpha')\n",
    "plt.xscale('log')\n",
    "plt.xlabel('alpha')\n",
    "plt.ylabel('error (rmse)')\n",
    "plt.axis('tight')\n",
    "plt.legend()\n",
    "\n",
    "plt.savefig('02 - Graphs/01 - Modelisation conso energie/ridge_coefs_alpha.png', dpi=200, bbox_inches='tight')\n",
    "plt.show()"
   ]
  },
  {
   "cell_type": "markdown",
   "metadata": {},
   "source": [
    "<a class=\"anchor\" id=\"ridge_CV\"></a>\n",
    "***\n",
    "#### 1.2.2.2. Regression Ridge (avec CV)"
   ]
  },
  {
   "cell_type": "code",
   "execution_count": 42,
   "metadata": {},
   "outputs": [
    {
     "data": {
      "text/plain": [
       "{'fit_time': array([0.00199938, 0.00099897, 0.        , 0.00099897, 0.        ,\n",
       "        0.00099969, 0.00099945, 0.00099897, 0.00099945, 0.        ]),\n",
       " 'score_time': array([0.        , 0.        , 0.00099969, 0.        , 0.00099945,\n",
       "        0.        , 0.        , 0.        , 0.        , 0.00099921]),\n",
       " 'test_R2': array([0.75503381, 0.58402231, 0.78125645, 0.59152306, 0.48168844,\n",
       "        0.75110744, 0.61785974, 0.705695  , 0.74791121, 0.60248747]),\n",
       " 'train_R2': array([0.67388595, 0.68662165, 0.66363132, 0.689505  , 0.71395759,\n",
       "        0.66901175, 0.6820211 , 0.67681431, 0.67278433, 0.68837887]),\n",
       " 'test_MSE': array([0.12562026, 0.35098609, 0.24126863, 0.51368401, 0.81626533,\n",
       "        0.27701457, 0.32404716, 0.20184498, 0.21293123, 0.45603298]),\n",
       " 'train_MSE': array([0.34278328, 0.31881307, 0.33251351, 0.30152244, 0.26700124,\n",
       "        0.32682619, 0.32300778, 0.33439003, 0.33282961, 0.30618112])}"
      ]
     },
     "execution_count": 42,
     "metadata": {},
     "output_type": "execute_result"
    }
   ],
   "source": [
    "# Calculs des metrics r² et mse\n",
    "\n",
    "ridgeCV_results = cross_validate(Ridge(alpha=ridge_alpha), X_train, y_train, cv=10, scoring={'R2':'r2', 'MSE': make_scorer(mean_squared_error)}, return_train_score=True)\n",
    "ridgeCV_results"
   ]
  },
  {
   "cell_type": "code",
   "execution_count": 43,
   "metadata": {},
   "outputs": [],
   "source": [
    "# On récupère les 10 valeurs r²\n",
    "ridgeCV_accuracies = ridgeCV_results['test_R2']\n",
    "\n",
    "# Intervalles de confiance\n",
    "ridgeCV_accuracy_interval = mean_confidence_interval(ridgeCV_accuracies, 0.96)\n",
    "\n",
    "# Récupération des 3 valeurs\n",
    "ridgeCV_accuracy = ridgeCV_accuracy_interval[0]\n",
    "ridgeCV_accuracy_low = ridgeCV_accuracy_interval[1]\n",
    "ridgeCV_accuracy_high = ridgeCV_accuracy_interval[2]"
   ]
  },
  {
   "cell_type": "code",
   "execution_count": 44,
   "metadata": {},
   "outputs": [],
   "source": [
    "# On récupère les 10 valeurs MSE\n",
    "ridgeCV_mses = ridgeCV_results['test_MSE']\n",
    "\n",
    "# On calcule les rmse\n",
    "ridgeCV_rmses = np.sqrt(ridgeCV_mses)\n",
    "\n",
    "# Intervalles de confiance\n",
    "ridgeCV_rmse_interval = mean_confidence_interval(ridgeCV_rmses, 0.96)\n",
    "\n",
    "# Récupération des 3 valeurs\n",
    "ridgeCV_rmse = ridgeCV_rmse_interval[0]\n",
    "ridgeCV_rmse_low = ridgeCV_rmse_interval[1]\n",
    "ridgeCV_rmse_high = ridgeCV_rmse_interval[2]"
   ]
  },
  {
   "cell_type": "markdown",
   "metadata": {},
   "source": [
    "***"
   ]
  },
  {
   "cell_type": "markdown",
   "metadata": {},
   "source": [
    "**Calcul du RMSE dans l'unité d'origine**"
   ]
  },
  {
   "cell_type": "code",
   "execution_count": 45,
   "metadata": {},
   "outputs": [],
   "source": [
    "from sklearn.model_selection import cross_val_predict\n",
    "\n",
    "# Make cross validated predictions\n",
    "ridge_predictions_CV = cross_val_predict(Ridge(alpha=ridge_alpha), X_train, y_train, cv=10)"
   ]
  },
  {
   "cell_type": "code",
   "execution_count": 46,
   "metadata": {},
   "outputs": [],
   "source": [
    "# Source : https://www.youtube.com/watch?v=OYn-Mg2Sg20\n",
    "# Bonne source : https://stackoverflow.com/questions/38058774/scikit-learn-how-to-scale-back-the-y-predicted-result\n",
    "ridge_predictions_CV_unscale = sc_Y.inverse_transform(ridge_predictions_CV)"
   ]
  },
  {
   "cell_type": "code",
   "execution_count": 47,
   "metadata": {},
   "outputs": [
    {
     "name": "stdout",
     "output_type": "stream",
     "text": [
      "Root Mean Squared Error: 7946889.838066978\n"
     ]
    }
   ],
   "source": [
    "# RMSE\n",
    "ridgeCV_rmse_unscale = np.sqrt(metrics.mean_squared_error(y_train_unscale, ridge_predictions_CV_unscale))\n",
    "print('Root Mean Squared Error:', ridgeCV_rmse_unscale)"
   ]
  },
  {
   "cell_type": "code",
   "execution_count": 48,
   "metadata": {
    "scrolled": false
   },
   "outputs": [
    {
     "data": {
      "text/html": [
       "<div>\n",
       "<style scoped>\n",
       "    .dataframe tbody tr th:only-of-type {\n",
       "        vertical-align: middle;\n",
       "    }\n",
       "\n",
       "    .dataframe tbody tr th {\n",
       "        vertical-align: top;\n",
       "    }\n",
       "\n",
       "    .dataframe thead th {\n",
       "        text-align: right;\n",
       "    }\n",
       "</style>\n",
       "<table border=\"1\" class=\"dataframe\">\n",
       "  <thead>\n",
       "    <tr style=\"text-align: right;\">\n",
       "      <th></th>\n",
       "      <th>Standardisation</th>\n",
       "      <th>Passage au log</th>\n",
       "      <th>Model</th>\n",
       "      <th>Accuracy</th>\n",
       "      <th>RMSE</th>\n",
       "    </tr>\n",
       "  </thead>\n",
       "  <tbody>\n",
       "    <tr>\n",
       "      <th>0</th>\n",
       "      <td>oui</td>\n",
       "      <td>non</td>\n",
       "      <td>Regression linéaire</td>\n",
       "      <td>0.660955</td>\n",
       "      <td>7.953118e+06</td>\n",
       "    </tr>\n",
       "    <tr>\n",
       "      <th>1</th>\n",
       "      <td>oui</td>\n",
       "      <td>non</td>\n",
       "      <td>Ridge</td>\n",
       "      <td>0.661858</td>\n",
       "      <td>7.946890e+06</td>\n",
       "    </tr>\n",
       "  </tbody>\n",
       "</table>\n",
       "</div>"
      ],
      "text/plain": [
       "  Standardisation Passage au log                Model  Accuracy          RMSE\n",
       "0             oui            non  Regression linéaire  0.660955  7.953118e+06\n",
       "1             oui            non                Ridge  0.661858  7.946890e+06"
      ]
     },
     "execution_count": 48,
     "metadata": {},
     "output_type": "execute_result"
    }
   ],
   "source": [
    "# Création d'un dataframe avec les différents résultats par modélisation\n",
    "regressions_results = regressions_results.append({'Standardisation': 'oui', 'Passage au log': 'non', 'Model': 'Ridge', 'Accuracy': ridgeCV_accuracy, 'RMSE': ridgeCV_rmse_unscale}, ignore_index=True)\n",
    "regressions_results"
   ]
  },
  {
   "cell_type": "markdown",
   "metadata": {},
   "source": [
    "***"
   ]
  },
  {
   "cell_type": "code",
   "execution_count": 49,
   "metadata": {},
   "outputs": [
    {
     "data": {
      "image/png": "[encoded data removed]",
      "text/plain": [
       "<Figure size 432x288 with 1 Axes>"
      ]
     },
     "metadata": {
      "needs_background": "light"
     },
     "output_type": "display_data"
    }
   ],
   "source": [
    "# Visualisation\n",
    "plt.scatter(y_train, ridge_predictions_CV)\n",
    "plt.plot(y_test, y_test, color='r', label='ideal prediction')\n",
    "\n",
    "plt.title('Ridge - true values vs predicted values')\n",
    "plt.xlabel('True Values')\n",
    "plt.ylabel('Predictions')\n",
    "plt.axis('square')\n",
    "plt.legend()\n",
    "\n",
    "plt.savefig('02 - Graphs/01 - Modelisation conso energie/ridge_actual_vs_predicted_CV.png', dpi=200, bbox_inches='tight')\n",
    "\n",
    "plt.show()"
   ]
  },
  {
   "cell_type": "code",
   "execution_count": 50,
   "metadata": {},
   "outputs": [
    {
     "data": {
      "image/png": "[encoded data removed]",
      "text/plain": [
       "<Figure size 432x288 with 1 Axes>"
      ]
     },
     "metadata": {
      "needs_background": "light"
     },
     "output_type": "display_data"
    }
   ],
   "source": [
    "# Source: https://bigdata-madesimple.com/how-to-run-linear-regression-in-python-scikit-learn/\n",
    "plt.scatter(ridge_predictions_CV, y_train - ridge_predictions_CV, color='blue', s=20, alpha=0.5)\n",
    "\n",
    "plt.hlines(y=0, xmin=0, xmax =10)\n",
    "plt.grid(b=None)\n",
    "plt.title('Ridge - Residual Plot')\n",
    "plt.ylabel('Residuals')\n",
    "plt.xlabel('Predicted')\n",
    "\n",
    "plt.savefig('02 - Graphs/01 - Modelisation conso energie/ridge_actual_vs_predicted_CV_2.png', dpi=200, bbox_inches='tight')\n",
    "plt.show()"
   ]
  },
  {
   "cell_type": "code",
   "execution_count": 51,
   "metadata": {
    "scrolled": true
   },
   "outputs": [
    {
     "data": {
      "text/html": [
       "<div>\n",
       "<style scoped>\n",
       "    .dataframe tbody tr th:only-of-type {\n",
       "        vertical-align: middle;\n",
       "    }\n",
       "\n",
       "    .dataframe tbody tr th {\n",
       "        vertical-align: top;\n",
       "    }\n",
       "\n",
       "    .dataframe thead th {\n",
       "        text-align: right;\n",
       "    }\n",
       "</style>\n",
       "<table border=\"1\" class=\"dataframe\">\n",
       "  <thead>\n",
       "    <tr style=\"text-align: right;\">\n",
       "      <th></th>\n",
       "      <th>Standardisation</th>\n",
       "      <th>Passage au log</th>\n",
       "      <th>EnergyStarScore</th>\n",
       "      <th>Model</th>\n",
       "      <th>Accuracy</th>\n",
       "      <th>Accuracy_low</th>\n",
       "      <th>Accuracy_high</th>\n",
       "      <th>RMSE</th>\n",
       "      <th>RMSE_low</th>\n",
       "      <th>RMSE_high</th>\n",
       "    </tr>\n",
       "  </thead>\n",
       "  <tbody>\n",
       "    <tr>\n",
       "      <th>0</th>\n",
       "      <td>oui</td>\n",
       "      <td>non</td>\n",
       "      <td>non</td>\n",
       "      <td>Regression linéaire</td>\n",
       "      <td>0.660955</td>\n",
       "      <td>0.600737</td>\n",
       "      <td>0.721174</td>\n",
       "      <td>0.574261</td>\n",
       "      <td>0.48078</td>\n",
       "      <td>0.667742</td>\n",
       "    </tr>\n",
       "    <tr>\n",
       "      <th>1</th>\n",
       "      <td>oui</td>\n",
       "      <td>non</td>\n",
       "      <td>non</td>\n",
       "      <td>Ridge</td>\n",
       "      <td>0.661858</td>\n",
       "      <td>0.603334</td>\n",
       "      <td>0.720383</td>\n",
       "      <td>0.573984</td>\n",
       "      <td>0.48099</td>\n",
       "      <td>0.666979</td>\n",
       "    </tr>\n",
       "  </tbody>\n",
       "</table>\n",
       "</div>"
      ],
      "text/plain": [
       "  Standardisation Passage au log EnergyStarScore                Model  \\\n",
       "0             oui            non             non  Regression linéaire   \n",
       "1             oui            non             non                Ridge   \n",
       "\n",
       "   Accuracy  Accuracy_low  Accuracy_high      RMSE  RMSE_low  RMSE_high  \n",
       "0  0.660955      0.600737       0.721174  0.574261   0.48078   0.667742  \n",
       "1  0.661858      0.603334       0.720383  0.573984   0.48099   0.666979  "
      ]
     },
     "execution_count": 51,
     "metadata": {},
     "output_type": "execute_result"
    }
   ],
   "source": [
    "# Ajoutons les résultats au dataframe\n",
    "model_results = model_results.append({'Standardisation': 'oui', 'Passage au log': 'non','EnergyStarScore':'non', 'Model': 'Ridge', 'Accuracy': ridgeCV_accuracy, 'Accuracy_low': ridgeCV_accuracy_low, 'Accuracy_high': ridgeCV_accuracy_high ,'RMSE': ridgeCV_rmse, 'RMSE_low': ridgeCV_rmse_low , 'RMSE_high': ridgeCV_rmse_high}, ignore_index=True)\n",
    "model_results"
   ]
  },
  {
   "cell_type": "markdown",
   "metadata": {},
   "source": [
    "<a class=\"anchor\" id=\"regression_lasso\"></a>\n",
    "***\n",
    "### 1.2.3. Régression Lasso "
   ]
  },
  {
   "cell_type": "markdown",
   "metadata": {},
   "source": [
    "Le lasso peut donc être utilisé comme un algorithme de réduction de dimension supervisée."
   ]
  },
  {
   "cell_type": "markdown",
   "metadata": {},
   "source": [
    "<a class=\"anchor\" id=\"lasso_alpha\"></a>\n",
    "***\n",
    "#### 1.2.3.1. Recherche du meilleur alpha"
   ]
  },
  {
   "cell_type": "code",
   "execution_count": 52,
   "metadata": {},
   "outputs": [],
   "source": [
    "from sklearn.linear_model import Lasso\n",
    "\n",
    "# on cherche le meilleur alpha entre 200 valeurs entre 10^-5 et 10^5\n",
    "n_alphas = 200\n",
    "alphas = np.logspace(-5,10,n_alphas)\n",
    "\n",
    "lasso = Lasso(random_state=116)\n",
    "coefs = []\n",
    "errors = []\n",
    "\n",
    "for a in alphas:\n",
    "    lasso.set_params(alpha=a)\n",
    "    lasso.fit(X_train, y_train)\n",
    "    coefs.append(lasso.coef_)\n",
    "    errors.append(np.sqrt(metrics.mean_squared_error(y_test, lasso.predict(X_test))))"
   ]
  },
  {
   "cell_type": "code",
   "execution_count": 53,
   "metadata": {
    "scrolled": true
   },
   "outputs": [
    {
     "data": {
      "image/png": "[encoded data removed]",
      "text/plain": [
       "<Figure size 432x288 with 1 Axes>"
      ]
     },
     "metadata": {
      "needs_background": "light"
     },
     "output_type": "display_data"
    }
   ],
   "source": [
    "# Erreur (RMSE) en fonction de alpha\n",
    "\n",
    "plt.plot(alphas, errors, color='red', label='lasso_rmse')\n",
    "plt.axhline(y=linreg_rmse, color='blue', linestyle='-', label='linreg_rmse')\n",
    "\n",
    "plt.xscale('log')\n",
    "plt.xlabel('alpha')\n",
    "plt.ylabel('error (rmse)')\n",
    "plt.axis('tight')\n",
    "plt.title('Lasso - erreur (RMSE) en fonction de alpha')\n",
    "plt.legend()\n",
    "\n",
    "plt.savefig('02 - Graphs/01 - Modelisation conso energie/lasso_rmse_alpha.png', dpi=200, bbox_inches='tight')\n",
    "plt.show()"
   ]
  },
  {
   "cell_type": "code",
   "execution_count": 54,
   "metadata": {},
   "outputs": [
    {
     "data": {
      "text/plain": [
       "34"
      ]
     },
     "execution_count": 54,
     "metadata": {},
     "output_type": "execute_result"
    }
   ],
   "source": [
    "# Index de l'erreur la plus petite\n",
    "np.argmin(errors)"
   ]
  },
  {
   "cell_type": "code",
   "execution_count": 55,
   "metadata": {},
   "outputs": [
    {
     "data": {
      "text/plain": [
       "0.0036543830709572546"
      ]
     },
     "execution_count": 55,
     "metadata": {},
     "output_type": "execute_result"
    }
   ],
   "source": [
    "# Calcul de Alpha [valeur dans la table Aphas à l'index 158]\n",
    "lasso_alpha = alphas[np.argmin(errors)]\n",
    "lasso_alpha"
   ]
  },
  {
   "cell_type": "code",
   "execution_count": 56,
   "metadata": {},
   "outputs": [
    {
     "data": {
      "text/plain": [
       "0.6170894533829158"
      ]
     },
     "execution_count": 56,
     "metadata": {},
     "output_type": "execute_result"
    }
   ],
   "source": [
    "# RMSE au alpha optimal :\n",
    "lasso_rmse = errors[np.argmin(errors)]\n",
    "lasso_rmse"
   ]
  },
  {
   "cell_type": "code",
   "execution_count": 57,
   "metadata": {},
   "outputs": [
    {
     "data": {
      "image/png": "[encoded data removed]",
      "text/plain": [
       "<Figure size 432x288 with 1 Axes>"
      ]
     },
     "metadata": {
      "needs_background": "light"
     },
     "output_type": "display_data"
    }
   ],
   "source": [
    "# Chemin de régularisation des coefficients\n",
    "plt.plot(alphas, coefs)\n",
    "plt.axvline(lasso_alpha, color='green', linestyle='-', label='alpha')\n",
    "\n",
    "plt.title('Lasso - coefficients des variables en fonction de alpha')\n",
    "plt.xscale('log')\n",
    "plt.xlabel('alpha')\n",
    "plt.ylabel('error (rmse)')\n",
    "plt.axis('tight')\n",
    "plt.legend()\n",
    "\n",
    "plt.savefig('02 - Graphs/01 - Modelisation conso energie/lasso_coefs_alpha.png', dpi=200, bbox_inches='tight')\n",
    "plt.show()"
   ]
  },
  {
   "cell_type": "markdown",
   "metadata": {},
   "source": [
    "<a class=\"anchor\" id=\"lasso_CV\"></a>\n",
    "***\n",
    "#### 1.2.3.2. Regression Lasso (avec CV)"
   ]
  },
  {
   "cell_type": "code",
   "execution_count": 58,
   "metadata": {},
   "outputs": [
    {
     "data": {
      "text/plain": [
       "{'fit_time': array([0.00099969, 0.        , 0.        , 0.00099993, 0.        ,\n",
       "        0.        , 0.00099897, 0.00099897, 0.        , 0.        ]),\n",
       " 'score_time': array([0.00100017, 0.00099969, 0.00099969, 0.00099897, 0.0010004 ,\n",
       "        0.00100088, 0.        , 0.        , 0.00099969, 0.00099993]),\n",
       " 'test_R2': array([0.75795632, 0.57940516, 0.78828696, 0.59584405, 0.47707417,\n",
       "        0.75559848, 0.60557878, 0.70894936, 0.74650595, 0.60361414]),\n",
       " 'train_R2': array([0.67380508, 0.68660684, 0.66353666, 0.68958001, 0.71393781,\n",
       "        0.66894636, 0.68212613, 0.67692332, 0.6728061 , 0.68840757]),\n",
       " 'test_MSE': array([0.12412159, 0.35488187, 0.23351415, 0.5082501 , 0.82353212,\n",
       "        0.2720161 , 0.33446116, 0.19961302, 0.21411821, 0.45474044]),\n",
       " 'train_MSE': array([0.34286829, 0.31882814, 0.33260709, 0.3014496 , 0.2670197 ,\n",
       "        0.32689075, 0.32290109, 0.33427724, 0.33280746, 0.30615291])}"
      ]
     },
     "execution_count": 58,
     "metadata": {},
     "output_type": "execute_result"
    }
   ],
   "source": [
    "# Calculs des metrics r² et mse\n",
    "\n",
    "lassoCV_results = cross_validate(Lasso(alpha=lasso_alpha), X_train, y_train, cv=10, scoring={'R2':'r2', 'MSE': make_scorer(mean_squared_error)}, return_train_score=True)\n",
    "lassoCV_results"
   ]
  },
  {
   "cell_type": "code",
   "execution_count": 59,
   "metadata": {},
   "outputs": [],
   "source": [
    "# On récupère les 10 valeurs r²\n",
    "lassoCV_accuracies = lassoCV_results['test_R2']\n",
    "\n",
    "# Intervalles de confiance\n",
    "lassoCV_accuracy_interval = mean_confidence_interval(lassoCV_accuracies, 0.96)\n",
    "\n",
    "# Récupération des 3 valeurs\n",
    "lassoCV_accuracy = lassoCV_accuracy_interval[0]\n",
    "lassoCV_accuracy_low = lassoCV_accuracy_interval[1]\n",
    "lassoCV_accuracy_high = lassoCV_accuracy_interval[2]"
   ]
  },
  {
   "cell_type": "code",
   "execution_count": 60,
   "metadata": {},
   "outputs": [],
   "source": [
    "# On récupère les 10 valeurs MSE\n",
    "lassoCV_mses = lassoCV_results['test_MSE']\n",
    "\n",
    "# On calcule les rmse\n",
    "lassoCV_rmses = np.sqrt(lassoCV_mses)\n",
    "\n",
    "# Intervalles de confiance\n",
    "lassoCV_rmse_interval = mean_confidence_interval(lassoCV_rmses, 0.96)\n",
    "\n",
    "# Récupération des 3 valeurs\n",
    "lassoCV_rmse = lassoCV_rmse_interval[0]\n",
    "lassoCV_rmse_low = lassoCV_rmse_interval[1]\n",
    "lassoCV_rmse_high = lassoCV_rmse_interval[2]"
   ]
  },
  {
   "cell_type": "markdown",
   "metadata": {},
   "source": [
    "***"
   ]
  },
  {
   "cell_type": "markdown",
   "metadata": {},
   "source": [
    "**Calcul du RMSE dans l'unité d'origine**"
   ]
  },
  {
   "cell_type": "code",
   "execution_count": 61,
   "metadata": {},
   "outputs": [],
   "source": [
    "from sklearn.model_selection import cross_val_predict\n",
    "\n",
    "# Make cross validated predictions\n",
    "lasso_predictions_CV = cross_val_predict(Lasso(alpha=lasso_alpha), X_train, y_train, cv=10)"
   ]
  },
  {
   "cell_type": "code",
   "execution_count": 62,
   "metadata": {},
   "outputs": [],
   "source": [
    "# Source : https://www.youtube.com/watch?v=OYn-Mg2Sg20\n",
    "# Bonne source : https://stackoverflow.com/questions/38058774/scikit-learn-how-to-scale-back-the-y-predicted-result\n",
    "lasso_predictions_CV_unscale = sc_Y.inverse_transform(lasso_predictions_CV)"
   ]
  },
  {
   "cell_type": "code",
   "execution_count": 63,
   "metadata": {},
   "outputs": [
    {
     "name": "stdout",
     "output_type": "stream",
     "text": [
      "Root Mean Squared Error: 7946371.082082329\n"
     ]
    }
   ],
   "source": [
    "# RMSE\n",
    "lassoCV_rmse_unscale = np.sqrt(metrics.mean_squared_error(y_train_unscale, lasso_predictions_CV_unscale))\n",
    "print('Root Mean Squared Error:', lassoCV_rmse_unscale)"
   ]
  },
  {
   "cell_type": "code",
   "execution_count": 64,
   "metadata": {
    "scrolled": false
   },
   "outputs": [
    {
     "data": {
      "text/html": [
       "<div>\n",
       "<style scoped>\n",
       "    .dataframe tbody tr th:only-of-type {\n",
       "        vertical-align: middle;\n",
       "    }\n",
       "\n",
       "    .dataframe tbody tr th {\n",
       "        vertical-align: top;\n",
       "    }\n",
       "\n",
       "    .dataframe thead th {\n",
       "        text-align: right;\n",
       "    }\n",
       "</style>\n",
       "<table border=\"1\" class=\"dataframe\">\n",
       "  <thead>\n",
       "    <tr style=\"text-align: right;\">\n",
       "      <th></th>\n",
       "      <th>Standardisation</th>\n",
       "      <th>Passage au log</th>\n",
       "      <th>Model</th>\n",
       "      <th>Accuracy</th>\n",
       "      <th>RMSE</th>\n",
       "    </tr>\n",
       "  </thead>\n",
       "  <tbody>\n",
       "    <tr>\n",
       "      <th>0</th>\n",
       "      <td>oui</td>\n",
       "      <td>non</td>\n",
       "      <td>Regression linéaire</td>\n",
       "      <td>0.660955</td>\n",
       "      <td>7.953118e+06</td>\n",
       "    </tr>\n",
       "    <tr>\n",
       "      <th>1</th>\n",
       "      <td>oui</td>\n",
       "      <td>non</td>\n",
       "      <td>Ridge</td>\n",
       "      <td>0.661858</td>\n",
       "      <td>7.946890e+06</td>\n",
       "    </tr>\n",
       "    <tr>\n",
       "      <th>2</th>\n",
       "      <td>oui</td>\n",
       "      <td>non</td>\n",
       "      <td>Lasso</td>\n",
       "      <td>0.661881</td>\n",
       "      <td>7.946371e+06</td>\n",
       "    </tr>\n",
       "  </tbody>\n",
       "</table>\n",
       "</div>"
      ],
      "text/plain": [
       "  Standardisation Passage au log                Model  Accuracy          RMSE\n",
       "0             oui            non  Regression linéaire  0.660955  7.953118e+06\n",
       "1             oui            non                Ridge  0.661858  7.946890e+06\n",
       "2             oui            non                Lasso  0.661881  7.946371e+06"
      ]
     },
     "execution_count": 64,
     "metadata": {},
     "output_type": "execute_result"
    }
   ],
   "source": [
    "# Création d'un dataframe avec les différents résultats par modélisation\n",
    "regressions_results = regressions_results.append({'Standardisation': 'oui', 'Passage au log': 'non', 'Model': 'Lasso', 'Accuracy': lassoCV_accuracy, 'RMSE': lassoCV_rmse_unscale}, ignore_index=True)\n",
    "regressions_results"
   ]
  },
  {
   "cell_type": "markdown",
   "metadata": {},
   "source": [
    "***"
   ]
  },
  {
   "cell_type": "markdown",
   "metadata": {},
   "source": [
    "***"
   ]
  },
  {
   "cell_type": "code",
   "execution_count": 65,
   "metadata": {},
   "outputs": [
    {
     "data": {
      "image/png": "[encoded data removed]",
      "text/plain": [
       "<Figure size 432x288 with 1 Axes>"
      ]
     },
     "metadata": {
      "needs_background": "light"
     },
     "output_type": "display_data"
    }
   ],
   "source": [
    "# Visualisation\n",
    "plt.scatter(y_train, lasso_predictions_CV)\n",
    "plt.plot(y_test, y_test, color='r', label='ideal prediction')\n",
    "\n",
    "plt.title('Lasso - true values vs predicted values')\n",
    "plt.xlabel('True Values')\n",
    "plt.ylabel('Predictions')\n",
    "plt.axis('square')\n",
    "plt.legend()\n",
    "\n",
    "plt.savefig('02 - Graphs/01 - Modelisation conso energie/lasso_actual_vs_predicted_CV.png', dpi=200, bbox_inches='tight')\n",
    "\n",
    "plt.show()"
   ]
  },
  {
   "cell_type": "code",
   "execution_count": 66,
   "metadata": {
    "scrolled": true
   },
   "outputs": [
    {
     "data": {
      "image/png": "[encoded data removed]",
      "text/plain": [
       "<Figure size 432x288 with 1 Axes>"
      ]
     },
     "metadata": {
      "needs_background": "light"
     },
     "output_type": "display_data"
    }
   ],
   "source": [
    "# Source: https://bigdata-madesimple.com/how-to-run-linear-regression-in-python-scikit-learn/\n",
    "plt.scatter(lasso_predictions_CV, y_train - lasso_predictions_CV, color='blue', s=20, alpha=0.5)\n",
    "\n",
    "plt.hlines(y=0, xmin=0, xmax =10)\n",
    "plt.grid(b=None)\n",
    "plt.title('Lasso - Residual Plot')\n",
    "plt.ylabel('Residuals')\n",
    "plt.xlabel('Predicted')\n",
    "\n",
    "plt.savefig('02 - Graphs/01 - Modelisation conso energie/lasso_actual_vs_predicted_CV_2.png', dpi=200, bbox_inches='tight')\n",
    "plt.show()"
   ]
  },
  {
   "cell_type": "code",
   "execution_count": 67,
   "metadata": {
    "scrolled": true
   },
   "outputs": [
    {
     "data": {
      "text/html": [
       "<div>\n",
       "<style scoped>\n",
       "    .dataframe tbody tr th:only-of-type {\n",
       "        vertical-align: middle;\n",
       "    }\n",
       "\n",
       "    .dataframe tbody tr th {\n",
       "        vertical-align: top;\n",
       "    }\n",
       "\n",
       "    .dataframe thead th {\n",
       "        text-align: right;\n",
       "    }\n",
       "</style>\n",
       "<table border=\"1\" class=\"dataframe\">\n",
       "  <thead>\n",
       "    <tr style=\"text-align: right;\">\n",
       "      <th></th>\n",
       "      <th>Standardisation</th>\n",
       "      <th>Passage au log</th>\n",
       "      <th>EnergyStarScore</th>\n",
       "      <th>Model</th>\n",
       "      <th>Accuracy</th>\n",
       "      <th>Accuracy_low</th>\n",
       "      <th>Accuracy_high</th>\n",
       "      <th>RMSE</th>\n",
       "      <th>RMSE_low</th>\n",
       "      <th>RMSE_high</th>\n",
       "    </tr>\n",
       "  </thead>\n",
       "  <tbody>\n",
       "    <tr>\n",
       "      <th>0</th>\n",
       "      <td>oui</td>\n",
       "      <td>non</td>\n",
       "      <td>non</td>\n",
       "      <td>Regression linéaire</td>\n",
       "      <td>0.660955</td>\n",
       "      <td>0.600737</td>\n",
       "      <td>0.721174</td>\n",
       "      <td>0.574261</td>\n",
       "      <td>0.480780</td>\n",
       "      <td>0.667742</td>\n",
       "    </tr>\n",
       "    <tr>\n",
       "      <th>1</th>\n",
       "      <td>oui</td>\n",
       "      <td>non</td>\n",
       "      <td>non</td>\n",
       "      <td>Ridge</td>\n",
       "      <td>0.661858</td>\n",
       "      <td>0.603334</td>\n",
       "      <td>0.720383</td>\n",
       "      <td>0.573984</td>\n",
       "      <td>0.480990</td>\n",
       "      <td>0.666979</td>\n",
       "    </tr>\n",
       "    <tr>\n",
       "      <th>2</th>\n",
       "      <td>oui</td>\n",
       "      <td>non</td>\n",
       "      <td>non</td>\n",
       "      <td>Lasso</td>\n",
       "      <td>0.661881</td>\n",
       "      <td>0.601391</td>\n",
       "      <td>0.722372</td>\n",
       "      <td>0.573540</td>\n",
       "      <td>0.479588</td>\n",
       "      <td>0.667491</td>\n",
       "    </tr>\n",
       "  </tbody>\n",
       "</table>\n",
       "</div>"
      ],
      "text/plain": [
       "  Standardisation Passage au log EnergyStarScore                Model  \\\n",
       "0             oui            non             non  Regression linéaire   \n",
       "1             oui            non             non                Ridge   \n",
       "2             oui            non             non                Lasso   \n",
       "\n",
       "   Accuracy  Accuracy_low  Accuracy_high      RMSE  RMSE_low  RMSE_high  \n",
       "0  0.660955      0.600737       0.721174  0.574261  0.480780   0.667742  \n",
       "1  0.661858      0.603334       0.720383  0.573984  0.480990   0.666979  \n",
       "2  0.661881      0.601391       0.722372  0.573540  0.479588   0.667491  "
      ]
     },
     "execution_count": 67,
     "metadata": {},
     "output_type": "execute_result"
    }
   ],
   "source": [
    "# Ajoutons les résultats au dataframe\n",
    "model_results = model_results.append({'Standardisation': 'oui', 'Passage au log': 'non','EnergyStarScore':'non', 'Model': 'Lasso', 'Accuracy': lassoCV_accuracy, 'Accuracy_low': lassoCV_accuracy_low, 'Accuracy_high': lassoCV_accuracy_high ,'RMSE': lassoCV_rmse, 'RMSE_low': lassoCV_rmse_low , 'RMSE_high': lassoCV_rmse_high}, ignore_index=True)\n",
    "model_results"
   ]
  },
  {
   "cell_type": "markdown",
   "metadata": {},
   "source": [
    "<a class=\"anchor\" id=\"regressions_non_lineaires\"></a>\n",
    "***\n",
    "## 1.3. Régressions non linéaires"
   ]
  },
  {
   "cell_type": "markdown",
   "metadata": {},
   "source": [
    "<a class=\"anchor\" id=\"svr\"></a>\n",
    "***\n",
    "### 1.3.1. Support Vector Regression (SVR)"
   ]
  },
  {
   "cell_type": "markdown",
   "metadata": {},
   "source": [
    "On a enlevé des outliers pour avoir des résultats pertinents"
   ]
  },
  {
   "cell_type": "code",
   "execution_count": 68,
   "metadata": {},
   "outputs": [],
   "source": [
    "from sklearn.svm import SVR\n",
    "\n",
    "# SVR linear\n",
    "svr_lin = SVR(kernel='linear', degree=1)\n",
    "svr_lin.fit(X_train,y_train)\n",
    "\n",
    "# Prédictions\n",
    "svr_lin_y_pred = svr_lin.predict(X_test)"
   ]
  },
  {
   "cell_type": "code",
   "execution_count": 69,
   "metadata": {},
   "outputs": [
    {
     "name": "stdout",
     "output_type": "stream",
     "text": [
      "0.619025348358382\n"
     ]
    }
   ],
   "source": [
    "# R²\n",
    "svr_lin_accuracy = svr_lin.score(X_test,y_test)\n",
    "print(svr_lin_accuracy)"
   ]
  },
  {
   "cell_type": "code",
   "execution_count": 70,
   "metadata": {},
   "outputs": [
    {
     "name": "stdout",
     "output_type": "stream",
     "text": [
      "Root Mean Squared Error: 0.617231440904964\n"
     ]
    }
   ],
   "source": [
    "# RMSE\n",
    "svr_lin_rmse = np.sqrt(metrics.mean_squared_error(y_test, svr_lin_y_pred))\n",
    "print('Root Mean Squared Error:', svr_lin_rmse)"
   ]
  },
  {
   "cell_type": "markdown",
   "metadata": {},
   "source": [
    "**SVR linear avec CV**"
   ]
  },
  {
   "cell_type": "code",
   "execution_count": 71,
   "metadata": {},
   "outputs": [
    {
     "data": {
      "text/plain": [
       "{'fit_time': array([0.16494513, 0.14695215, 0.15294981, 0.14295244, 0.13495564,\n",
       "        0.14595342, 0.18494034, 0.16194749, 0.14995098, 0.1369555 ]),\n",
       " 'score_time': array([0.00199914, 0.00199962, 0.00299954, 0.00300026, 0.00299907,\n",
       "        0.00199938, 0.00199962, 0.00200009, 0.00300026, 0.00299931]),\n",
       " 'test_R2': array([0.75619654, 0.52994063, 0.80021378, 0.58887909, 0.45455381,\n",
       "        0.73777717, 0.63485709, 0.71246461, 0.79020128, 0.58978729]),\n",
       " 'train_R2': array([0.65155136, 0.66450056, 0.63538338, 0.67089253, 0.69652235,\n",
       "        0.64469664, 0.66182177, 0.64964049, 0.65003061, 0.66946637]),\n",
       " 'test_MSE': array([0.12502401, 0.39661815, 0.22035918, 0.51700895, 0.85899843,\n",
       "        0.29185101, 0.30963375, 0.19720213, 0.17721018, 0.47060284]),\n",
       " 'train_MSE': array([0.36625949, 0.3413178 , 0.3604377 , 0.31959705, 0.28327585,\n",
       "        0.35083554, 0.34352656, 0.36250592, 0.3559737 , 0.32476345])}"
      ]
     },
     "execution_count": 71,
     "metadata": {},
     "output_type": "execute_result"
    }
   ],
   "source": [
    "# Calculs des metrics r² et mse\n",
    "svr_linCV_results = cross_validate(svr_lin, X_train, y_train, cv=10, scoring={'R2':'r2', 'MSE': make_scorer(mean_squared_error)}, return_train_score=True)\n",
    "svr_linCV_results"
   ]
  },
  {
   "cell_type": "code",
   "execution_count": 72,
   "metadata": {},
   "outputs": [],
   "source": [
    "# On récupère les 10 valeurs r²\n",
    "svr_linCV_accuracies = svr_linCV_results['test_R2']\n",
    "\n",
    "# Intervalles de confiance\n",
    "svr_linCV_accuracy_interval = mean_confidence_interval(svr_linCV_accuracies, 0.96)\n",
    "\n",
    "# Récupération des 3 valeurs\n",
    "svr_linCV_accuracy = svr_linCV_accuracy_interval[0]\n",
    "svr_linCV_accuracy_low = svr_linCV_accuracy_interval[1]\n",
    "svr_linCV_accuracy_high = svr_linCV_accuracy_interval[2]"
   ]
  },
  {
   "cell_type": "code",
   "execution_count": 73,
   "metadata": {},
   "outputs": [],
   "source": [
    "# On récupère les 10 valeurs MSE\n",
    "svr_linCV_mses = svr_linCV_results['test_MSE']\n",
    "\n",
    "# On calcule les rmse\n",
    "svr_linCV_rmses = np.sqrt(svr_linCV_mses)\n",
    "\n",
    "# Intervalles de confiance\n",
    "svr_linCV_rmse_interval = mean_confidence_interval(svr_linCV_rmses, 0.96)\n",
    "\n",
    "# Récupération des 3 valeurs\n",
    "svr_linCV_rmse = svr_linCV_rmse_interval[0]\n",
    "svr_linCV_rmse_low = svr_linCV_rmse_interval[1]\n",
    "svr_linCV_rmse_high = svr_linCV_rmse_interval[2]"
   ]
  },
  {
   "cell_type": "code",
   "execution_count": 74,
   "metadata": {},
   "outputs": [
    {
     "data": {
      "text/plain": [
       "array([-0.58950713, -0.3631637 , -0.48939296, ..., -0.32788179,\n",
       "        0.89166104, -0.0276843 ])"
      ]
     },
     "execution_count": 74,
     "metadata": {},
     "output_type": "execute_result"
    }
   ],
   "source": [
    "# Predictions\n",
    "svr_lin_predictions_CV = cross_val_predict(svr_lin, X_train, y_train, cv=10)\n",
    "svr_lin_predictions_CV"
   ]
  },
  {
   "cell_type": "code",
   "execution_count": 75,
   "metadata": {},
   "outputs": [
    {
     "data": {
      "image/png": "[encoded data removed]",
      "text/plain": [
       "<Figure size 432x288 with 1 Axes>"
      ]
     },
     "metadata": {
      "needs_background": "light"
     },
     "output_type": "display_data"
    }
   ],
   "source": [
    "# Visualisation\n",
    "plt.scatter(y_train, svr_lin_predictions_CV)\n",
    "plt.plot(y_test, y_test, color='r', label='ideal prediction')\n",
    "\n",
    "plt.title('SVR linear - true values vs predicted values')\n",
    "plt.xlabel('True Values')\n",
    "plt.ylabel('Predictions')\n",
    "plt.axis('square')\n",
    "plt.legend()\n",
    "\n",
    "plt.savefig('02 - Graphs/01 - Modelisation conso energie/svr_lin_actual_vs_predicted_CV.png', dpi=200, bbox_inches='tight')\n",
    "\n",
    "plt.show()"
   ]
  },
  {
   "cell_type": "markdown",
   "metadata": {},
   "source": [
    "***"
   ]
  },
  {
   "cell_type": "markdown",
   "metadata": {},
   "source": [
    "**SVR rbf avec CV**"
   ]
  },
  {
   "cell_type": "code",
   "execution_count": 76,
   "metadata": {},
   "outputs": [],
   "source": [
    "# SVR rbf\n",
    "svr_rbf = SVR(kernel='rbf', degree=1, gamma='auto')"
   ]
  },
  {
   "cell_type": "code",
   "execution_count": 77,
   "metadata": {},
   "outputs": [
    {
     "data": {
      "text/plain": [
       "{'fit_time': array([0.04398584, 0.04398561, 0.04398561, 0.04498529, 0.04098654,\n",
       "        0.04296875, 0.04400206, 0.04498601, 0.04598498, 0.04498625]),\n",
       " 'score_time': array([0.00499892, 0.00399804, 0.00499892, 0.00399828, 0.00399876,\n",
       "        0.00499845, 0.00498176, 0.00499916, 0.00499868, 0.00399852]),\n",
       " 'test_R2': array([0.59790297, 0.61319187, 0.65991174, 0.49479757, 0.41518406,\n",
       "        0.63264079, 0.59889281, 0.63876018, 0.7197319 , 0.61847172]),\n",
       " 'train_R2': array([0.69554502, 0.69134345, 0.68822164, 0.71315271, 0.72068015,\n",
       "        0.69633981, 0.68890772, 0.6884786 , 0.68662201, 0.70633982]),\n",
       " 'test_MSE': array([0.20619799, 0.32637393, 0.37510878, 0.63532204, 0.92100005,\n",
       "        0.4088666 , 0.34013072, 0.24775129, 0.23673338, 0.43769558]),\n",
       " 'train_MSE': array([0.32001711, 0.31400939, 0.30820503, 0.27855809, 0.26072618,\n",
       "        0.29984177, 0.31601224, 0.32232136, 0.31875451, 0.28853371])}"
      ]
     },
     "execution_count": 77,
     "metadata": {},
     "output_type": "execute_result"
    }
   ],
   "source": [
    "# Calculs des metrics r² et mse\n",
    "svr_rbfCV_results = cross_validate(svr_rbf, X_train, y_train, cv=10, scoring={'R2':'r2', 'MSE': make_scorer(mean_squared_error)}, return_train_score=True)\n",
    "svr_rbfCV_results"
   ]
  },
  {
   "cell_type": "code",
   "execution_count": 78,
   "metadata": {},
   "outputs": [],
   "source": [
    "# On récupère les 10 valeurs r²\n",
    "svr_rbfCV_accuracies = svr_rbfCV_results['test_R2']\n",
    "\n",
    "# Intervalles de confiance\n",
    "svr_rbfCV_accuracy_interval = mean_confidence_interval(svr_rbfCV_accuracies, 0.96)\n",
    "\n",
    "# Récupération des 3 valeurs\n",
    "svr_rbfCV_accuracy = svr_rbfCV_accuracy_interval[0]\n",
    "svr_rbfCV_accuracy_low = svr_rbfCV_accuracy_interval[1]\n",
    "svr_rbfCV_accuracy_high = svr_rbfCV_accuracy_interval[2]"
   ]
  },
  {
   "cell_type": "code",
   "execution_count": 79,
   "metadata": {},
   "outputs": [],
   "source": [
    "# On récupère les 10 valeurs MSE\n",
    "svr_rbfCV_mses = svr_rbfCV_results['test_MSE']\n",
    "\n",
    "# On calcule les rmse\n",
    "svr_rbfCV_rmses = np.sqrt(svr_rbfCV_mses)\n",
    "\n",
    "# Intervalles de confiance\n",
    "svr_rbfCV_rmse_interval = mean_confidence_interval(svr_rbfCV_rmses, 0.96)\n",
    "\n",
    "# Récupération des 3 valeurs\n",
    "svr_rbfCV_rmse = svr_rbfCV_rmse_interval[0]\n",
    "svr_rbfCV_rmse_low = svr_rbfCV_rmse_interval[1]\n",
    "svr_rbfCV_rmse_high = svr_rbfCV_rmse_interval[2]"
   ]
  },
  {
   "cell_type": "code",
   "execution_count": 80,
   "metadata": {},
   "outputs": [
    {
     "data": {
      "text/plain": [
       "array([-0.46563235, -0.29278604, -0.45827783, ..., -0.38554376,\n",
       "        0.65312037,  0.1169791 ])"
      ]
     },
     "execution_count": 80,
     "metadata": {},
     "output_type": "execute_result"
    }
   ],
   "source": [
    "# Predictions\n",
    "svr_rbf_predictions_CV = cross_val_predict(svr_rbf, X_train, y_train, cv=10)\n",
    "svr_rbf_predictions_CV"
   ]
  },
  {
   "cell_type": "code",
   "execution_count": 81,
   "metadata": {},
   "outputs": [
    {
     "data": {
      "image/png": "[encoded data removed]",
      "text/plain": [
       "<Figure size 432x288 with 1 Axes>"
      ]
     },
     "metadata": {
      "needs_background": "light"
     },
     "output_type": "display_data"
    }
   ],
   "source": [
    "# Visualisation\n",
    "plt.scatter(y_train, svr_rbf_predictions_CV)\n",
    "plt.plot(y_test, y_test, color='r', label='ideal prediction')\n",
    "\n",
    "plt.title('SVR rbf - true values vs predicted values')\n",
    "plt.xlabel('True Values')\n",
    "plt.ylabel('Predictions')\n",
    "plt.axis('square')\n",
    "plt.legend()\n",
    "\n",
    "plt.savefig('02 - Graphs/01 - Modelisation conso energie/svr_rbf_actual_vs_predicted_CV.png', dpi=200, bbox_inches='tight')\n",
    "\n",
    "plt.show()"
   ]
  },
  {
   "cell_type": "markdown",
   "metadata": {},
   "source": [
    "***"
   ]
  },
  {
   "cell_type": "markdown",
   "metadata": {},
   "source": [
    "**SVR poly avec CV**"
   ]
  },
  {
   "cell_type": "code",
   "execution_count": 82,
   "metadata": {},
   "outputs": [],
   "source": [
    "# SVR poly\n",
    "svr_poly = SVR(kernel='poly', degree=2, gamma='auto')"
   ]
  },
  {
   "cell_type": "code",
   "execution_count": 83,
   "metadata": {},
   "outputs": [
    {
     "data": {
      "text/plain": [
       "{'fit_time': array([0.0469842 , 0.05298257, 0.04798508, 0.04498506, 0.04499459,\n",
       "        0.05298138, 0.0629797 , 0.05798054, 0.05498075, 0.05098271]),\n",
       " 'score_time': array([0.00300765, 0.002985  , 0.00199938, 0.00300336, 0.00299931,\n",
       "        0.00299907, 0.00399971, 0.00399852, 0.00652242, 0.00299883]),\n",
       " 'test_R2': array([0.51146235, 0.47097055, 0.72068884, 0.51064879, 0.41936239,\n",
       "        0.65473168, 0.45801987, 0.59390846, 0.72505068, 0.43868249]),\n",
       " 'train_R2': array([0.66041757, 0.66904556, 0.65537267, 0.67447   , 0.69805892,\n",
       "        0.66475247, 0.65248489, 0.66455993, 0.65314523, 0.68362037]),\n",
       " 'test_MSE': array([0.2505253 , 0.44637485, 0.30807318, 0.61538819, 0.91441979,\n",
       "        0.38427969, 0.45958811, 0.27851222, 0.23224078, 0.64395277]),\n",
       " 'train_MSE': array([0.35694009, 0.33669397, 0.34067751, 0.31612296, 0.28184157,\n",
       "        0.33103191, 0.35301111, 0.34706925, 0.35280565, 0.31085654])}"
      ]
     },
     "execution_count": 83,
     "metadata": {},
     "output_type": "execute_result"
    }
   ],
   "source": [
    "# Calculs des metrics r² et mse\n",
    "svr_polyCV_results = cross_validate(svr_poly, X_train, y_train, cv=10, scoring={'R2':'r2', 'MSE': make_scorer(mean_squared_error)}, return_train_score=True)\n",
    "svr_polyCV_results"
   ]
  },
  {
   "cell_type": "code",
   "execution_count": 84,
   "metadata": {},
   "outputs": [],
   "source": [
    "# On récupère les 10 valeurs r²\n",
    "svr_polyCV_accuracies = svr_polyCV_results['test_R2']\n",
    "\n",
    "# Intervalles de confiance\n",
    "svr_polyCV_accuracy_interval = mean_confidence_interval(svr_polyCV_accuracies, 0.96)\n",
    "\n",
    "# Récupération des 3 valeurs\n",
    "svr_polyCV_accuracy = svr_polyCV_accuracy_interval[0]\n",
    "svr_polyCV_accuracy_low = svr_polyCV_accuracy_interval[1]\n",
    "svr_polyCV_accuracy_high = svr_polyCV_accuracy_interval[2]"
   ]
  },
  {
   "cell_type": "code",
   "execution_count": 85,
   "metadata": {},
   "outputs": [],
   "source": [
    "# On récupère les 10 valeurs MSE\n",
    "svr_polyCV_mses = svr_polyCV_results['test_MSE']\n",
    "\n",
    "# On calcule les rmse\n",
    "svr_polyCV_rmses = np.sqrt(svr_polyCV_mses)\n",
    "\n",
    "# Intervalles de confiance\n",
    "svr_polyCV_rmse_interval = mean_confidence_interval(svr_polyCV_rmses, 0.96)\n",
    "\n",
    "# Récupération des 3 valeurs\n",
    "svr_polyCV_rmse = svr_polyCV_rmse_interval[0]\n",
    "svr_polyCV_rmse_low = svr_polyCV_rmse_interval[1]\n",
    "svr_polyCV_rmse_high = svr_polyCV_rmse_interval[2]"
   ]
  },
  {
   "cell_type": "code",
   "execution_count": 86,
   "metadata": {},
   "outputs": [
    {
     "data": {
      "text/plain": [
       "array([-0.42004439, -0.32491873, -0.44577173, ..., -0.42476567,\n",
       "        0.4289356 , -0.03499842])"
      ]
     },
     "execution_count": 86,
     "metadata": {},
     "output_type": "execute_result"
    }
   ],
   "source": [
    "# Predictions\n",
    "svr_poly_predictions_CV = cross_val_predict(svr_poly, X_train, y_train, cv=10)\n",
    "svr_poly_predictions_CV"
   ]
  },
  {
   "cell_type": "code",
   "execution_count": 87,
   "metadata": {},
   "outputs": [
    {
     "data": {
      "image/png": "[encoded data removed]",
      "text/plain": [
       "<Figure size 432x288 with 1 Axes>"
      ]
     },
     "metadata": {
      "needs_background": "light"
     },
     "output_type": "display_data"
    }
   ],
   "source": [
    "# Visualisation\n",
    "plt.scatter(y_train, svr_poly_predictions_CV)\n",
    "plt.plot(y_test, y_test, color='r', label='ideal prediction')\n",
    "\n",
    "plt.title('SVR poly - true values vs predicted values')\n",
    "plt.xlabel('True Values')\n",
    "plt.ylabel('Predictions')\n",
    "plt.axis('square')\n",
    "plt.legend()\n",
    "\n",
    "plt.savefig('02 - Graphs/01 - Modelisation conso energie/svr_poly_actual_vs_predicted_CV.png', dpi=200, bbox_inches='tight')\n",
    "\n",
    "plt.show()"
   ]
  },
  {
   "cell_type": "markdown",
   "metadata": {},
   "source": [
    "***"
   ]
  },
  {
   "cell_type": "code",
   "execution_count": 88,
   "metadata": {},
   "outputs": [
    {
     "name": "stdout",
     "output_type": "stream",
     "text": [
      "linear 0.619025348358382 0.617231440904964\n",
      "poly 0.5082541370036 0.7012459361710411\n",
      "rbf 0.47612803680410887 0.7237899993754342\n",
      "sigmoid -81.95309061797859 9.107858728481606\n"
     ]
    }
   ],
   "source": [
    "# Tout faire en une fois\n",
    "for k in ['linear','poly','rbf','sigmoid']:\n",
    "    clf = SVR(kernel=k, gamma='auto')\n",
    "    clf.fit(X_train, y_train)\n",
    "    #R²\n",
    "    confidence = clf.score(X_test, y_test)\n",
    "    # RMSE\n",
    "    pred = clf.predict(X_test)\n",
    "    rmse = np.sqrt(metrics.mean_squared_error(y_test, pred))\n",
    "    print(k,confidence, rmse)"
   ]
  },
  {
   "cell_type": "markdown",
   "metadata": {},
   "source": [
    "***"
   ]
  },
  {
   "cell_type": "code",
   "execution_count": 89,
   "metadata": {},
   "outputs": [
    {
     "data": {
      "text/html": [
       "<div>\n",
       "<style scoped>\n",
       "    .dataframe tbody tr th:only-of-type {\n",
       "        vertical-align: middle;\n",
       "    }\n",
       "\n",
       "    .dataframe tbody tr th {\n",
       "        vertical-align: top;\n",
       "    }\n",
       "\n",
       "    .dataframe thead th {\n",
       "        text-align: right;\n",
       "    }\n",
       "</style>\n",
       "<table border=\"1\" class=\"dataframe\">\n",
       "  <thead>\n",
       "    <tr style=\"text-align: right;\">\n",
       "      <th></th>\n",
       "      <th>Standardisation</th>\n",
       "      <th>Passage au log</th>\n",
       "      <th>EnergyStarScore</th>\n",
       "      <th>Model</th>\n",
       "      <th>Accuracy</th>\n",
       "      <th>Accuracy_low</th>\n",
       "      <th>Accuracy_high</th>\n",
       "      <th>RMSE</th>\n",
       "      <th>RMSE_low</th>\n",
       "      <th>RMSE_high</th>\n",
       "    </tr>\n",
       "  </thead>\n",
       "  <tbody>\n",
       "    <tr>\n",
       "      <th>0</th>\n",
       "      <td>oui</td>\n",
       "      <td>non</td>\n",
       "      <td>non</td>\n",
       "      <td>Regression linéaire</td>\n",
       "      <td>0.660955</td>\n",
       "      <td>0.600737</td>\n",
       "      <td>0.721174</td>\n",
       "      <td>0.574261</td>\n",
       "      <td>0.480780</td>\n",
       "      <td>0.667742</td>\n",
       "    </tr>\n",
       "    <tr>\n",
       "      <th>1</th>\n",
       "      <td>oui</td>\n",
       "      <td>non</td>\n",
       "      <td>non</td>\n",
       "      <td>Ridge</td>\n",
       "      <td>0.661858</td>\n",
       "      <td>0.603334</td>\n",
       "      <td>0.720383</td>\n",
       "      <td>0.573984</td>\n",
       "      <td>0.480990</td>\n",
       "      <td>0.666979</td>\n",
       "    </tr>\n",
       "    <tr>\n",
       "      <th>2</th>\n",
       "      <td>oui</td>\n",
       "      <td>non</td>\n",
       "      <td>non</td>\n",
       "      <td>Lasso</td>\n",
       "      <td>0.661881</td>\n",
       "      <td>0.601391</td>\n",
       "      <td>0.722372</td>\n",
       "      <td>0.573540</td>\n",
       "      <td>0.479588</td>\n",
       "      <td>0.667491</td>\n",
       "    </tr>\n",
       "    <tr>\n",
       "      <th>3</th>\n",
       "      <td>oui</td>\n",
       "      <td>non</td>\n",
       "      <td>non</td>\n",
       "      <td>SVR linear</td>\n",
       "      <td>0.659487</td>\n",
       "      <td>0.590355</td>\n",
       "      <td>0.728620</td>\n",
       "      <td>0.574637</td>\n",
       "      <td>0.474229</td>\n",
       "      <td>0.675045</td>\n",
       "    </tr>\n",
       "    <tr>\n",
       "      <th>4</th>\n",
       "      <td>oui</td>\n",
       "      <td>non</td>\n",
       "      <td>non</td>\n",
       "      <td>SVR rbf</td>\n",
       "      <td>0.598949</td>\n",
       "      <td>0.548509</td>\n",
       "      <td>0.649388</td>\n",
       "      <td>0.626312</td>\n",
       "      <td>0.535958</td>\n",
       "      <td>0.716666</td>\n",
       "    </tr>\n",
       "    <tr>\n",
       "      <th>5</th>\n",
       "      <td>oui</td>\n",
       "      <td>non</td>\n",
       "      <td>non</td>\n",
       "      <td>SVR poly</td>\n",
       "      <td>0.550353</td>\n",
       "      <td>0.482493</td>\n",
       "      <td>0.618212</td>\n",
       "      <td>0.657436</td>\n",
       "      <td>0.567374</td>\n",
       "      <td>0.747497</td>\n",
       "    </tr>\n",
       "  </tbody>\n",
       "</table>\n",
       "</div>"
      ],
      "text/plain": [
       "  Standardisation Passage au log EnergyStarScore                Model  \\\n",
       "0             oui            non             non  Regression linéaire   \n",
       "1             oui            non             non                Ridge   \n",
       "2             oui            non             non                Lasso   \n",
       "3             oui            non             non           SVR linear   \n",
       "4             oui            non             non              SVR rbf   \n",
       "5             oui            non             non             SVR poly   \n",
       "\n",
       "   Accuracy  Accuracy_low  Accuracy_high      RMSE  RMSE_low  RMSE_high  \n",
       "0  0.660955      0.600737       0.721174  0.574261  0.480780   0.667742  \n",
       "1  0.661858      0.603334       0.720383  0.573984  0.480990   0.666979  \n",
       "2  0.661881      0.601391       0.722372  0.573540  0.479588   0.667491  \n",
       "3  0.659487      0.590355       0.728620  0.574637  0.474229   0.675045  \n",
       "4  0.598949      0.548509       0.649388  0.626312  0.535958   0.716666  \n",
       "5  0.550353      0.482493       0.618212  0.657436  0.567374   0.747497  "
      ]
     },
     "execution_count": 89,
     "metadata": {},
     "output_type": "execute_result"
    }
   ],
   "source": [
    "# Ajoutons les résultats au dataframe\n",
    "model_results = model_results.append({'Standardisation': 'oui', 'Passage au log': 'non','EnergyStarScore':'non', 'Model': 'SVR linear', 'Accuracy': svr_linCV_accuracy, 'Accuracy_low': svr_linCV_accuracy_low, 'Accuracy_high': svr_linCV_accuracy_high ,'RMSE': svr_linCV_rmse, 'RMSE_low': svr_linCV_rmse_low , 'RMSE_high': svr_linCV_rmse_high}, ignore_index=True)\n",
    "model_results = model_results.append({'Standardisation': 'oui', 'Passage au log': 'non','EnergyStarScore':'non', 'Model': 'SVR rbf', 'Accuracy': svr_rbfCV_accuracy, 'Accuracy_low': svr_rbfCV_accuracy_low, 'Accuracy_high': svr_rbfCV_accuracy_high ,'RMSE': svr_rbfCV_rmse, 'RMSE_low': svr_rbfCV_rmse_low , 'RMSE_high': svr_rbfCV_rmse_high}, ignore_index=True)\n",
    "model_results = model_results.append({'Standardisation': 'oui', 'Passage au log': 'non','EnergyStarScore':'non', 'Model': 'SVR poly', 'Accuracy': svr_polyCV_accuracy, 'Accuracy_low': svr_polyCV_accuracy_low, 'Accuracy_high': svr_polyCV_accuracy_high ,'RMSE': svr_polyCV_rmse, 'RMSE_low': svr_polyCV_rmse_low , 'RMSE_high': svr_polyCV_rmse_high}, ignore_index=True)\n",
    "model_results"
   ]
  },
  {
   "cell_type": "markdown",
   "metadata": {},
   "source": [
    "<a class=\"anchor\" id=\"neural_network\"></a>\n",
    "***\n",
    "### 1.3.2. Neural Network (MLPRegressor)"
   ]
  },
  {
   "cell_type": "code",
   "execution_count": 90,
   "metadata": {},
   "outputs": [
    {
     "name": "stdout",
     "output_type": "stream",
     "text": [
      "identity 0.6221823836821097 0.6146687045212976\n",
      "logistic 0.661142690193178 0.5821145160591874\n",
      "tanh 0.7128869660475392 0.5358292955339983\n",
      "relu 0.7027385406953074 0.5452168919839998\n"
     ]
    }
   ],
   "source": [
    "# Testons la meilleure fonction d'activation\n",
    "\n",
    "from sklearn.neural_network import MLPRegressor\n",
    "\n",
    "for k in ['identity', 'logistic', 'tanh', 'relu']:\n",
    "    clf = MLPRegressor(random_state=0, activation=k, hidden_layer_sizes=16, max_iter=1000)\n",
    "    clf.fit(X_train, y_train)\n",
    "    #R²\n",
    "    confidence = clf.score(X_test, y_test)\n",
    "    # RMSE\n",
    "    pred = clf.predict(X_test)\n",
    "    rmse = np.sqrt(metrics.mean_squared_error(y_test, pred))\n",
    "    print(k,confidence, rmse)"
   ]
  },
  {
   "cell_type": "markdown",
   "metadata": {},
   "source": [
    "La fonction d'activation 'tanh' semble etre la meilleure."
   ]
  },
  {
   "cell_type": "markdown",
   "metadata": {},
   "source": [
    "**MLPRegressor tanh avec CV**"
   ]
  },
  {
   "cell_type": "code",
   "execution_count": 91,
   "metadata": {},
   "outputs": [],
   "source": [
    "# On entraine le modèle avec la meilleure fonction d'activation\n",
    "mlp = MLPRegressor(random_state=0, activation='tanh', hidden_layer_sizes=16, max_iter=1000)"
   ]
  },
  {
   "cell_type": "code",
   "execution_count": 92,
   "metadata": {},
   "outputs": [
    {
     "data": {
      "text/plain": [
       "{'fit_time': array([2.09232259, 1.4135406 , 1.91337967, 0.93669581, 0.93712783,\n",
       "        0.99123931, 1.10654569, 1.1177783 , 1.42054033, 1.49177837]),\n",
       " 'score_time': array([0.00099945, 0.00099969, 0.        , 0.00100017, 0.00099993,\n",
       "        0.00099921, 0.00099897, 0.00099945, 0.00199914, 0.00100088]),\n",
       " 'test_R2': array([0.68618704, 0.67728377, 0.74277417, 0.4145326 , 0.53643608,\n",
       "        0.7068573 , 0.63901519, 0.59559819, 0.61713731, 0.66167865]),\n",
       " 'train_R2': array([0.84500176, 0.83876856, 0.84810733, 0.82359816, 0.85831886,\n",
       "        0.82202572, 0.83030187, 0.83511591, 0.83520822, 0.84982552]),\n",
       " 'test_MSE': array([0.16092534, 0.27229563, 0.28371361, 0.73626001, 0.73004576,\n",
       "        0.32626447, 0.30610776, 0.27735334, 0.3233917 , 0.38812788]),\n",
       " 'train_MSE': array([0.16292093, 0.16402758, 0.1501518 , 0.17130426, 0.13224976,\n",
       "        0.17573632, 0.17238193, 0.17060036, 0.16761906, 0.14755286])}"
      ]
     },
     "execution_count": 92,
     "metadata": {},
     "output_type": "execute_result"
    }
   ],
   "source": [
    "# Calculs des metrics r² et mse\n",
    "mlpCV_results = cross_validate(mlp, X_train, y_train, cv=10, scoring={'R2':'r2', 'MSE': make_scorer(mean_squared_error)}, return_train_score=True)\n",
    "mlpCV_results"
   ]
  },
  {
   "cell_type": "code",
   "execution_count": 93,
   "metadata": {},
   "outputs": [],
   "source": [
    "# On récupère les 10 valeurs r²\n",
    "mlpCV_accuracies = mlpCV_results['test_R2']\n",
    "\n",
    "# Intervalles de confiance\n",
    "mlpCV_accuracy_interval = mean_confidence_interval(mlpCV_accuracies, 0.96)\n",
    "\n",
    "# Récupération des 3 valeurs\n",
    "mlpCV_accuracy = mlpCV_accuracy_interval[0]\n",
    "mlpCV_accuracy_low = mlpCV_accuracy_interval[1]\n",
    "mlpCV_accuracy_high = mlpCV_accuracy_interval[2]"
   ]
  },
  {
   "cell_type": "code",
   "execution_count": 94,
   "metadata": {},
   "outputs": [],
   "source": [
    "# On récupère les 10 valeurs MSE\n",
    "mlpCV_mses = mlpCV_results['test_MSE']\n",
    "\n",
    "# On calcule les rmse\n",
    "mlpCV_rmses = np.sqrt(mlpCV_mses)\n",
    "\n",
    "# Intervalles de confiance\n",
    "mlpCV_rmse_interval = mean_confidence_interval(mlpCV_rmses, 0.96)\n",
    "\n",
    "# Récupération des 3 valeurs\n",
    "mlpCV_rmse = mlpCV_rmse_interval[0]\n",
    "mlpCV_rmse_low = mlpCV_rmse_interval[1]\n",
    "mlpCV_rmse_high = mlpCV_rmse_interval[2]"
   ]
  },
  {
   "cell_type": "code",
   "execution_count": 95,
   "metadata": {},
   "outputs": [
    {
     "data": {
      "text/plain": [
       "array([-0.48180209,  0.20735285, -0.47970668, ..., -0.31229934,\n",
       "        1.12895541,  0.48417388])"
      ]
     },
     "execution_count": 95,
     "metadata": {},
     "output_type": "execute_result"
    }
   ],
   "source": [
    "# Predictions\n",
    "mlp_predictions_CV = cross_val_predict(mlp, X_train, y_train, cv=10)\n",
    "mlp_predictions_CV"
   ]
  },
  {
   "cell_type": "code",
   "execution_count": 96,
   "metadata": {},
   "outputs": [
    {
     "data": {
      "text/html": [
       "<div>\n",
       "<style scoped>\n",
       "    .dataframe tbody tr th:only-of-type {\n",
       "        vertical-align: middle;\n",
       "    }\n",
       "\n",
       "    .dataframe tbody tr th {\n",
       "        vertical-align: top;\n",
       "    }\n",
       "\n",
       "    .dataframe thead th {\n",
       "        text-align: right;\n",
       "    }\n",
       "</style>\n",
       "<table border=\"1\" class=\"dataframe\">\n",
       "  <thead>\n",
       "    <tr style=\"text-align: right;\">\n",
       "      <th></th>\n",
       "      <th>Standardisation</th>\n",
       "      <th>Passage au log</th>\n",
       "      <th>EnergyStarScore</th>\n",
       "      <th>Model</th>\n",
       "      <th>Accuracy</th>\n",
       "      <th>Accuracy_low</th>\n",
       "      <th>Accuracy_high</th>\n",
       "      <th>RMSE</th>\n",
       "      <th>RMSE_low</th>\n",
       "      <th>RMSE_high</th>\n",
       "    </tr>\n",
       "  </thead>\n",
       "  <tbody>\n",
       "    <tr>\n",
       "      <th>0</th>\n",
       "      <td>oui</td>\n",
       "      <td>non</td>\n",
       "      <td>non</td>\n",
       "      <td>Regression linéaire</td>\n",
       "      <td>0.660955</td>\n",
       "      <td>0.600737</td>\n",
       "      <td>0.721174</td>\n",
       "      <td>0.574261</td>\n",
       "      <td>0.480780</td>\n",
       "      <td>0.667742</td>\n",
       "    </tr>\n",
       "    <tr>\n",
       "      <th>1</th>\n",
       "      <td>oui</td>\n",
       "      <td>non</td>\n",
       "      <td>non</td>\n",
       "      <td>Ridge</td>\n",
       "      <td>0.661858</td>\n",
       "      <td>0.603334</td>\n",
       "      <td>0.720383</td>\n",
       "      <td>0.573984</td>\n",
       "      <td>0.480990</td>\n",
       "      <td>0.666979</td>\n",
       "    </tr>\n",
       "    <tr>\n",
       "      <th>2</th>\n",
       "      <td>oui</td>\n",
       "      <td>non</td>\n",
       "      <td>non</td>\n",
       "      <td>Lasso</td>\n",
       "      <td>0.661881</td>\n",
       "      <td>0.601391</td>\n",
       "      <td>0.722372</td>\n",
       "      <td>0.573540</td>\n",
       "      <td>0.479588</td>\n",
       "      <td>0.667491</td>\n",
       "    </tr>\n",
       "    <tr>\n",
       "      <th>3</th>\n",
       "      <td>oui</td>\n",
       "      <td>non</td>\n",
       "      <td>non</td>\n",
       "      <td>SVR linear</td>\n",
       "      <td>0.659487</td>\n",
       "      <td>0.590355</td>\n",
       "      <td>0.728620</td>\n",
       "      <td>0.574637</td>\n",
       "      <td>0.474229</td>\n",
       "      <td>0.675045</td>\n",
       "    </tr>\n",
       "    <tr>\n",
       "      <th>4</th>\n",
       "      <td>oui</td>\n",
       "      <td>non</td>\n",
       "      <td>non</td>\n",
       "      <td>SVR rbf</td>\n",
       "      <td>0.598949</td>\n",
       "      <td>0.548509</td>\n",
       "      <td>0.649388</td>\n",
       "      <td>0.626312</td>\n",
       "      <td>0.535958</td>\n",
       "      <td>0.716666</td>\n",
       "    </tr>\n",
       "    <tr>\n",
       "      <th>5</th>\n",
       "      <td>oui</td>\n",
       "      <td>non</td>\n",
       "      <td>non</td>\n",
       "      <td>SVR poly</td>\n",
       "      <td>0.550353</td>\n",
       "      <td>0.482493</td>\n",
       "      <td>0.618212</td>\n",
       "      <td>0.657436</td>\n",
       "      <td>0.567374</td>\n",
       "      <td>0.747497</td>\n",
       "    </tr>\n",
       "    <tr>\n",
       "      <th>6</th>\n",
       "      <td>oui</td>\n",
       "      <td>non</td>\n",
       "      <td>non</td>\n",
       "      <td>MLPRegressor</td>\n",
       "      <td>0.627750</td>\n",
       "      <td>0.571768</td>\n",
       "      <td>0.683732</td>\n",
       "      <td>0.601089</td>\n",
       "      <td>0.515339</td>\n",
       "      <td>0.686839</td>\n",
       "    </tr>\n",
       "  </tbody>\n",
       "</table>\n",
       "</div>"
      ],
      "text/plain": [
       "  Standardisation Passage au log EnergyStarScore                Model  \\\n",
       "0             oui            non             non  Regression linéaire   \n",
       "1             oui            non             non                Ridge   \n",
       "2             oui            non             non                Lasso   \n",
       "3             oui            non             non           SVR linear   \n",
       "4             oui            non             non              SVR rbf   \n",
       "5             oui            non             non             SVR poly   \n",
       "6             oui            non             non         MLPRegressor   \n",
       "\n",
       "   Accuracy  Accuracy_low  Accuracy_high      RMSE  RMSE_low  RMSE_high  \n",
       "0  0.660955      0.600737       0.721174  0.574261  0.480780   0.667742  \n",
       "1  0.661858      0.603334       0.720383  0.573984  0.480990   0.666979  \n",
       "2  0.661881      0.601391       0.722372  0.573540  0.479588   0.667491  \n",
       "3  0.659487      0.590355       0.728620  0.574637  0.474229   0.675045  \n",
       "4  0.598949      0.548509       0.649388  0.626312  0.535958   0.716666  \n",
       "5  0.550353      0.482493       0.618212  0.657436  0.567374   0.747497  \n",
       "6  0.627750      0.571768       0.683732  0.601089  0.515339   0.686839  "
      ]
     },
     "execution_count": 96,
     "metadata": {},
     "output_type": "execute_result"
    }
   ],
   "source": [
    "# Ajoutons les résultats au dataframe\n",
    "model_results = model_results.append({'Standardisation': 'oui', 'Passage au log': 'non','EnergyStarScore':'non', 'Model': 'MLPRegressor', 'Accuracy': mlpCV_accuracy, 'Accuracy_low': mlpCV_accuracy_low, 'Accuracy_high': mlpCV_accuracy_high ,'RMSE': mlpCV_rmse, 'RMSE_low': mlpCV_rmse_low , 'RMSE_high': mlpCV_rmse_high}, ignore_index=True)\n",
    "model_results"
   ]
  },
  {
   "cell_type": "markdown",
   "metadata": {},
   "source": [
    "***"
   ]
  },
  {
   "cell_type": "code",
   "execution_count": 97,
   "metadata": {},
   "outputs": [
    {
     "data": {
      "image/png": "[encoded data removed]",
      "text/plain": [
       "<Figure size 432x288 with 1 Axes>"
      ]
     },
     "metadata": {
      "needs_background": "light"
     },
     "output_type": "display_data"
    }
   ],
   "source": [
    "# Visualisation\n",
    "plt.scatter(y_train, mlp_predictions_CV)\n",
    "plt.plot(y_test, y_test, color='r', label='ideal prediction')\n",
    "\n",
    "plt.title('MLPRegressor - true values vs predicted values')\n",
    "plt.xlabel('True Values')\n",
    "plt.ylabel('Predictions')\n",
    "plt.axis('square')\n",
    "plt.legend()\n",
    "\n",
    "plt.savefig('02 - Graphs/01 - Modelisation conso energie/MLPRegressor_actual_vs_predicted_CV.png', dpi=200, bbox_inches='tight')\n",
    "\n",
    "plt.show()"
   ]
  },
  {
   "cell_type": "code",
   "execution_count": 98,
   "metadata": {},
   "outputs": [
    {
     "data": {
      "image/png": "[encoded data removed]",
      "text/plain": [
       "<Figure size 432x288 with 1 Axes>"
      ]
     },
     "metadata": {
      "needs_background": "light"
     },
     "output_type": "display_data"
    }
   ],
   "source": [
    "# Source: https://bigdata-madesimple.com/how-to-run-linear-regression-in-python-scikit-learn/\n",
    "plt.scatter(mlp_predictions_CV, y_train - mlp_predictions_CV, color='blue', s=20, alpha=0.5)\n",
    "\n",
    "plt.hlines(y=0, xmin=0, xmax =10)\n",
    "plt.grid(b=None)\n",
    "plt.title('MLPRegressor - Residual Plot')\n",
    "plt.ylabel('Residuals')\n",
    "plt.xlabel('Predicted')\n",
    "\n",
    "plt.savefig('02 - Graphs/01 - Modelisation conso energie/MLPRegressor_actual_vs_predicted_CV_2.png', dpi=200, bbox_inches='tight')\n",
    "plt.show()"
   ]
  },
  {
   "cell_type": "markdown",
   "metadata": {},
   "source": [
    "<a class=\"anchor\" id=\"methodes_ensemblistes\"></a>\n",
    "***\n",
    "## 1.4. Méthodes ensemblistes - Random Forest"
   ]
  },
  {
   "cell_type": "code",
   "execution_count": 99,
   "metadata": {},
   "outputs": [],
   "source": [
    "from sklearn.ensemble import RandomForestRegressor\n",
    "from sklearn.model_selection import GridSearchCV\n",
    "\n",
    "# Perform Grid-Search to find best parameters\n",
    "gsc = GridSearchCV(estimator=RandomForestRegressor(), param_grid={'max_depth': range(3,7), 'n_estimators': (10, 50, 100, 1000)}, cv=5, scoring='neg_mean_squared_error', verbose=0, n_jobs=-1)"
   ]
  },
  {
   "cell_type": "code",
   "execution_count": 100,
   "metadata": {},
   "outputs": [],
   "source": [
    "grid_result = gsc.fit(X_train, y_train)"
   ]
  },
  {
   "cell_type": "code",
   "execution_count": 101,
   "metadata": {},
   "outputs": [
    {
     "data": {
      "text/plain": [
       "{'max_depth': 6, 'n_estimators': 1000}"
      ]
     },
     "execution_count": 101,
     "metadata": {},
     "output_type": "execute_result"
    }
   ],
   "source": [
    "best_params = grid_result.best_params_\n",
    "best_params"
   ]
  },
  {
   "cell_type": "code",
   "execution_count": 102,
   "metadata": {},
   "outputs": [],
   "source": [
    "# Création du modèle avec les meilleurs paramètres\n",
    "rfr = RandomForestRegressor(max_depth=best_params[\"max_depth\"], n_estimators=best_params[\"n_estimators\"], random_state=False, verbose=False)"
   ]
  },
  {
   "cell_type": "markdown",
   "metadata": {},
   "source": [
    "**Random Forest Regressor avec CV**"
   ]
  },
  {
   "cell_type": "code",
   "execution_count": 103,
   "metadata": {},
   "outputs": [
    {
     "data": {
      "text/plain": [
       "{'fit_time': array([1.80583835, 1.79280329, 1.86528945, 1.87011099, 1.82010317,\n",
       "        1.81384182, 1.82120395, 1.7846694 , 1.84533548, 1.871665  ]),\n",
       " 'score_time': array([0.12494493, 0.06997728, 0.07197666, 0.08197761, 0.07097721,\n",
       "        0.07098055, 0.06997824, 0.07097721, 0.13695478, 0.0779748 ]),\n",
       " 'test_R2': array([0.71072507, 0.59324915, 0.72911179, 0.67714406, 0.53214403,\n",
       "        0.75419423, 0.78927603, 0.69582098, 0.79856071, 0.72368414]),\n",
       " 'train_R2': array([0.88894786, 0.90067535, 0.88849666, 0.8929269 , 0.8974658 ,\n",
       "        0.8919427 , 0.88986067, 0.89811547, 0.89180664, 0.88893733]),\n",
       " 'test_MSE': array([0.14834208, 0.34320083, 0.29878288, 0.40601052, 0.73680512,\n",
       "        0.27357902, 0.17868963, 0.20861693, 0.17014924, 0.31699415]),\n",
       " 'train_MSE': array([0.11672854, 0.10104718, 0.11022539, 0.10397895, 0.09570874,\n",
       "        0.10669852, 0.1118812 , 0.10541671, 0.11004959, 0.10912383])}"
      ]
     },
     "execution_count": 103,
     "metadata": {},
     "output_type": "execute_result"
    }
   ],
   "source": [
    "# Calculs des metrics r² et mse\n",
    "rfrCV_results = cross_validate(rfr, X_train, y_train, cv=10, scoring={'R2':'r2', 'MSE': make_scorer(mean_squared_error)}, return_train_score=True)\n",
    "rfrCV_results"
   ]
  },
  {
   "cell_type": "code",
   "execution_count": 104,
   "metadata": {},
   "outputs": [],
   "source": [
    "# On récupère les 10 valeurs r²\n",
    "rfrCV_accuracies = rfrCV_results['test_R2']\n",
    "\n",
    "# Intervalles de confiance\n",
    "rfrCV_accuracy_interval = mean_confidence_interval(rfrCV_accuracies, 0.96)\n",
    "\n",
    "# Récupération des 3 valeurs\n",
    "rfrCV_accuracy = rfrCV_accuracy_interval[0]\n",
    "rfrCV_accuracy_low = rfrCV_accuracy_interval[1]\n",
    "rfrCV_accuracy_high = rfrCV_accuracy_interval[2]"
   ]
  },
  {
   "cell_type": "code",
   "execution_count": 105,
   "metadata": {},
   "outputs": [],
   "source": [
    "# On récupère les 10 valeurs MSE\n",
    "rfrCV_mses = rfrCV_results['test_MSE']\n",
    "\n",
    "# On calcule les rmse\n",
    "rfrCV_rmses = np.sqrt(rfrCV_mses)\n",
    "\n",
    "# Intervalles de confiance\n",
    "rfrCV_rmse_interval = mean_confidence_interval(rfrCV_rmses, 0.96)\n",
    "\n",
    "# Récupération des 3 valeurs\n",
    "rfrCV_rmse = rfrCV_rmse_interval[0]\n",
    "rfrCV_rmse_low = rfrCV_rmse_interval[1]\n",
    "rfrCV_rmse_high = rfrCV_rmse_interval[2]"
   ]
  },
  {
   "cell_type": "code",
   "execution_count": 106,
   "metadata": {},
   "outputs": [
    {
     "data": {
      "text/plain": [
       "array([-0.46385054, -0.33666684, -0.46310259, ..., -0.21147477,\n",
       "        0.81518086,  0.10173674])"
      ]
     },
     "execution_count": 106,
     "metadata": {},
     "output_type": "execute_result"
    }
   ],
   "source": [
    "# Predictions\n",
    "rfr_predictions_CV = cross_val_predict(rfr, X_train, y_train, cv=10)\n",
    "rfr_predictions_CV"
   ]
  },
  {
   "cell_type": "code",
   "execution_count": 107,
   "metadata": {
    "scrolled": true
   },
   "outputs": [
    {
     "data": {
      "text/html": [
       "<div>\n",
       "<style scoped>\n",
       "    .dataframe tbody tr th:only-of-type {\n",
       "        vertical-align: middle;\n",
       "    }\n",
       "\n",
       "    .dataframe tbody tr th {\n",
       "        vertical-align: top;\n",
       "    }\n",
       "\n",
       "    .dataframe thead th {\n",
       "        text-align: right;\n",
       "    }\n",
       "</style>\n",
       "<table border=\"1\" class=\"dataframe\">\n",
       "  <thead>\n",
       "    <tr style=\"text-align: right;\">\n",
       "      <th></th>\n",
       "      <th>Standardisation</th>\n",
       "      <th>Passage au log</th>\n",
       "      <th>EnergyStarScore</th>\n",
       "      <th>Model</th>\n",
       "      <th>Accuracy</th>\n",
       "      <th>Accuracy_low</th>\n",
       "      <th>Accuracy_high</th>\n",
       "      <th>RMSE</th>\n",
       "      <th>RMSE_low</th>\n",
       "      <th>RMSE_high</th>\n",
       "    </tr>\n",
       "  </thead>\n",
       "  <tbody>\n",
       "    <tr>\n",
       "      <th>0</th>\n",
       "      <td>oui</td>\n",
       "      <td>non</td>\n",
       "      <td>non</td>\n",
       "      <td>Regression linéaire</td>\n",
       "      <td>0.660955</td>\n",
       "      <td>0.600737</td>\n",
       "      <td>0.721174</td>\n",
       "      <td>0.574261</td>\n",
       "      <td>0.480780</td>\n",
       "      <td>0.667742</td>\n",
       "    </tr>\n",
       "    <tr>\n",
       "      <th>1</th>\n",
       "      <td>oui</td>\n",
       "      <td>non</td>\n",
       "      <td>non</td>\n",
       "      <td>Ridge</td>\n",
       "      <td>0.661858</td>\n",
       "      <td>0.603334</td>\n",
       "      <td>0.720383</td>\n",
       "      <td>0.573984</td>\n",
       "      <td>0.480990</td>\n",
       "      <td>0.666979</td>\n",
       "    </tr>\n",
       "    <tr>\n",
       "      <th>2</th>\n",
       "      <td>oui</td>\n",
       "      <td>non</td>\n",
       "      <td>non</td>\n",
       "      <td>Lasso</td>\n",
       "      <td>0.661881</td>\n",
       "      <td>0.601391</td>\n",
       "      <td>0.722372</td>\n",
       "      <td>0.573540</td>\n",
       "      <td>0.479588</td>\n",
       "      <td>0.667491</td>\n",
       "    </tr>\n",
       "    <tr>\n",
       "      <th>3</th>\n",
       "      <td>oui</td>\n",
       "      <td>non</td>\n",
       "      <td>non</td>\n",
       "      <td>SVR linear</td>\n",
       "      <td>0.659487</td>\n",
       "      <td>0.590355</td>\n",
       "      <td>0.728620</td>\n",
       "      <td>0.574637</td>\n",
       "      <td>0.474229</td>\n",
       "      <td>0.675045</td>\n",
       "    </tr>\n",
       "    <tr>\n",
       "      <th>4</th>\n",
       "      <td>oui</td>\n",
       "      <td>non</td>\n",
       "      <td>non</td>\n",
       "      <td>SVR rbf</td>\n",
       "      <td>0.598949</td>\n",
       "      <td>0.548509</td>\n",
       "      <td>0.649388</td>\n",
       "      <td>0.626312</td>\n",
       "      <td>0.535958</td>\n",
       "      <td>0.716666</td>\n",
       "    </tr>\n",
       "    <tr>\n",
       "      <th>5</th>\n",
       "      <td>oui</td>\n",
       "      <td>non</td>\n",
       "      <td>non</td>\n",
       "      <td>SVR poly</td>\n",
       "      <td>0.550353</td>\n",
       "      <td>0.482493</td>\n",
       "      <td>0.618212</td>\n",
       "      <td>0.657436</td>\n",
       "      <td>0.567374</td>\n",
       "      <td>0.747497</td>\n",
       "    </tr>\n",
       "    <tr>\n",
       "      <th>6</th>\n",
       "      <td>oui</td>\n",
       "      <td>non</td>\n",
       "      <td>non</td>\n",
       "      <td>MLPRegressor</td>\n",
       "      <td>0.627750</td>\n",
       "      <td>0.571768</td>\n",
       "      <td>0.683732</td>\n",
       "      <td>0.601089</td>\n",
       "      <td>0.515339</td>\n",
       "      <td>0.686839</td>\n",
       "    </tr>\n",
       "    <tr>\n",
       "      <th>7</th>\n",
       "      <td>oui</td>\n",
       "      <td>non</td>\n",
       "      <td>non</td>\n",
       "      <td>Random Forest Regressor</td>\n",
       "      <td>0.700391</td>\n",
       "      <td>0.651487</td>\n",
       "      <td>0.749295</td>\n",
       "      <td>0.539118</td>\n",
       "      <td>0.457200</td>\n",
       "      <td>0.621037</td>\n",
       "    </tr>\n",
       "  </tbody>\n",
       "</table>\n",
       "</div>"
      ],
      "text/plain": [
       "  Standardisation Passage au log EnergyStarScore                    Model  \\\n",
       "0             oui            non             non      Regression linéaire   \n",
       "1             oui            non             non                    Ridge   \n",
       "2             oui            non             non                    Lasso   \n",
       "3             oui            non             non               SVR linear   \n",
       "4             oui            non             non                  SVR rbf   \n",
       "5             oui            non             non                 SVR poly   \n",
       "6             oui            non             non             MLPRegressor   \n",
       "7             oui            non             non  Random Forest Regressor   \n",
       "\n",
       "   Accuracy  Accuracy_low  Accuracy_high      RMSE  RMSE_low  RMSE_high  \n",
       "0  0.660955      0.600737       0.721174  0.574261  0.480780   0.667742  \n",
       "1  0.661858      0.603334       0.720383  0.573984  0.480990   0.666979  \n",
       "2  0.661881      0.601391       0.722372  0.573540  0.479588   0.667491  \n",
       "3  0.659487      0.590355       0.728620  0.574637  0.474229   0.675045  \n",
       "4  0.598949      0.548509       0.649388  0.626312  0.535958   0.716666  \n",
       "5  0.550353      0.482493       0.618212  0.657436  0.567374   0.747497  \n",
       "6  0.627750      0.571768       0.683732  0.601089  0.515339   0.686839  \n",
       "7  0.700391      0.651487       0.749295  0.539118  0.457200   0.621037  "
      ]
     },
     "execution_count": 107,
     "metadata": {},
     "output_type": "execute_result"
    }
   ],
   "source": [
    "# Ajoutons les résultats au dataframe\n",
    "model_results = model_results.append({'Standardisation': 'oui', 'Passage au log': 'non','EnergyStarScore':'non', 'Model': 'Random Forest Regressor', 'Accuracy': rfrCV_accuracy, 'Accuracy_low': rfrCV_accuracy_low, 'Accuracy_high': rfrCV_accuracy_high ,'RMSE': rfrCV_rmse, 'RMSE_low': rfrCV_rmse_low , 'RMSE_high': rfrCV_rmse_high}, ignore_index=True)\n",
    "model_results"
   ]
  },
  {
   "cell_type": "markdown",
   "metadata": {},
   "source": [
    "***"
   ]
  },
  {
   "cell_type": "code",
   "execution_count": 108,
   "metadata": {},
   "outputs": [
    {
     "data": {
      "image/png": "[encoded data removed]",
      "text/plain": [
       "<Figure size 432x288 with 1 Axes>"
      ]
     },
     "metadata": {
      "needs_background": "light"
     },
     "output_type": "display_data"
    }
   ],
   "source": [
    "# Visualisation\n",
    "plt.scatter(y_train, rfr_predictions_CV)\n",
    "plt.plot(y_test, y_test, color='r', label='ideal prediction')\n",
    "\n",
    "plt.title('Random Forest - true values vs predicted values')\n",
    "plt.xlabel('True Values')\n",
    "plt.ylabel('Predictions')\n",
    "plt.axis('square')\n",
    "plt.legend()\n",
    "\n",
    "plt.savefig('02 - Graphs/01 - Modelisation conso energie/RandomForest_actual_vs_predicted_CV.png', dpi=200, bbox_inches='tight')\n",
    "\n",
    "plt.show()"
   ]
  },
  {
   "cell_type": "code",
   "execution_count": 109,
   "metadata": {},
   "outputs": [
    {
     "data": {
      "image/png": "[encoded data removed]",
      "text/plain": [
       "<Figure size 432x288 with 1 Axes>"
      ]
     },
     "metadata": {
      "needs_background": "light"
     },
     "output_type": "display_data"
    }
   ],
   "source": [
    "# Source: https://bigdata-madesimple.com/how-to-run-linear-regression-in-python-scikit-learn/\n",
    "plt.scatter(rfr_predictions_CV, y_train - rfr_predictions_CV, color='blue', s=20, alpha=0.5)\n",
    "\n",
    "plt.hlines(y=0, xmin=0, xmax =10)\n",
    "plt.grid(b=None)\n",
    "plt.title('Random Forest - Residual Plot')\n",
    "plt.ylabel('Residuals')\n",
    "plt.xlabel('Predicted')\n",
    "\n",
    "plt.savefig('02 - Graphs/01 - Modelisation conso energie/Random Forest_actual_vs_predicted_CV_2.png', dpi=200, bbox_inches='tight')\n",
    "plt.show()"
   ]
  },
  {
   "cell_type": "markdown",
   "metadata": {},
   "source": [
    "<a class=\"anchor\" id=\"resultats\"></a>\n",
    "***\n",
    "# 2. Résultats"
   ]
  },
  {
   "cell_type": "markdown",
   "metadata": {},
   "source": [
    "<a class=\"anchor\" id=\"choix_modèle\"></a>\n",
    "***\n",
    "## 2.1. Choix du modèle"
   ]
  },
  {
   "cell_type": "code",
   "execution_count": 110,
   "metadata": {},
   "outputs": [
    {
     "data": {
      "text/html": [
       "<div>\n",
       "<style scoped>\n",
       "    .dataframe tbody tr th:only-of-type {\n",
       "        vertical-align: middle;\n",
       "    }\n",
       "\n",
       "    .dataframe tbody tr th {\n",
       "        vertical-align: top;\n",
       "    }\n",
       "\n",
       "    .dataframe thead th {\n",
       "        text-align: right;\n",
       "    }\n",
       "</style>\n",
       "<table border=\"1\" class=\"dataframe\">\n",
       "  <thead>\n",
       "    <tr style=\"text-align: right;\">\n",
       "      <th></th>\n",
       "      <th>Standardisation</th>\n",
       "      <th>Passage au log</th>\n",
       "      <th>EnergyStarScore</th>\n",
       "      <th>Model</th>\n",
       "      <th>Accuracy</th>\n",
       "      <th>Accuracy_low</th>\n",
       "      <th>Accuracy_high</th>\n",
       "      <th>RMSE</th>\n",
       "      <th>RMSE_low</th>\n",
       "      <th>RMSE_high</th>\n",
       "    </tr>\n",
       "  </thead>\n",
       "  <tbody>\n",
       "    <tr>\n",
       "      <th>0</th>\n",
       "      <td>oui</td>\n",
       "      <td>non</td>\n",
       "      <td>non</td>\n",
       "      <td>Regression linéaire</td>\n",
       "      <td>0.660955</td>\n",
       "      <td>0.600737</td>\n",
       "      <td>0.721174</td>\n",
       "      <td>0.574261</td>\n",
       "      <td>0.480780</td>\n",
       "      <td>0.667742</td>\n",
       "    </tr>\n",
       "    <tr>\n",
       "      <th>1</th>\n",
       "      <td>oui</td>\n",
       "      <td>non</td>\n",
       "      <td>non</td>\n",
       "      <td>Ridge</td>\n",
       "      <td>0.661858</td>\n",
       "      <td>0.603334</td>\n",
       "      <td>0.720383</td>\n",
       "      <td>0.573984</td>\n",
       "      <td>0.480990</td>\n",
       "      <td>0.666979</td>\n",
       "    </tr>\n",
       "    <tr>\n",
       "      <th>2</th>\n",
       "      <td>oui</td>\n",
       "      <td>non</td>\n",
       "      <td>non</td>\n",
       "      <td>Lasso</td>\n",
       "      <td>0.661881</td>\n",
       "      <td>0.601391</td>\n",
       "      <td>0.722372</td>\n",
       "      <td>0.573540</td>\n",
       "      <td>0.479588</td>\n",
       "      <td>0.667491</td>\n",
       "    </tr>\n",
       "    <tr>\n",
       "      <th>3</th>\n",
       "      <td>oui</td>\n",
       "      <td>non</td>\n",
       "      <td>non</td>\n",
       "      <td>SVR linear</td>\n",
       "      <td>0.659487</td>\n",
       "      <td>0.590355</td>\n",
       "      <td>0.728620</td>\n",
       "      <td>0.574637</td>\n",
       "      <td>0.474229</td>\n",
       "      <td>0.675045</td>\n",
       "    </tr>\n",
       "    <tr>\n",
       "      <th>4</th>\n",
       "      <td>oui</td>\n",
       "      <td>non</td>\n",
       "      <td>non</td>\n",
       "      <td>SVR rbf</td>\n",
       "      <td>0.598949</td>\n",
       "      <td>0.548509</td>\n",
       "      <td>0.649388</td>\n",
       "      <td>0.626312</td>\n",
       "      <td>0.535958</td>\n",
       "      <td>0.716666</td>\n",
       "    </tr>\n",
       "    <tr>\n",
       "      <th>5</th>\n",
       "      <td>oui</td>\n",
       "      <td>non</td>\n",
       "      <td>non</td>\n",
       "      <td>SVR poly</td>\n",
       "      <td>0.550353</td>\n",
       "      <td>0.482493</td>\n",
       "      <td>0.618212</td>\n",
       "      <td>0.657436</td>\n",
       "      <td>0.567374</td>\n",
       "      <td>0.747497</td>\n",
       "    </tr>\n",
       "    <tr>\n",
       "      <th>6</th>\n",
       "      <td>oui</td>\n",
       "      <td>non</td>\n",
       "      <td>non</td>\n",
       "      <td>MLPRegressor</td>\n",
       "      <td>0.627750</td>\n",
       "      <td>0.571768</td>\n",
       "      <td>0.683732</td>\n",
       "      <td>0.601089</td>\n",
       "      <td>0.515339</td>\n",
       "      <td>0.686839</td>\n",
       "    </tr>\n",
       "    <tr>\n",
       "      <th>7</th>\n",
       "      <td>oui</td>\n",
       "      <td>non</td>\n",
       "      <td>non</td>\n",
       "      <td>Random Forest Regressor</td>\n",
       "      <td>0.700391</td>\n",
       "      <td>0.651487</td>\n",
       "      <td>0.749295</td>\n",
       "      <td>0.539118</td>\n",
       "      <td>0.457200</td>\n",
       "      <td>0.621037</td>\n",
       "    </tr>\n",
       "  </tbody>\n",
       "</table>\n",
       "</div>"
      ],
      "text/plain": [
       "  Standardisation Passage au log EnergyStarScore                    Model  \\\n",
       "0             oui            non             non      Regression linéaire   \n",
       "1             oui            non             non                    Ridge   \n",
       "2             oui            non             non                    Lasso   \n",
       "3             oui            non             non               SVR linear   \n",
       "4             oui            non             non                  SVR rbf   \n",
       "5             oui            non             non                 SVR poly   \n",
       "6             oui            non             non             MLPRegressor   \n",
       "7             oui            non             non  Random Forest Regressor   \n",
       "\n",
       "   Accuracy  Accuracy_low  Accuracy_high      RMSE  RMSE_low  RMSE_high  \n",
       "0  0.660955      0.600737       0.721174  0.574261  0.480780   0.667742  \n",
       "1  0.661858      0.603334       0.720383  0.573984  0.480990   0.666979  \n",
       "2  0.661881      0.601391       0.722372  0.573540  0.479588   0.667491  \n",
       "3  0.659487      0.590355       0.728620  0.574637  0.474229   0.675045  \n",
       "4  0.598949      0.548509       0.649388  0.626312  0.535958   0.716666  \n",
       "5  0.550353      0.482493       0.618212  0.657436  0.567374   0.747497  \n",
       "6  0.627750      0.571768       0.683732  0.601089  0.515339   0.686839  \n",
       "7  0.700391      0.651487       0.749295  0.539118  0.457200   0.621037  "
      ]
     },
     "execution_count": 110,
     "metadata": {},
     "output_type": "execute_result"
    }
   ],
   "source": [
    "model_results"
   ]
  },
  {
   "cell_type": "code",
   "execution_count": 111,
   "metadata": {},
   "outputs": [
    {
     "data": {
      "image/png": "[encoded data removed]",
      "text/plain": [
       "<Figure size 432x288 with 1 Axes>"
      ]
     },
     "metadata": {
      "needs_background": "light"
     },
     "output_type": "display_data"
    }
   ],
   "source": [
    "# identifions visuellement les outliers défini dans les données\n",
    "sns.scatterplot(x=\"Accuracy\", y='RMSE', data=model_results)\n",
    "\n",
    "plt.grid(b=None)\n",
    "plt.title('Performances des différents modèles')\n",
    "plt.ylabel('RMSE')\n",
    "plt.xlabel('Accuracy')\n",
    "\n",
    "\n",
    "def label_point(x, y, val, ax):\n",
    "    a = pd.concat({'x': x, 'y': y, 'val': val}, axis=1)\n",
    "    for i, point in a.iterrows():\n",
    "        ax.text(point['x']+.02, point['y'], str(point['val']))\n",
    "\n",
    "label_point(model_results[\"Accuracy\"], model_results[\"RMSE\"], model_results['Model'], plt.gca()) \n",
    "\n",
    "\n",
    "plt.savefig('02 - Graphs/01 - Modelisation conso energie/Choix modele.png', dpi=200, bbox_inches='tight')\n",
    "plt.show()"
   ]
  },
  {
   "cell_type": "markdown",
   "metadata": {},
   "source": [
    "Ces resultats sont changeants a chaque fois que l'on relance le code."
   ]
  },
  {
   "cell_type": "code",
   "execution_count": 112,
   "metadata": {},
   "outputs": [],
   "source": [
    "# Calculons l'amplitude des intervalles\n",
    "model_results['Accuracy_interval'] = model_results['Accuracy_high'] - model_results['Accuracy_low']\n",
    "model_results['RMSE_interval'] = model_results['RMSE_high'] - model_results['RMSE_low']"
   ]
  },
  {
   "cell_type": "code",
   "execution_count": 113,
   "metadata": {},
   "outputs": [
    {
     "data": {
      "image/png": "[encoded data removed]",
      "text/plain": [
       "<Figure size 432x288 with 1 Axes>"
      ]
     },
     "metadata": {
      "needs_background": "light"
     },
     "output_type": "display_data"
    }
   ],
   "source": [
    "# Errorbar\n",
    "plt.errorbar(model_results['Accuracy'], model_results['RMSE'], xerr=model_results['Accuracy_interval']/2, yerr=model_results['RMSE_interval']/2, fmt='o', ecolor='grey' )\n",
    "\n",
    "plt.grid(b=None)\n",
    "plt.title('Variabilité des performances des différents modèles')\n",
    "plt.ylabel('RMSE')\n",
    "plt.xlabel('Accuracy')\n",
    "\n",
    "def label_point(x, y, val, ax):\n",
    "    a = pd.concat({'x': x, 'y': y, 'val': val}, axis=1)\n",
    "    for i, point in a.iterrows():\n",
    "        ax.text(point['x']+.02, point['y'], str(point['val']))\n",
    "\n",
    "label_point(model_results[\"Accuracy\"], model_results[\"RMSE\"], model_results['Model'], plt.gca()) \n",
    "\n",
    "\n",
    "plt.savefig('02 - Graphs/01 - Modelisation conso energie/Choix modele_2.png', dpi=200, bbox_inches='tight')\n",
    "plt.show()"
   ]
  },
  {
   "cell_type": "markdown",
   "metadata": {},
   "source": [
    "<a class=\"anchor\" id=\"generalisation\"></a>\n",
    "***\n",
    "## 2.2. Généralisation du modèle choisi"
   ]
  },
  {
   "cell_type": "markdown",
   "metadata": {},
   "source": [
    "Le modèle Random Forest Regressor est le meilleur modèle."
   ]
  },
  {
   "cell_type": "code",
   "execution_count": 114,
   "metadata": {},
   "outputs": [
    {
     "data": {
      "text/plain": [
       "{'max_depth': 6, 'n_estimators': 1000}"
      ]
     },
     "execution_count": 114,
     "metadata": {},
     "output_type": "execute_result"
    }
   ],
   "source": [
    "best_params"
   ]
  },
  {
   "cell_type": "code",
   "execution_count": 115,
   "metadata": {},
   "outputs": [
    {
     "data": {
      "text/plain": [
       "RandomForestRegressor(bootstrap=True, criterion='mse', max_depth=6,\n",
       "           max_features='auto', max_leaf_nodes=None,\n",
       "           min_impurity_decrease=0.0, min_impurity_split=None,\n",
       "           min_samples_leaf=1, min_samples_split=2,\n",
       "           min_weight_fraction_leaf=0.0, n_estimators=1000, n_jobs=None,\n",
       "           oob_score=False, random_state=False, verbose=False,\n",
       "           warm_start=False)"
      ]
     },
     "execution_count": 115,
     "metadata": {},
     "output_type": "execute_result"
    }
   ],
   "source": [
    "# Création du modèle avec les meilleurs paramètres\n",
    "rfr_gen = RandomForestRegressor(max_depth=best_params[\"max_depth\"], n_estimators=best_params[\"n_estimators\"], random_state=False, verbose=False)\n",
    "rfr_gen.fit(X_train, y_train)"
   ]
  },
  {
   "cell_type": "code",
   "execution_count": 116,
   "metadata": {},
   "outputs": [],
   "source": [
    "# Prédictions du modèle\n",
    "rfr_gen_y_pred = rfr_gen.predict(X_test)"
   ]
  },
  {
   "cell_type": "code",
   "execution_count": 117,
   "metadata": {},
   "outputs": [],
   "source": [
    "# Calculons les résidus \n",
    "residual = (y_test - rfr_gen_y_pred)"
   ]
  },
  {
   "cell_type": "code",
   "execution_count": 118,
   "metadata": {},
   "outputs": [
    {
     "data": {
      "text/html": [
       "<div>\n",
       "<style scoped>\n",
       "    .dataframe tbody tr th:only-of-type {\n",
       "        vertical-align: middle;\n",
       "    }\n",
       "\n",
       "    .dataframe tbody tr th {\n",
       "        vertical-align: top;\n",
       "    }\n",
       "\n",
       "    .dataframe thead th {\n",
       "        text-align: right;\n",
       "    }\n",
       "</style>\n",
       "<table border=\"1\" class=\"dataframe\">\n",
       "  <thead>\n",
       "    <tr style=\"text-align: right;\">\n",
       "      <th></th>\n",
       "      <th>Actual</th>\n",
       "      <th>Predicted</th>\n",
       "    </tr>\n",
       "  </thead>\n",
       "  <tbody>\n",
       "    <tr>\n",
       "      <th>0</th>\n",
       "      <td>-0.446998</td>\n",
       "      <td>-0.435184</td>\n",
       "    </tr>\n",
       "    <tr>\n",
       "      <th>1</th>\n",
       "      <td>-0.434414</td>\n",
       "      <td>-0.400337</td>\n",
       "    </tr>\n",
       "    <tr>\n",
       "      <th>2</th>\n",
       "      <td>-0.073730</td>\n",
       "      <td>-0.173436</td>\n",
       "    </tr>\n",
       "    <tr>\n",
       "      <th>3</th>\n",
       "      <td>-0.282654</td>\n",
       "      <td>-0.191984</td>\n",
       "    </tr>\n",
       "    <tr>\n",
       "      <th>4</th>\n",
       "      <td>-0.478554</td>\n",
       "      <td>-0.408074</td>\n",
       "    </tr>\n",
       "  </tbody>\n",
       "</table>\n",
       "</div>"
      ],
      "text/plain": [
       "     Actual  Predicted\n",
       "0 -0.446998  -0.435184\n",
       "1 -0.434414  -0.400337\n",
       "2 -0.073730  -0.173436\n",
       "3 -0.282654  -0.191984\n",
       "4 -0.478554  -0.408074"
      ]
     },
     "execution_count": 118,
     "metadata": {},
     "output_type": "execute_result"
    }
   ],
   "source": [
    "# Affichons les valeurs reelles VS les valeurs prédites\n",
    "actual_vs_predicted = pd.DataFrame({'Actual': y_test.flatten(), 'Predicted': rfr_gen_y_pred.flatten()})\n",
    "actual_vs_predicted.head()"
   ]
  },
  {
   "cell_type": "code",
   "execution_count": 119,
   "metadata": {},
   "outputs": [
    {
     "data": {
      "image/png": "[encoded data removed]",
      "text/plain": [
       "<Figure size 1152x720 with 1 Axes>"
      ]
     },
     "metadata": {
      "needs_background": "light"
     },
     "output_type": "display_data"
    }
   ],
   "source": [
    "# Visualisations des 25 premieres valeurs reelles vs prédites\n",
    "actual_vs_predicted.head(25).plot(kind='bar',figsize=(16,10))\n",
    "plt.title('Random Forest - Généralisation - Valeurs réelles vs valeurs prédites (25 premieres)')\n",
    "plt.savefig('02 - Graphs/01 - Modelisation conso energie/rfr_gen_actual_vs_predicted.png', dpi=200, bbox_inches='tight')\n",
    "plt.show()"
   ]
  },
  {
   "cell_type": "code",
   "execution_count": 120,
   "metadata": {},
   "outputs": [
    {
     "data": {
      "image/png": "[encoded data removed]",
      "text/plain": [
       "<Figure size 432x288 with 1 Axes>"
      ]
     },
     "metadata": {
      "needs_background": "light"
     },
     "output_type": "display_data"
    }
   ],
   "source": [
    "# Visualisation \n",
    "plt.scatter(y_test, rfr_gen_y_pred)\n",
    "plt.plot(y_test, y_test, color='r', label='ideal prediction')\n",
    "\n",
    "plt.title('Random Forest - généralisation - true values vs predicted values')\n",
    "plt.xlabel('True Values')\n",
    "plt.ylabel('Predictions')\n",
    "plt.axis('square')\n",
    "plt.legend()\n",
    "\n",
    "plt.savefig('02 - Graphs/01 - Modelisation conso energie/rfr_gen_actual_vs_predicted_2.png', dpi=200, bbox_inches='tight')\n",
    "\n",
    "plt.show()"
   ]
  },
  {
   "cell_type": "code",
   "execution_count": 121,
   "metadata": {},
   "outputs": [
    {
     "name": "stdout",
     "output_type": "stream",
     "text": [
      "Root Mean Squared Error: 0.5794059334602722\n"
     ]
    }
   ],
   "source": [
    "# RMSE\n",
    "rfr_gen_rmse = np.sqrt(metrics.mean_squared_error(y_test, rfr_gen_y_pred))\n",
    "print('Root Mean Squared Error:', rfr_gen_rmse)"
   ]
  },
  {
   "cell_type": "code",
   "execution_count": 122,
   "metadata": {},
   "outputs": [
    {
     "data": {
      "text/plain": [
       "0.6642887642710306"
      ]
     },
     "execution_count": 122,
     "metadata": {},
     "output_type": "execute_result"
    }
   ],
   "source": [
    "# R²\n",
    "rfr_gen_accuracy = rfr_gen.score(X_test, y_test)\n",
    "rfr_gen_accuracy"
   ]
  },
  {
   "cell_type": "code",
   "execution_count": 123,
   "metadata": {},
   "outputs": [
    {
     "data": {
      "image/png": "[encoded data removed]",
      "text/plain": [
       "<Figure size 432x288 with 1 Axes>"
      ]
     },
     "metadata": {
      "needs_background": "light"
     },
     "output_type": "display_data"
    }
   ],
   "source": [
    "# Source: https://bigdata-madesimple.com/how-to-run-linear-regression-in-python-scikit-learn/\n",
    "plt.scatter(rfr_gen_y_pred, y_test - rfr_gen_y_pred, color='blue', s=20, alpha=0.5)\n",
    "\n",
    "plt.hlines(y=0, xmin=0, xmax =6)\n",
    "plt.grid(b=None)\n",
    "plt.title('Random Forest - Residual Plot')\n",
    "plt.ylabel('Residuals')\n",
    "plt.xlabel('Predicted')\n",
    "\n",
    "plt.savefig('02 - Graphs/01 - Modelisation conso energie/rfr_gen_actual_vs_predicted_CV_3.png', dpi=200, bbox_inches='tight')\n",
    "plt.show()"
   ]
  },
  {
   "cell_type": "markdown",
   "metadata": {},
   "source": [
    "Residual plots are a good way to visualize the errors in your data. If you have done a good job then your data should be randomly scattered around line zero. If you see structure in your data, that means your model is not capturing some thing. Maye be there is a interaction between 2 variables that you are not considering, or may be you are measuring time dependent data. If you get some structure in your data, you should go back to your model and check whether you are doing a good job with your parameters."
   ]
  },
  {
   "cell_type": "code",
   "execution_count": 124,
   "metadata": {},
   "outputs": [
    {
     "data": {
      "text/html": [
       "<div>\n",
       "<style scoped>\n",
       "    .dataframe tbody tr th:only-of-type {\n",
       "        vertical-align: middle;\n",
       "    }\n",
       "\n",
       "    .dataframe tbody tr th {\n",
       "        vertical-align: top;\n",
       "    }\n",
       "\n",
       "    .dataframe thead th {\n",
       "        text-align: right;\n",
       "    }\n",
       "</style>\n",
       "<table border=\"1\" class=\"dataframe\">\n",
       "  <thead>\n",
       "    <tr style=\"text-align: right;\">\n",
       "      <th></th>\n",
       "      <th>Standardisation</th>\n",
       "      <th>Passage au log</th>\n",
       "      <th>EnergyStarScore</th>\n",
       "      <th>Model</th>\n",
       "      <th>Accuracy</th>\n",
       "      <th>Accuracy_low</th>\n",
       "      <th>Accuracy_high</th>\n",
       "      <th>RMSE</th>\n",
       "      <th>RMSE_low</th>\n",
       "      <th>RMSE_high</th>\n",
       "      <th>Accuracy_interval</th>\n",
       "      <th>RMSE_interval</th>\n",
       "    </tr>\n",
       "  </thead>\n",
       "  <tbody>\n",
       "    <tr>\n",
       "      <th>0</th>\n",
       "      <td>oui</td>\n",
       "      <td>non</td>\n",
       "      <td>non</td>\n",
       "      <td>Regression linéaire</td>\n",
       "      <td>0.660955</td>\n",
       "      <td>0.600737</td>\n",
       "      <td>0.721174</td>\n",
       "      <td>0.574261</td>\n",
       "      <td>0.480780</td>\n",
       "      <td>0.667742</td>\n",
       "      <td>0.120438</td>\n",
       "      <td>0.186962</td>\n",
       "    </tr>\n",
       "    <tr>\n",
       "      <th>1</th>\n",
       "      <td>oui</td>\n",
       "      <td>non</td>\n",
       "      <td>non</td>\n",
       "      <td>Ridge</td>\n",
       "      <td>0.661858</td>\n",
       "      <td>0.603334</td>\n",
       "      <td>0.720383</td>\n",
       "      <td>0.573984</td>\n",
       "      <td>0.480990</td>\n",
       "      <td>0.666979</td>\n",
       "      <td>0.117048</td>\n",
       "      <td>0.185989</td>\n",
       "    </tr>\n",
       "    <tr>\n",
       "      <th>2</th>\n",
       "      <td>oui</td>\n",
       "      <td>non</td>\n",
       "      <td>non</td>\n",
       "      <td>Lasso</td>\n",
       "      <td>0.661881</td>\n",
       "      <td>0.601391</td>\n",
       "      <td>0.722372</td>\n",
       "      <td>0.573540</td>\n",
       "      <td>0.479588</td>\n",
       "      <td>0.667491</td>\n",
       "      <td>0.120982</td>\n",
       "      <td>0.187903</td>\n",
       "    </tr>\n",
       "    <tr>\n",
       "      <th>3</th>\n",
       "      <td>oui</td>\n",
       "      <td>non</td>\n",
       "      <td>non</td>\n",
       "      <td>SVR linear</td>\n",
       "      <td>0.659487</td>\n",
       "      <td>0.590355</td>\n",
       "      <td>0.728620</td>\n",
       "      <td>0.574637</td>\n",
       "      <td>0.474229</td>\n",
       "      <td>0.675045</td>\n",
       "      <td>0.138265</td>\n",
       "      <td>0.200816</td>\n",
       "    </tr>\n",
       "    <tr>\n",
       "      <th>4</th>\n",
       "      <td>oui</td>\n",
       "      <td>non</td>\n",
       "      <td>non</td>\n",
       "      <td>SVR rbf</td>\n",
       "      <td>0.598949</td>\n",
       "      <td>0.548509</td>\n",
       "      <td>0.649388</td>\n",
       "      <td>0.626312</td>\n",
       "      <td>0.535958</td>\n",
       "      <td>0.716666</td>\n",
       "      <td>0.100880</td>\n",
       "      <td>0.180709</td>\n",
       "    </tr>\n",
       "    <tr>\n",
       "      <th>5</th>\n",
       "      <td>oui</td>\n",
       "      <td>non</td>\n",
       "      <td>non</td>\n",
       "      <td>SVR poly</td>\n",
       "      <td>0.550353</td>\n",
       "      <td>0.482493</td>\n",
       "      <td>0.618212</td>\n",
       "      <td>0.657436</td>\n",
       "      <td>0.567374</td>\n",
       "      <td>0.747497</td>\n",
       "      <td>0.135719</td>\n",
       "      <td>0.180123</td>\n",
       "    </tr>\n",
       "    <tr>\n",
       "      <th>6</th>\n",
       "      <td>oui</td>\n",
       "      <td>non</td>\n",
       "      <td>non</td>\n",
       "      <td>MLPRegressor</td>\n",
       "      <td>0.627750</td>\n",
       "      <td>0.571768</td>\n",
       "      <td>0.683732</td>\n",
       "      <td>0.601089</td>\n",
       "      <td>0.515339</td>\n",
       "      <td>0.686839</td>\n",
       "      <td>0.111965</td>\n",
       "      <td>0.171500</td>\n",
       "    </tr>\n",
       "    <tr>\n",
       "      <th>7</th>\n",
       "      <td>oui</td>\n",
       "      <td>non</td>\n",
       "      <td>non</td>\n",
       "      <td>Random Forest Regressor</td>\n",
       "      <td>0.700391</td>\n",
       "      <td>0.651487</td>\n",
       "      <td>0.749295</td>\n",
       "      <td>0.539118</td>\n",
       "      <td>0.457200</td>\n",
       "      <td>0.621037</td>\n",
       "      <td>0.097807</td>\n",
       "      <td>0.163837</td>\n",
       "    </tr>\n",
       "    <tr>\n",
       "      <th>8</th>\n",
       "      <td>oui</td>\n",
       "      <td>non</td>\n",
       "      <td>non</td>\n",
       "      <td>Random Forest Regressor Genéralisation</td>\n",
       "      <td>0.664289</td>\n",
       "      <td>NaN</td>\n",
       "      <td>NaN</td>\n",
       "      <td>0.579406</td>\n",
       "      <td>NaN</td>\n",
       "      <td>NaN</td>\n",
       "      <td>NaN</td>\n",
       "      <td>NaN</td>\n",
       "    </tr>\n",
       "  </tbody>\n",
       "</table>\n",
       "</div>"
      ],
      "text/plain": [
       "  Standardisation Passage au log EnergyStarScore  \\\n",
       "0             oui            non             non   \n",
       "1             oui            non             non   \n",
       "2             oui            non             non   \n",
       "3             oui            non             non   \n",
       "4             oui            non             non   \n",
       "5             oui            non             non   \n",
       "6             oui            non             non   \n",
       "7             oui            non             non   \n",
       "8             oui            non             non   \n",
       "\n",
       "                                    Model  Accuracy  Accuracy_low  \\\n",
       "0                     Regression linéaire  0.660955      0.600737   \n",
       "1                                   Ridge  0.661858      0.603334   \n",
       "2                                   Lasso  0.661881      0.601391   \n",
       "3                              SVR linear  0.659487      0.590355   \n",
       "4                                 SVR rbf  0.598949      0.548509   \n",
       "5                                SVR poly  0.550353      0.482493   \n",
       "6                            MLPRegressor  0.627750      0.571768   \n",
       "7                 Random Forest Regressor  0.700391      0.651487   \n",
       "8  Random Forest Regressor Genéralisation  0.664289           NaN   \n",
       "\n",
       "   Accuracy_high      RMSE  RMSE_low  RMSE_high  Accuracy_interval  \\\n",
       "0       0.721174  0.574261  0.480780   0.667742           0.120438   \n",
       "1       0.720383  0.573984  0.480990   0.666979           0.117048   \n",
       "2       0.722372  0.573540  0.479588   0.667491           0.120982   \n",
       "3       0.728620  0.574637  0.474229   0.675045           0.138265   \n",
       "4       0.649388  0.626312  0.535958   0.716666           0.100880   \n",
       "5       0.618212  0.657436  0.567374   0.747497           0.135719   \n",
       "6       0.683732  0.601089  0.515339   0.686839           0.111965   \n",
       "7       0.749295  0.539118  0.457200   0.621037           0.097807   \n",
       "8            NaN  0.579406       NaN        NaN                NaN   \n",
       "\n",
       "   RMSE_interval  \n",
       "0       0.186962  \n",
       "1       0.185989  \n",
       "2       0.187903  \n",
       "3       0.200816  \n",
       "4       0.180709  \n",
       "5       0.180123  \n",
       "6       0.171500  \n",
       "7       0.163837  \n",
       "8            NaN  "
      ]
     },
     "execution_count": 124,
     "metadata": {},
     "output_type": "execute_result"
    }
   ],
   "source": [
    "# Ajoutons les résultats au dataframe\n",
    "model_results = model_results.append({'Standardisation': 'oui', 'Passage au log': 'non','EnergyStarScore':'non', 'Model': 'Random Forest Regressor Genéralisation', 'Accuracy': rfr_gen_accuracy, 'RMSE': rfr_gen_rmse}, ignore_index=True)\n",
    "model_results"
   ]
  },
  {
   "cell_type": "markdown",
   "metadata": {},
   "source": [
    "Le modèle généralise bien (erreurs et r² de la mm grandeur entre train et test)"
   ]
  },
  {
   "cell_type": "markdown",
   "metadata": {},
   "source": [
    "***"
   ]
  },
  {
   "cell_type": "code",
   "execution_count": 125,
   "metadata": {},
   "outputs": [],
   "source": [
    "# Sauvegardes des résultats :\n",
    "model_results.to_excel(\"03 - Results/mod_results_energie.xlsx\")\n",
    "regressions_results.to_excel(\"03 - Results/regressions_results_energie.xlsx\")"
   ]
  },
  {
   "cell_type": "markdown",
   "metadata": {},
   "source": [
    "***"
   ]
  },
  {
   "cell_type": "code",
   "execution_count": 126,
   "metadata": {},
   "outputs": [
    {
     "name": "stdout",
     "output_type": "stream",
     "text": [
      "Variable                        Type                     Data/Info\n",
      "------------------------------------------------------------------\n",
      "GridSearchCV                    ABCMeta                  <class 'sklearn.model_sel<...>on._search.GridSearchCV'>\n",
      "KFold                           ABCMeta                  <class 'sklearn.model_selection._split.KFold'>\n",
      "Lasso                           ABCMeta                  <class 'sklearn.linear_mo<...>oordinate_descent.Lasso'>\n",
      "LinearRegression                ABCMeta                  <class 'sklearn.linear_mo<...>l.base.LinearRegression'>\n",
      "MLPRegressor                    ABCMeta                  <class 'sklearn.neural_ne<...>perceptron.MLPRegressor'>\n",
      "RandomForestRegressor           ABCMeta                  <class 'sklearn.ensemble.<...>t.RandomForestRegressor'>\n",
      "Ridge                           ABCMeta                  <class 'sklearn.linear_model.ridge.Ridge'>\n",
      "SVR                             ABCMeta                  <class 'sklearn.svm.classes.SVR'>\n",
      "StandardScaler                  type                     <class 'sklearn.preproces<...>ing.data.StandardScaler'>\n",
      "X                               ndarray                  1522x20: 30440 elems, type `float64`, 243520 bytes (237.8125 kb)\n",
      "X_test                          ndarray                  381x20: 7620 elems, type `float64`, 60960 bytes\n",
      "X_train                         ndarray                  1141x20: 22820 elems, type `float64`, 182560 bytes (178.28125 kb)\n",
      "a                               float64                  10000000000.0\n",
      "actual_vs_predicted             DataFrame                       Actual  Predicted\\<...>n\\n[381 rows x 2 columns]\n",
      "alphas                          ndarray                  200: 200 elems, type `float64`, 1600 bytes\n",
      "best_params                     dict                     n=2\n",
      "clf                             MLPRegressor             MLPRegressor(activation='<...>=False, warm_start=False)\n",
      "coefs                           list                     n=200\n",
      "confidence                      float64                  0.7027385406953074\n",
      "cross_val_predict               function                 <function cross_val_predi<...>ct at 0x000001986DFE7840>\n",
      "cross_validate                  function                 <function cross_validate at 0x000001986C9D71E0>\n",
      "data                            DataFrame                      OSEBuildingID      <...>n[1522 rows x 22 columns]\n",
      "df_temp                         DataFrame                      Hospital  Hotel  La<...>n[1522 rows x 14 columns]\n",
      "errors                          list                     n=200\n",
      "feature_cols                    list                     n=9\n",
      "grid_result                     GridSearchCV             GridSearchCV(cv=5, error_<...>quared_error', verbose=0)\n",
      "gsc                             GridSearchCV             GridSearchCV(cv=5, error_<...>quared_error', verbose=0)\n",
      "k                               str                      relu\n",
      "kf                              KFold                    KFold(n_splits=10, random<...>tate=None, shuffle=False)\n",
      "label_point                     function                 <function label_point at 0x000001986F9CF620>\n",
      "lasso                           Lasso                    Lasso(alpha=10000000000.0<...>0.0001, warm_start=False)\n",
      "lassoCV_accuracies              ndarray                  10: 10 elems, type `float64`, 80 bytes\n",
      "lassoCV_accuracy                float64                  0.6618813385693827\n",
      "lassoCV_accuracy_high           float64                  0.7223721538117602\n",
      "lassoCV_accuracy_interval       tuple                    n=3\n",
      "lassoCV_accuracy_low            float64                  0.6013905233270052\n",
      "lassoCV_mses                    ndarray                  10: 10 elems, type `float64`, 80 bytes\n",
      "lassoCV_results                 dict                     n=6\n",
      "lassoCV_rmse                    float64                  0.573539694755236\n",
      "lassoCV_rmse_high               float64                  0.6674911701697134\n",
      "lassoCV_rmse_interval           tuple                    n=3\n",
      "lassoCV_rmse_low                float64                  0.4795882193407587\n",
      "lassoCV_rmse_unscale            float64                  7946371.082082329\n",
      "lassoCV_rmses                   ndarray                  10: 10 elems, type `float64`, 80 bytes\n",
      "lasso_alpha                     float64                  0.0036543830709572546\n",
      "lasso_predictions_CV            ndarray                  1141: 1141 elems, type `float64`, 9128 bytes\n",
      "lasso_predictions_CV_unscale    ndarray                  1141: 1141 elems, type `float64`, 9128 bytes\n",
      "lasso_rmse                      float64                  0.6170894533829158\n",
      "linreg                          LinearRegression         LinearRegression(copy_X=T<...>         normalize=False)\n",
      "linregCV_accuracies             ndarray                  10: 10 elems, type `float64`, 80 bytes\n",
      "linregCV_accuracy               float64                  0.6609554645235916\n",
      "linregCV_accuracy_high          float64                  0.7211742852713632\n",
      "linregCV_accuracy_interval      tuple                    n=3\n",
      "linregCV_accuracy_low           float64                  0.6007366437758199\n",
      "linregCV_mses                   ndarray                  10: 10 elems, type `float64`, 80 bytes\n",
      "linregCV_results                dict                     n=6\n",
      "linregCV_rmse                   float64                  0.5742610352466966\n",
      "linregCV_rmse_high              float64                  0.6677422421861465\n",
      "linregCV_rmse_interval          tuple                    n=3\n",
      "linregCV_rmse_low               float64                  0.48077982830724664\n",
      "linregCV_rmse_unscale           float64                  7953118.173715276\n",
      "linregCV_rmses                  ndarray                  10: 10 elems, type `float64`, 80 bytes\n",
      "linreg_accuracy                 float64                  0.6175893253020373\n",
      "linreg_predictions_CV           ndarray                  1141: 1141 elems, type `float64`, 9128 bytes\n",
      "linreg_predictions_CV_unscale   ndarray                  1141: 1141 elems, type `float64`, 9128 bytes\n",
      "linreg_rmse                     float64                  0.6183936243995103\n",
      "linreg_y_pred                   ndarray                  381: 381 elems, type `float64`, 3048 bytes\n",
      "make_scorer                     function                 <function make_scorer at 0x000001986DFE7620>\n",
      "mean_confidence_interval        function                 <function mean_confidence<...>al at 0x0000019867D8AF28>\n",
      "mean_squared_error              function                 <function mean_squared_er<...>or at 0x000001986DFD6BF8>\n",
      "metrics                         module                   <module 'sklearn.metrics'<...>n\\\\metrics\\\\__init__.py'>\n",
      "mlp                             MLPRegressor             MLPRegressor(activation='<...>=False, warm_start=False)\n",
      "mlpCV_accuracies                ndarray                  10: 10 elems, type `float64`, 80 bytes\n",
      "mlpCV_accuracy                  float64                  0.627750030495583\n",
      "mlpCV_accuracy_high             float64                  0.6837324228297306\n",
      "mlpCV_accuracy_interval         tuple                    n=3\n",
      "mlpCV_accuracy_low              float64                  0.5717676381614354\n",
      "mlpCV_mses                      ndarray                  10: 10 elems, type `float64`, 80 bytes\n",
      "mlpCV_results                   dict                     n=6\n",
      "mlpCV_rmse                      float64                  0.60108890492264\n",
      "mlpCV_rmse_high                 float64                  0.6868390246898982\n",
      "mlpCV_rmse_interval             tuple                    n=3\n",
      "mlpCV_rmse_low                  float64                  0.5153387851553818\n",
      "mlpCV_rmses                     ndarray                  10: 10 elems, type `float64`, 80 bytes\n",
      "mlp_predictions_CV              ndarray                  1141: 1141 elems, type `float64`, 9128 bytes\n",
      "mod_data                        DataFrame                      Hospital  Hotel  La<...>n[1522 rows x 22 columns]\n",
      "model_results                   DataFrame                  Standardisation Passage<...>837  \\n8            NaN  \n",
      "n_alphas                        int                      200\n",
      "np                              module                   <module 'numpy' from 'C:\\<...>ges\\\\numpy\\\\__init__.py'>\n",
      "pd                              module                   <module 'pandas' from 'C:<...>es\\\\pandas\\\\__init__.py'>\n",
      "plt                             module                   <module 'matplotlib.pyplo<...>\\\\matplotlib\\\\pyplot.py'>\n",
      "pred                            ndarray                  381: 381 elems, type `float64`, 3048 bytes\n",
      "regressions_results             DataFrame                  Standardisation Passage<...>o  0.661881  7.946371e+06\n",
      "residual                        ndarray                  381: 381 elems, type `float64`, 3048 bytes\n",
      "rfr                             RandomForestRegressor    RandomForestRegressor(boo<...>        warm_start=False)\n",
      "rfrCV_accuracies                ndarray                  10: 10 elems, type `float64`, 80 bytes\n",
      "rfrCV_accuracy                  float64                  0.7003910185863933\n",
      "rfrCV_accuracy_high             float64                  0.7492947274595089\n",
      "rfrCV_accuracy_interval         tuple                    n=3\n",
      "rfrCV_accuracy_low              float64                  0.6514873097132777\n",
      "rfrCV_mses                      ndarray                  10: 10 elems, type `float64`, 80 bytes\n",
      "rfrCV_results                   dict                     n=6\n",
      "rfrCV_rmse                      float64                  0.5391183533443208\n",
      "rfrCV_rmse_high                 float64                  0.621037067983344\n",
      "rfrCV_rmse_interval             tuple                    n=3\n",
      "rfrCV_rmse_low                  float64                  0.45719963870529756\n",
      "rfrCV_rmses                     ndarray                  10: 10 elems, type `float64`, 80 bytes\n",
      "rfr_gen                         RandomForestRegressor    RandomForestRegressor(boo<...>        warm_start=False)\n",
      "rfr_gen_accuracy                float64                  0.6642887642710306\n",
      "rfr_gen_rmse                    float64                  0.5794059334602722\n",
      "rfr_gen_y_pred                  ndarray                  381: 381 elems, type `float64`, 3048 bytes\n",
      "rfr_predictions_CV              ndarray                  1141: 1141 elems, type `float64`, 9128 bytes\n",
      "ridge                           Ridge                    Ridge(alpha=100000.0, cop<...>solver='auto', tol=0.001)\n",
      "ridgeCV_accuracies              ndarray                  10: 10 elems, type `float64`, 80 bytes\n",
      "ridgeCV_accuracy                float64                  0.66185849207257\n",
      "ridgeCV_accuracy_high           float64                  0.7203825293906104\n",
      "ridgeCV_accuracy_interval       tuple                    n=3\n",
      "ridgeCV_accuracy_low            float64                  0.6033344547545295\n",
      "ridgeCV_mses                    ndarray                  10: 10 elems, type `float64`, 80 bytes\n",
      "ridgeCV_results                 dict                     n=6\n",
      "ridgeCV_rmse                    float64                  0.5739844475016881\n",
      "ridgeCV_rmse_high               float64                  0.6669789140245805\n",
      "ridgeCV_rmse_interval           tuple                    n=3\n",
      "ridgeCV_rmse_low                float64                  0.48098998097879564\n",
      "ridgeCV_rmse_unscale            float64                  7946889.838066978\n",
      "ridgeCV_rmses                   ndarray                  10: 10 elems, type `float64`, 80 bytes\n",
      "ridge_alpha                     float64                  24.09403560239527\n",
      "ridge_predictions_CV            ndarray                  1141: 1141 elems, type `float64`, 9128 bytes\n",
      "ridge_predictions_CV_unscale    ndarray                  1141: 1141 elems, type `float64`, 9128 bytes\n",
      "ridge_rmse                      float64                  0.6178515487268426\n",
      "rmse                            float64                  0.5452168919839998\n",
      "sc_X                            StandardScaler           StandardScaler(copy=True,<...>mean=True, with_std=True)\n",
      "sc_Y                            StandardScaler           StandardScaler(copy=True,<...>mean=True, with_std=True)\n",
      "seahawks_blue                   str                      #002244\n",
      "sns                             module                   <module 'seaborn' from 'C<...>s\\\\seaborn\\\\__init__.py'>\n",
      "svr_lin                         SVR                      SVR(C=1.0, cache_size=200<...>tol=0.001, verbose=False)\n",
      "svr_linCV_accuracies            ndarray                  10: 10 elems, type `float64`, 80 bytes\n",
      "svr_linCV_accuracy              float64                  0.6594871278019868\n",
      "svr_linCV_accuracy_high         float64                  0.7286195800573435\n",
      "svr_linCV_accuracy_interval     tuple                    n=3\n",
      "svr_linCV_accuracy_low          float64                  0.5903546755466301\n",
      "svr_linCV_mses                  ndarray                  10: 10 elems, type `float64`, 80 bytes\n",
      "svr_linCV_results               dict                     n=6\n",
      "svr_linCV_rmse                  float64                  0.5746365590932064\n",
      "svr_linCV_rmse_high             float64                  0.675044601185843\n",
      "svr_linCV_rmse_interval         tuple                    n=3\n",
      "svr_linCV_rmse_low              float64                  0.4742285170005699\n",
      "svr_linCV_rmses                 ndarray                  10: 10 elems, type `float64`, 80 bytes\n",
      "svr_lin_accuracy                float64                  0.619025348358382\n",
      "svr_lin_predictions_CV          ndarray                  1141: 1141 elems, type `float64`, 9128 bytes\n",
      "svr_lin_rmse                    float64                  0.617231440904964\n",
      "svr_lin_y_pred                  ndarray                  381: 381 elems, type `float64`, 3048 bytes\n",
      "svr_poly                        SVR                      SVR(C=1.0, cache_size=200<...>tol=0.001, verbose=False)\n",
      "svr_polyCV_accuracies           ndarray                  10: 10 elems, type `float64`, 80 bytes\n",
      "svr_polyCV_accuracy             float64                  0.5503526102860338\n",
      "svr_polyCV_accuracy_high        float64                  0.6182122978196984\n",
      "svr_polyCV_accuracy_interval    tuple                    n=3\n",
      "svr_polyCV_accuracy_low         float64                  0.4824929227523691\n",
      "svr_polyCV_mses                 ndarray                  10: 10 elems, type `float64`, 80 bytes\n",
      "svr_polyCV_results              dict                     n=6\n",
      "svr_polyCV_rmse                 float64                  0.6574356304593377\n",
      "svr_polyCV_rmse_high            float64                  0.747497321071833\n",
      "svr_polyCV_rmse_interval        tuple                    n=3\n",
      "svr_polyCV_rmse_low             float64                  0.5673739398468425\n",
      "svr_polyCV_rmses                ndarray                  10: 10 elems, type `float64`, 80 bytes\n",
      "svr_poly_predictions_CV         ndarray                  1141: 1141 elems, type `float64`, 9128 bytes\n",
      "svr_rbf                         SVR                      SVR(C=1.0, cache_size=200<...>tol=0.001, verbose=False)\n",
      "svr_rbfCV_accuracies            ndarray                  10: 10 elems, type `float64`, 80 bytes\n",
      "svr_rbfCV_accuracy              float64                  0.5989485619918394\n",
      "svr_rbfCV_accuracy_high         float64                  0.6493884673654837\n",
      "svr_rbfCV_accuracy_interval     tuple                    n=3\n",
      "svr_rbfCV_accuracy_low          float64                  0.5485086566181951\n",
      "svr_rbfCV_mses                  ndarray                  10: 10 elems, type `float64`, 80 bytes\n",
      "svr_rbfCV_results               dict                     n=6\n",
      "svr_rbfCV_rmse                  float64                  0.6263119843390413\n",
      "svr_rbfCV_rmse_high             float64                  0.7166663582346245\n",
      "svr_rbfCV_rmse_interval         tuple                    n=3\n",
      "svr_rbfCV_rmse_low              float64                  0.5359576104434581\n",
      "svr_rbfCV_rmses                 ndarray                  10: 10 elems, type `float64`, 80 bytes\n",
      "svr_rbf_predictions_CV          ndarray                  1141: 1141 elems, type `float64`, 9128 bytes\n",
      "train_test_split                function                 <function train_test_split at 0x000001986C9D70D0>\n",
      "y                               ndarray                  1522: 1522 elems, type `int64`, 12176 bytes\n",
      "y_test                          ndarray                  381: 381 elems, type `float64`, 3048 bytes\n",
      "y_train                         ndarray                  1141: 1141 elems, type `float64`, 9128 bytes\n",
      "y_train_unscale                 ndarray                  1141: 1141 elems, type `float64`, 9128 bytes\n"
     ]
    }
   ],
   "source": [
    "# Voir toutes les variables\n",
    "%whos "
   ]
  },
  {
   "cell_type": "markdown",
   "metadata": {},
   "source": [
    "***\n",
    "[Top de la page](#top)"
   ]
  }
 ],
 "metadata": {
  "kernelspec": {
   "display_name": "Python 3",
   "language": "python",
   "name": "python3"
  },
  "language_info": {
   "codemirror_mode": {
    "name": "ipython",
    "version": 3
   },
   "file_extension": ".py",
   "mimetype": "text/x-python",
   "name": "python",
   "nbconvert_exporter": "python",
   "pygments_lexer": "ipython3",
   "version": "3.7.3"
  },
  "toc": {
   "base_numbering": 1,
   "nav_menu": {},
   "number_sections": true,
   "sideBar": true,
   "skip_h1_title": false,
   "title_cell": "Table of Contents",
   "title_sidebar": "Contents",
   "toc_cell": false,
   "toc_position": {},
   "toc_section_display": true,
   "toc_window_display": false
  },
  "varInspector": {
   "cols": {
    "lenName": 16,
    "lenType": 16,
    "lenVar": 40
   },
   "kernels_config": {
    "python": {
     "delete_cmd_postfix": "",
     "delete_cmd_prefix": "del ",
     "library": "var_list.py",
     "varRefreshCmd": "print(var_dic_list())"
    },
    "r": {
     "delete_cmd_postfix": ") ",
     "delete_cmd_prefix": "rm(",
     "library": "var_list.r",
     "varRefreshCmd": "cat(var_dic_list()) "
    }
   },
   "types_to_exclude": [
    "module",
    "function",
    "builtin_function_or_method",
    "instance",
    "_Feature"
   ],
   "window_display": false
  }
 },
 "nbformat": 4,
 "nbformat_minor": 2
}
